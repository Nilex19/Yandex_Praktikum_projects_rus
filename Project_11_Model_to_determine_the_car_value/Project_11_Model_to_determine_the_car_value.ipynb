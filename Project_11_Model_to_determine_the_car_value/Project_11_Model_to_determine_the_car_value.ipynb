{
 "cells": [
  {
   "cell_type": "markdown",
   "metadata": {},
   "source": [
    "# Model to determine the car value "
   ]
  },
  {
   "cell_type": "markdown",
   "metadata": {},
   "source": [
    "Rusty Bargain used car sales service is developing an app to attract new customers. In that app, you can quickly find out the market value of your car. You have access to historical data: technical specifications, trim versions, and prices. You need to build the model to determine the value. \n",
    "\n",
    "Rusty Bargain is interested in:\n",
    "\n",
    "- the quality of the prediction;\n",
    "- the speed of the prediction;\n",
    "- the time required for training"
   ]
  },
  {
   "cell_type": "markdown",
   "metadata": {},
   "source": [
    "## 1. Data preparation"
   ]
  },
  {
   "cell_type": "markdown",
   "metadata": {},
   "source": [
    "### 1.1. Open the data file and study the general information"
   ]
  },
  {
   "cell_type": "code",
   "execution_count": 1,
   "metadata": {},
   "outputs": [
    {
     "name": "stderr",
     "output_type": "stream",
     "text": [
      "/opt/conda/lib/python3.7/site-packages/statsmodels/tools/_testing.py:19: FutureWarning: pandas.util.testing is deprecated. Use the functions in the public API at pandas.testing instead.\n",
      "  import pandas.util.testing as tm\n"
     ]
    }
   ],
   "source": [
    "# import libs\n",
    "import time\n",
    "import numpy as np\n",
    "import pandas as pd\n",
    "import matplotlib.pyplot as plt\n",
    "import seaborn as sns\n",
    "import lightgbm as lgb\n",
    "from xgboost import XGBRegressor\n",
    "from catboost import CatBoostRegressor\n",
    "from sklearn.linear_model import LinearRegression\n",
    "from sklearn.linear_model import Ridge\n",
    "from sklearn.tree import DecisionTreeRegressor\n",
    "from sklearn.ensemble import RandomForestRegressor\n",
    "from sklearn.ensemble import GradientBoostingRegressor\n",
    "from sklearn.metrics import mean_squared_error\n",
    "from sklearn.model_selection import GridSearchCV\n",
    "from sklearn.model_selection import RandomizedSearchCV\n",
    "from sklearn.model_selection import train_test_split\n",
    "from sklearn.preprocessing import StandardScaler\n",
    "%config InlineBackend.figure_format = 'retina'"
   ]
  },
  {
   "cell_type": "markdown",
   "metadata": {},
   "source": [
    "*Read the file and save it to the variable*"
   ]
  },
  {
   "cell_type": "code",
   "execution_count": 2,
   "metadata": {},
   "outputs": [],
   "source": [
    "df_cars = pd.read_csv('car_data.csv')"
   ]
  },
  {
   "cell_type": "markdown",
   "metadata": {},
   "source": [
    "*Print 5 first rows*"
   ]
  },
  {
   "cell_type": "code",
   "execution_count": 3,
   "metadata": {},
   "outputs": [
    {
     "data": {
      "text/html": [
       "<div>\n",
       "<style scoped>\n",
       "    .dataframe tbody tr th:only-of-type {\n",
       "        vertical-align: middle;\n",
       "    }\n",
       "\n",
       "    .dataframe tbody tr th {\n",
       "        vertical-align: top;\n",
       "    }\n",
       "\n",
       "    .dataframe thead th {\n",
       "        text-align: right;\n",
       "    }\n",
       "</style>\n",
       "<table border=\"1\" class=\"dataframe\">\n",
       "  <thead>\n",
       "    <tr style=\"text-align: right;\">\n",
       "      <th></th>\n",
       "      <th>DateCrawled</th>\n",
       "      <th>Price</th>\n",
       "      <th>VehicleType</th>\n",
       "      <th>RegistrationYear</th>\n",
       "      <th>Gearbox</th>\n",
       "      <th>Power</th>\n",
       "      <th>Model</th>\n",
       "      <th>Mileage</th>\n",
       "      <th>RegistrationMonth</th>\n",
       "      <th>FuelType</th>\n",
       "      <th>Brand</th>\n",
       "      <th>NotRepaired</th>\n",
       "      <th>DateCreated</th>\n",
       "      <th>NumberOfPictures</th>\n",
       "      <th>PostalCode</th>\n",
       "      <th>LastSeen</th>\n",
       "    </tr>\n",
       "  </thead>\n",
       "  <tbody>\n",
       "    <tr>\n",
       "      <th>0</th>\n",
       "      <td>24/03/2016 11:52</td>\n",
       "      <td>480</td>\n",
       "      <td>NaN</td>\n",
       "      <td>1993</td>\n",
       "      <td>manual</td>\n",
       "      <td>0</td>\n",
       "      <td>golf</td>\n",
       "      <td>150000</td>\n",
       "      <td>0</td>\n",
       "      <td>petrol</td>\n",
       "      <td>volkswagen</td>\n",
       "      <td>NaN</td>\n",
       "      <td>24/03/2016 00:00</td>\n",
       "      <td>0</td>\n",
       "      <td>70435</td>\n",
       "      <td>07/04/2016 03:16</td>\n",
       "    </tr>\n",
       "    <tr>\n",
       "      <th>1</th>\n",
       "      <td>24/03/2016 10:58</td>\n",
       "      <td>18300</td>\n",
       "      <td>coupe</td>\n",
       "      <td>2011</td>\n",
       "      <td>manual</td>\n",
       "      <td>190</td>\n",
       "      <td>NaN</td>\n",
       "      <td>125000</td>\n",
       "      <td>5</td>\n",
       "      <td>gasoline</td>\n",
       "      <td>audi</td>\n",
       "      <td>yes</td>\n",
       "      <td>24/03/2016 00:00</td>\n",
       "      <td>0</td>\n",
       "      <td>66954</td>\n",
       "      <td>07/04/2016 01:46</td>\n",
       "    </tr>\n",
       "    <tr>\n",
       "      <th>2</th>\n",
       "      <td>14/03/2016 12:52</td>\n",
       "      <td>9800</td>\n",
       "      <td>suv</td>\n",
       "      <td>2004</td>\n",
       "      <td>auto</td>\n",
       "      <td>163</td>\n",
       "      <td>grand</td>\n",
       "      <td>125000</td>\n",
       "      <td>8</td>\n",
       "      <td>gasoline</td>\n",
       "      <td>jeep</td>\n",
       "      <td>NaN</td>\n",
       "      <td>14/03/2016 00:00</td>\n",
       "      <td>0</td>\n",
       "      <td>90480</td>\n",
       "      <td>05/04/2016 12:47</td>\n",
       "    </tr>\n",
       "    <tr>\n",
       "      <th>3</th>\n",
       "      <td>17/03/2016 16:54</td>\n",
       "      <td>1500</td>\n",
       "      <td>small</td>\n",
       "      <td>2001</td>\n",
       "      <td>manual</td>\n",
       "      <td>75</td>\n",
       "      <td>golf</td>\n",
       "      <td>150000</td>\n",
       "      <td>6</td>\n",
       "      <td>petrol</td>\n",
       "      <td>volkswagen</td>\n",
       "      <td>no</td>\n",
       "      <td>17/03/2016 00:00</td>\n",
       "      <td>0</td>\n",
       "      <td>91074</td>\n",
       "      <td>17/03/2016 17:40</td>\n",
       "    </tr>\n",
       "    <tr>\n",
       "      <th>4</th>\n",
       "      <td>31/03/2016 17:25</td>\n",
       "      <td>3600</td>\n",
       "      <td>small</td>\n",
       "      <td>2008</td>\n",
       "      <td>manual</td>\n",
       "      <td>69</td>\n",
       "      <td>fabia</td>\n",
       "      <td>90000</td>\n",
       "      <td>7</td>\n",
       "      <td>gasoline</td>\n",
       "      <td>skoda</td>\n",
       "      <td>no</td>\n",
       "      <td>31/03/2016 00:00</td>\n",
       "      <td>0</td>\n",
       "      <td>60437</td>\n",
       "      <td>06/04/2016 10:17</td>\n",
       "    </tr>\n",
       "  </tbody>\n",
       "</table>\n",
       "</div>"
      ],
      "text/plain": [
       "        DateCrawled  Price VehicleType  RegistrationYear Gearbox  Power  \\\n",
       "0  24/03/2016 11:52    480         NaN              1993  manual      0   \n",
       "1  24/03/2016 10:58  18300       coupe              2011  manual    190   \n",
       "2  14/03/2016 12:52   9800         suv              2004    auto    163   \n",
       "3  17/03/2016 16:54   1500       small              2001  manual     75   \n",
       "4  31/03/2016 17:25   3600       small              2008  manual     69   \n",
       "\n",
       "   Model  Mileage  RegistrationMonth  FuelType       Brand NotRepaired  \\\n",
       "0   golf   150000                  0    petrol  volkswagen         NaN   \n",
       "1    NaN   125000                  5  gasoline        audi         yes   \n",
       "2  grand   125000                  8  gasoline        jeep         NaN   \n",
       "3   golf   150000                  6    petrol  volkswagen          no   \n",
       "4  fabia    90000                  7  gasoline       skoda          no   \n",
       "\n",
       "        DateCreated  NumberOfPictures  PostalCode          LastSeen  \n",
       "0  24/03/2016 00:00                 0       70435  07/04/2016 03:16  \n",
       "1  24/03/2016 00:00                 0       66954  07/04/2016 01:46  \n",
       "2  14/03/2016 00:00                 0       90480  05/04/2016 12:47  \n",
       "3  17/03/2016 00:00                 0       91074  17/03/2016 17:40  \n",
       "4  31/03/2016 00:00                 0       60437  06/04/2016 10:17  "
      ]
     },
     "execution_count": 3,
     "metadata": {},
     "output_type": "execute_result"
    }
   ],
   "source": [
    "df_cars.head()"
   ]
  },
  {
   "cell_type": "markdown",
   "metadata": {},
   "source": [
    "*Print 5 last rows*"
   ]
  },
  {
   "cell_type": "code",
   "execution_count": 4,
   "metadata": {
    "scrolled": false
   },
   "outputs": [
    {
     "data": {
      "text/html": [
       "<div>\n",
       "<style scoped>\n",
       "    .dataframe tbody tr th:only-of-type {\n",
       "        vertical-align: middle;\n",
       "    }\n",
       "\n",
       "    .dataframe tbody tr th {\n",
       "        vertical-align: top;\n",
       "    }\n",
       "\n",
       "    .dataframe thead th {\n",
       "        text-align: right;\n",
       "    }\n",
       "</style>\n",
       "<table border=\"1\" class=\"dataframe\">\n",
       "  <thead>\n",
       "    <tr style=\"text-align: right;\">\n",
       "      <th></th>\n",
       "      <th>DateCrawled</th>\n",
       "      <th>Price</th>\n",
       "      <th>VehicleType</th>\n",
       "      <th>RegistrationYear</th>\n",
       "      <th>Gearbox</th>\n",
       "      <th>Power</th>\n",
       "      <th>Model</th>\n",
       "      <th>Mileage</th>\n",
       "      <th>RegistrationMonth</th>\n",
       "      <th>FuelType</th>\n",
       "      <th>Brand</th>\n",
       "      <th>NotRepaired</th>\n",
       "      <th>DateCreated</th>\n",
       "      <th>NumberOfPictures</th>\n",
       "      <th>PostalCode</th>\n",
       "      <th>LastSeen</th>\n",
       "    </tr>\n",
       "  </thead>\n",
       "  <tbody>\n",
       "    <tr>\n",
       "      <th>354364</th>\n",
       "      <td>21/03/2016 09:50</td>\n",
       "      <td>0</td>\n",
       "      <td>NaN</td>\n",
       "      <td>2005</td>\n",
       "      <td>manual</td>\n",
       "      <td>0</td>\n",
       "      <td>colt</td>\n",
       "      <td>150000</td>\n",
       "      <td>7</td>\n",
       "      <td>petrol</td>\n",
       "      <td>mitsubishi</td>\n",
       "      <td>yes</td>\n",
       "      <td>21/03/2016 00:00</td>\n",
       "      <td>0</td>\n",
       "      <td>2694</td>\n",
       "      <td>21/03/2016 10:42</td>\n",
       "    </tr>\n",
       "    <tr>\n",
       "      <th>354365</th>\n",
       "      <td>14/03/2016 17:48</td>\n",
       "      <td>2200</td>\n",
       "      <td>NaN</td>\n",
       "      <td>2005</td>\n",
       "      <td>NaN</td>\n",
       "      <td>0</td>\n",
       "      <td>NaN</td>\n",
       "      <td>20000</td>\n",
       "      <td>1</td>\n",
       "      <td>NaN</td>\n",
       "      <td>sonstige_autos</td>\n",
       "      <td>NaN</td>\n",
       "      <td>14/03/2016 00:00</td>\n",
       "      <td>0</td>\n",
       "      <td>39576</td>\n",
       "      <td>06/04/2016 00:46</td>\n",
       "    </tr>\n",
       "    <tr>\n",
       "      <th>354366</th>\n",
       "      <td>05/03/2016 19:56</td>\n",
       "      <td>1199</td>\n",
       "      <td>convertible</td>\n",
       "      <td>2000</td>\n",
       "      <td>auto</td>\n",
       "      <td>101</td>\n",
       "      <td>fortwo</td>\n",
       "      <td>125000</td>\n",
       "      <td>3</td>\n",
       "      <td>petrol</td>\n",
       "      <td>smart</td>\n",
       "      <td>no</td>\n",
       "      <td>05/03/2016 00:00</td>\n",
       "      <td>0</td>\n",
       "      <td>26135</td>\n",
       "      <td>11/03/2016 18:17</td>\n",
       "    </tr>\n",
       "    <tr>\n",
       "      <th>354367</th>\n",
       "      <td>19/03/2016 18:57</td>\n",
       "      <td>9200</td>\n",
       "      <td>bus</td>\n",
       "      <td>1996</td>\n",
       "      <td>manual</td>\n",
       "      <td>102</td>\n",
       "      <td>transporter</td>\n",
       "      <td>150000</td>\n",
       "      <td>3</td>\n",
       "      <td>gasoline</td>\n",
       "      <td>volkswagen</td>\n",
       "      <td>no</td>\n",
       "      <td>19/03/2016 00:00</td>\n",
       "      <td>0</td>\n",
       "      <td>87439</td>\n",
       "      <td>07/04/2016 07:15</td>\n",
       "    </tr>\n",
       "    <tr>\n",
       "      <th>354368</th>\n",
       "      <td>20/03/2016 19:41</td>\n",
       "      <td>3400</td>\n",
       "      <td>wagon</td>\n",
       "      <td>2002</td>\n",
       "      <td>manual</td>\n",
       "      <td>100</td>\n",
       "      <td>golf</td>\n",
       "      <td>150000</td>\n",
       "      <td>6</td>\n",
       "      <td>gasoline</td>\n",
       "      <td>volkswagen</td>\n",
       "      <td>NaN</td>\n",
       "      <td>20/03/2016 00:00</td>\n",
       "      <td>0</td>\n",
       "      <td>40764</td>\n",
       "      <td>24/03/2016 12:45</td>\n",
       "    </tr>\n",
       "  </tbody>\n",
       "</table>\n",
       "</div>"
      ],
      "text/plain": [
       "             DateCrawled  Price  VehicleType  RegistrationYear Gearbox  Power  \\\n",
       "354364  21/03/2016 09:50      0          NaN              2005  manual      0   \n",
       "354365  14/03/2016 17:48   2200          NaN              2005     NaN      0   \n",
       "354366  05/03/2016 19:56   1199  convertible              2000    auto    101   \n",
       "354367  19/03/2016 18:57   9200          bus              1996  manual    102   \n",
       "354368  20/03/2016 19:41   3400        wagon              2002  manual    100   \n",
       "\n",
       "              Model  Mileage  RegistrationMonth  FuelType           Brand  \\\n",
       "354364         colt   150000                  7    petrol      mitsubishi   \n",
       "354365          NaN    20000                  1       NaN  sonstige_autos   \n",
       "354366       fortwo   125000                  3    petrol           smart   \n",
       "354367  transporter   150000                  3  gasoline      volkswagen   \n",
       "354368         golf   150000                  6  gasoline      volkswagen   \n",
       "\n",
       "       NotRepaired       DateCreated  NumberOfPictures  PostalCode  \\\n",
       "354364         yes  21/03/2016 00:00                 0        2694   \n",
       "354365         NaN  14/03/2016 00:00                 0       39576   \n",
       "354366          no  05/03/2016 00:00                 0       26135   \n",
       "354367          no  19/03/2016 00:00                 0       87439   \n",
       "354368         NaN  20/03/2016 00:00                 0       40764   \n",
       "\n",
       "                LastSeen  \n",
       "354364  21/03/2016 10:42  \n",
       "354365  06/04/2016 00:46  \n",
       "354366  11/03/2016 18:17  \n",
       "354367  07/04/2016 07:15  \n",
       "354368  24/03/2016 12:45  "
      ]
     },
     "execution_count": 4,
     "metadata": {},
     "output_type": "execute_result"
    }
   ],
   "source": [
    "df_cars.tail()"
   ]
  },
  {
   "cell_type": "markdown",
   "metadata": {},
   "source": [
    "Data description:  \n",
    "\n",
    "*Features*  \n",
    "- DateCrawled — date profile was downloaded from the database\n",
    "- VehicleType — vehicle body type\n",
    "- RegistrationYear — vehicle registration year\n",
    "- Gearbox — gearbox type\n",
    "- Power — power (hp)\n",
    "- Model — vehicle model\n",
    "- Mileage — mileage (measured in km due to dataset's regional specifics)\n",
    "- RegistrationMonth — vehicle registration month\n",
    "- FuelType — fuel type\n",
    "- Brand — vehicle brand\n",
    "- NotRepaired — vehicle repaired or not\n",
    "- DateCreated — date of profile creation\n",
    "- NumberOfPictures — number of vehicle pictures\n",
    "- PostalCode — postal code of profile owner (user)\n",
    "- LastSeen — date of the last activity of the user\n",
    "\n",
    "*Target*  \n",
    "Price — price (Euro)"
   ]
  },
  {
   "cell_type": "markdown",
   "metadata": {},
   "source": [
    "*Look at the general information of our dataset*"
   ]
  },
  {
   "cell_type": "code",
   "execution_count": 5,
   "metadata": {
    "scrolled": false
   },
   "outputs": [
    {
     "name": "stdout",
     "output_type": "stream",
     "text": [
      "<class 'pandas.core.frame.DataFrame'>\n",
      "RangeIndex: 354369 entries, 0 to 354368\n",
      "Data columns (total 16 columns):\n",
      " #   Column             Non-Null Count   Dtype \n",
      "---  ------             --------------   ----- \n",
      " 0   DateCrawled        354369 non-null  object\n",
      " 1   Price              354369 non-null  int64 \n",
      " 2   VehicleType        316879 non-null  object\n",
      " 3   RegistrationYear   354369 non-null  int64 \n",
      " 4   Gearbox            334536 non-null  object\n",
      " 5   Power              354369 non-null  int64 \n",
      " 6   Model              334664 non-null  object\n",
      " 7   Mileage            354369 non-null  int64 \n",
      " 8   RegistrationMonth  354369 non-null  int64 \n",
      " 9   FuelType           321474 non-null  object\n",
      " 10  Brand              354369 non-null  object\n",
      " 11  NotRepaired        283215 non-null  object\n",
      " 12  DateCreated        354369 non-null  object\n",
      " 13  NumberOfPictures   354369 non-null  int64 \n",
      " 14  PostalCode         354369 non-null  int64 \n",
      " 15  LastSeen           354369 non-null  object\n",
      "dtypes: int64(7), object(9)\n",
      "memory usage: 43.3+ MB\n"
     ]
    }
   ],
   "source": [
    "df_cars.info()"
   ]
  },
  {
   "cell_type": "markdown",
   "metadata": {},
   "source": [
    "*Look at the NAN values of our dataset*"
   ]
  },
  {
   "cell_type": "code",
   "execution_count": 6,
   "metadata": {},
   "outputs": [
    {
     "data": {
      "text/plain": [
       "DateCrawled           0.000000\n",
       "Price                 0.000000\n",
       "VehicleType          10.579368\n",
       "RegistrationYear      0.000000\n",
       "Gearbox               5.596709\n",
       "Power                 0.000000\n",
       "Model                 5.560588\n",
       "Mileage               0.000000\n",
       "RegistrationMonth     0.000000\n",
       "FuelType              9.282697\n",
       "Brand                 0.000000\n",
       "NotRepaired          20.079070\n",
       "DateCreated           0.000000\n",
       "NumberOfPictures      0.000000\n",
       "PostalCode            0.000000\n",
       "LastSeen              0.000000\n",
       "dtype: float64"
      ]
     },
     "execution_count": 6,
     "metadata": {},
     "output_type": "execute_result"
    }
   ],
   "source": [
    "df_cars.isnull().mean() * 100"
   ]
  },
  {
   "cell_type": "markdown",
   "metadata": {},
   "source": [
    "*Use describe() method for more information*"
   ]
  },
  {
   "cell_type": "markdown",
   "metadata": {},
   "source": [
    "Check the numeric values"
   ]
  },
  {
   "cell_type": "code",
   "execution_count": 7,
   "metadata": {},
   "outputs": [
    {
     "data": {
      "text/html": [
       "<div>\n",
       "<style scoped>\n",
       "    .dataframe tbody tr th:only-of-type {\n",
       "        vertical-align: middle;\n",
       "    }\n",
       "\n",
       "    .dataframe tbody tr th {\n",
       "        vertical-align: top;\n",
       "    }\n",
       "\n",
       "    .dataframe thead th {\n",
       "        text-align: right;\n",
       "    }\n",
       "</style>\n",
       "<table border=\"1\" class=\"dataframe\">\n",
       "  <thead>\n",
       "    <tr style=\"text-align: right;\">\n",
       "      <th></th>\n",
       "      <th>count</th>\n",
       "      <th>mean</th>\n",
       "      <th>std</th>\n",
       "      <th>min</th>\n",
       "      <th>25%</th>\n",
       "      <th>50%</th>\n",
       "      <th>75%</th>\n",
       "      <th>max</th>\n",
       "    </tr>\n",
       "  </thead>\n",
       "  <tbody>\n",
       "    <tr>\n",
       "      <th>Price</th>\n",
       "      <td>354369.0</td>\n",
       "      <td>4416.656776</td>\n",
       "      <td>4514.158514</td>\n",
       "      <td>0.0</td>\n",
       "      <td>1050.0</td>\n",
       "      <td>2700.0</td>\n",
       "      <td>6400.0</td>\n",
       "      <td>20000.0</td>\n",
       "    </tr>\n",
       "    <tr>\n",
       "      <th>RegistrationYear</th>\n",
       "      <td>354369.0</td>\n",
       "      <td>2004.234448</td>\n",
       "      <td>90.227958</td>\n",
       "      <td>1000.0</td>\n",
       "      <td>1999.0</td>\n",
       "      <td>2003.0</td>\n",
       "      <td>2008.0</td>\n",
       "      <td>9999.0</td>\n",
       "    </tr>\n",
       "    <tr>\n",
       "      <th>Power</th>\n",
       "      <td>354369.0</td>\n",
       "      <td>110.094337</td>\n",
       "      <td>189.850405</td>\n",
       "      <td>0.0</td>\n",
       "      <td>69.0</td>\n",
       "      <td>105.0</td>\n",
       "      <td>143.0</td>\n",
       "      <td>20000.0</td>\n",
       "    </tr>\n",
       "    <tr>\n",
       "      <th>Mileage</th>\n",
       "      <td>354369.0</td>\n",
       "      <td>128211.172535</td>\n",
       "      <td>37905.341530</td>\n",
       "      <td>5000.0</td>\n",
       "      <td>125000.0</td>\n",
       "      <td>150000.0</td>\n",
       "      <td>150000.0</td>\n",
       "      <td>150000.0</td>\n",
       "    </tr>\n",
       "    <tr>\n",
       "      <th>RegistrationMonth</th>\n",
       "      <td>354369.0</td>\n",
       "      <td>5.714645</td>\n",
       "      <td>3.726421</td>\n",
       "      <td>0.0</td>\n",
       "      <td>3.0</td>\n",
       "      <td>6.0</td>\n",
       "      <td>9.0</td>\n",
       "      <td>12.0</td>\n",
       "    </tr>\n",
       "    <tr>\n",
       "      <th>NumberOfPictures</th>\n",
       "      <td>354369.0</td>\n",
       "      <td>0.000000</td>\n",
       "      <td>0.000000</td>\n",
       "      <td>0.0</td>\n",
       "      <td>0.0</td>\n",
       "      <td>0.0</td>\n",
       "      <td>0.0</td>\n",
       "      <td>0.0</td>\n",
       "    </tr>\n",
       "    <tr>\n",
       "      <th>PostalCode</th>\n",
       "      <td>354369.0</td>\n",
       "      <td>50508.689087</td>\n",
       "      <td>25783.096248</td>\n",
       "      <td>1067.0</td>\n",
       "      <td>30165.0</td>\n",
       "      <td>49413.0</td>\n",
       "      <td>71083.0</td>\n",
       "      <td>99998.0</td>\n",
       "    </tr>\n",
       "  </tbody>\n",
       "</table>\n",
       "</div>"
      ],
      "text/plain": [
       "                      count           mean           std     min       25%  \\\n",
       "Price              354369.0    4416.656776   4514.158514     0.0    1050.0   \n",
       "RegistrationYear   354369.0    2004.234448     90.227958  1000.0    1999.0   \n",
       "Power              354369.0     110.094337    189.850405     0.0      69.0   \n",
       "Mileage            354369.0  128211.172535  37905.341530  5000.0  125000.0   \n",
       "RegistrationMonth  354369.0       5.714645      3.726421     0.0       3.0   \n",
       "NumberOfPictures   354369.0       0.000000      0.000000     0.0       0.0   \n",
       "PostalCode         354369.0   50508.689087  25783.096248  1067.0   30165.0   \n",
       "\n",
       "                        50%       75%       max  \n",
       "Price                2700.0    6400.0   20000.0  \n",
       "RegistrationYear     2003.0    2008.0    9999.0  \n",
       "Power                 105.0     143.0   20000.0  \n",
       "Mileage            150000.0  150000.0  150000.0  \n",
       "RegistrationMonth       6.0       9.0      12.0  \n",
       "NumberOfPictures        0.0       0.0       0.0  \n",
       "PostalCode          49413.0   71083.0   99998.0  "
      ]
     },
     "execution_count": 7,
     "metadata": {},
     "output_type": "execute_result"
    }
   ],
   "source": [
    "df_cars.describe().T # use describe() method"
   ]
  },
  {
   "cell_type": "markdown",
   "metadata": {},
   "source": [
    "Check the quantitative values"
   ]
  },
  {
   "cell_type": "code",
   "execution_count": 8,
   "metadata": {
    "scrolled": false
   },
   "outputs": [
    {
     "data": {
      "text/html": [
       "<div>\n",
       "<style scoped>\n",
       "    .dataframe tbody tr th:only-of-type {\n",
       "        vertical-align: middle;\n",
       "    }\n",
       "\n",
       "    .dataframe tbody tr th {\n",
       "        vertical-align: top;\n",
       "    }\n",
       "\n",
       "    .dataframe thead th {\n",
       "        text-align: right;\n",
       "    }\n",
       "</style>\n",
       "<table border=\"1\" class=\"dataframe\">\n",
       "  <thead>\n",
       "    <tr style=\"text-align: right;\">\n",
       "      <th></th>\n",
       "      <th>DateCrawled</th>\n",
       "      <th>VehicleType</th>\n",
       "      <th>Gearbox</th>\n",
       "      <th>Model</th>\n",
       "      <th>FuelType</th>\n",
       "      <th>Brand</th>\n",
       "      <th>NotRepaired</th>\n",
       "      <th>DateCreated</th>\n",
       "      <th>LastSeen</th>\n",
       "    </tr>\n",
       "  </thead>\n",
       "  <tbody>\n",
       "    <tr>\n",
       "      <th>count</th>\n",
       "      <td>354369</td>\n",
       "      <td>316879</td>\n",
       "      <td>334536</td>\n",
       "      <td>334664</td>\n",
       "      <td>321474</td>\n",
       "      <td>354369</td>\n",
       "      <td>283215</td>\n",
       "      <td>354369</td>\n",
       "      <td>354369</td>\n",
       "    </tr>\n",
       "    <tr>\n",
       "      <th>unique</th>\n",
       "      <td>15470</td>\n",
       "      <td>8</td>\n",
       "      <td>2</td>\n",
       "      <td>250</td>\n",
       "      <td>7</td>\n",
       "      <td>40</td>\n",
       "      <td>2</td>\n",
       "      <td>109</td>\n",
       "      <td>18592</td>\n",
       "    </tr>\n",
       "    <tr>\n",
       "      <th>top</th>\n",
       "      <td>05/03/2016 14:25</td>\n",
       "      <td>sedan</td>\n",
       "      <td>manual</td>\n",
       "      <td>golf</td>\n",
       "      <td>petrol</td>\n",
       "      <td>volkswagen</td>\n",
       "      <td>no</td>\n",
       "      <td>03/04/2016 00:00</td>\n",
       "      <td>07/04/2016 07:16</td>\n",
       "    </tr>\n",
       "    <tr>\n",
       "      <th>freq</th>\n",
       "      <td>66</td>\n",
       "      <td>91457</td>\n",
       "      <td>268251</td>\n",
       "      <td>29232</td>\n",
       "      <td>216352</td>\n",
       "      <td>77013</td>\n",
       "      <td>247161</td>\n",
       "      <td>13719</td>\n",
       "      <td>654</td>\n",
       "    </tr>\n",
       "  </tbody>\n",
       "</table>\n",
       "</div>"
      ],
      "text/plain": [
       "             DateCrawled VehicleType Gearbox   Model FuelType       Brand  \\\n",
       "count             354369      316879  334536  334664   321474      354369   \n",
       "unique             15470           8       2     250        7          40   \n",
       "top     05/03/2016 14:25       sedan  manual    golf   petrol  volkswagen   \n",
       "freq                  66       91457  268251   29232   216352       77013   \n",
       "\n",
       "       NotRepaired       DateCreated          LastSeen  \n",
       "count       283215            354369            354369  \n",
       "unique           2               109             18592  \n",
       "top             no  03/04/2016 00:00  07/04/2016 07:16  \n",
       "freq        247161             13719               654  "
      ]
     },
     "execution_count": 8,
     "metadata": {},
     "output_type": "execute_result"
    }
   ],
   "source": [
    "df_cars.describe(include='object')"
   ]
  },
  {
   "cell_type": "markdown",
   "metadata": {},
   "source": [
    "Look at zeros prices"
   ]
  },
  {
   "cell_type": "code",
   "execution_count": 9,
   "metadata": {},
   "outputs": [
    {
     "data": {
      "text/plain": [
       "10772"
      ]
     },
     "execution_count": 9,
     "metadata": {},
     "output_type": "execute_result"
    }
   ],
   "source": [
    "(df_cars['Price'] == 0).sum()"
   ]
  },
  {
   "cell_type": "code",
   "execution_count": 10,
   "metadata": {},
   "outputs": [
    {
     "data": {
      "image/png": "[encoded data removed]",
      "text/plain": [
       "<Figure size 432x288 with 1 Axes>"
      ]
     },
     "metadata": {
      "image/png": {
       "height": 248,
       "width": 395
      },
      "needs_background": "light"
     },
     "output_type": "display_data"
    }
   ],
   "source": [
    "df_cars['Price'].hist();"
   ]
  },
  {
   "cell_type": "markdown",
   "metadata": {},
   "source": [
    "### Conclusion"
   ]
  },
  {
   "cell_type": "markdown",
   "metadata": {},
   "source": [
    "We have the dataframe with 354369 rows and 16 columns:\n",
    "- We have missing values. So we need to them.\n",
    "- We have only 0's in 'NumberOfPictures'. And we don't need 'DateCrawled', 'DateCreated', 'LastSeen','RegistrationMonth', 'Power'. Drop these columns.\n",
    "- We have zeros in \"Price\" column. Drop it."
   ]
  },
  {
   "cell_type": "markdown",
   "metadata": {},
   "source": [
    "### 1.2. Data preprocessing"
   ]
  },
  {
   "cell_type": "markdown",
   "metadata": {},
   "source": [
    "*Drop NaN and zeros*"
   ]
  },
  {
   "cell_type": "code",
   "execution_count": 11,
   "metadata": {},
   "outputs": [],
   "source": [
    "df_cars['Price'].replace(0, np.nan, inplace=True)\n",
    "df_cars.dropna(inplace=True)"
   ]
  },
  {
   "cell_type": "markdown",
   "metadata": {},
   "source": [
    "*Drop 'NumberOfPictures', 'Power', 'DateCrawled', 'DateCreated', 'RegistrationMonth', 'LastSeen' columns*"
   ]
  },
  {
   "cell_type": "code",
   "execution_count": 12,
   "metadata": {},
   "outputs": [],
   "source": [
    "df_cars.drop(columns=['NumberOfPictures', 'Power', 'DateCrawled', 'DateCreated', 'RegistrationMonth', 'LastSeen'], inplace=True)"
   ]
  },
  {
   "cell_type": "markdown",
   "metadata": {},
   "source": [
    "*Check the duplicates*"
   ]
  },
  {
   "cell_type": "code",
   "execution_count": 13,
   "metadata": {},
   "outputs": [
    {
     "data": {
      "text/plain": [
       "20210"
      ]
     },
     "execution_count": 13,
     "metadata": {},
     "output_type": "execute_result"
    }
   ],
   "source": [
    "# check the duplicates\n",
    "df_cars.duplicated().sum()"
   ]
  },
  {
   "cell_type": "markdown",
   "metadata": {},
   "source": [
    "*Drop duplicates*"
   ]
  },
  {
   "cell_type": "code",
   "execution_count": 14,
   "metadata": {},
   "outputs": [],
   "source": [
    "df_cars.drop_duplicates(inplace = True)"
   ]
  },
  {
   "cell_type": "markdown",
   "metadata": {},
   "source": [
    "*Check the values*"
   ]
  },
  {
   "cell_type": "code",
   "execution_count": 15,
   "metadata": {},
   "outputs": [
    {
     "data": {
      "text/plain": [
       "222218"
      ]
     },
     "execution_count": 15,
     "metadata": {},
     "output_type": "execute_result"
    }
   ],
   "source": [
    "df_cars.shape[0]"
   ]
  },
  {
   "cell_type": "markdown",
   "metadata": {},
   "source": [
    "*Check the values*"
   ]
  },
  {
   "cell_type": "code",
   "execution_count": 16,
   "metadata": {
    "scrolled": true
   },
   "outputs": [
    {
     "name": "stdout",
     "output_type": "stream",
     "text": [
      "<class 'pandas.core.frame.DataFrame'>\n",
      "Int64Index: 222218 entries, 3 to 354367\n",
      "Data columns (total 10 columns):\n",
      " #   Column            Non-Null Count   Dtype  \n",
      "---  ------            --------------   -----  \n",
      " 0   Price             222218 non-null  float64\n",
      " 1   VehicleType       222218 non-null  object \n",
      " 2   RegistrationYear  222218 non-null  int64  \n",
      " 3   Gearbox           222218 non-null  object \n",
      " 4   Model             222218 non-null  object \n",
      " 5   Mileage           222218 non-null  int64  \n",
      " 6   FuelType          222218 non-null  object \n",
      " 7   Brand             222218 non-null  object \n",
      " 8   NotRepaired       222218 non-null  object \n",
      " 9   PostalCode        222218 non-null  int64  \n",
      "dtypes: float64(1), int64(3), object(6)\n",
      "memory usage: 18.6+ MB\n"
     ]
    }
   ],
   "source": [
    "df_cars.info()"
   ]
  },
  {
   "cell_type": "markdown",
   "metadata": {},
   "source": [
    "### 1.3. Feature and target preparation"
   ]
  },
  {
   "cell_type": "markdown",
   "metadata": {},
   "source": [
    "*Create features and target datasets*"
   ]
  },
  {
   "cell_type": "code",
   "execution_count": 17,
   "metadata": {},
   "outputs": [],
   "source": [
    "# create features and target datasets\n",
    "X = df_cars.drop(['Price'], axis=1)\n",
    "y = df_cars['Price']"
   ]
  },
  {
   "cell_type": "code",
   "execution_count": 18,
   "metadata": {
    "scrolled": true
   },
   "outputs": [
    {
     "data": {
      "text/html": [
       "<div>\n",
       "<style scoped>\n",
       "    .dataframe tbody tr th:only-of-type {\n",
       "        vertical-align: middle;\n",
       "    }\n",
       "\n",
       "    .dataframe tbody tr th {\n",
       "        vertical-align: top;\n",
       "    }\n",
       "\n",
       "    .dataframe thead th {\n",
       "        text-align: right;\n",
       "    }\n",
       "</style>\n",
       "<table border=\"1\" class=\"dataframe\">\n",
       "  <thead>\n",
       "    <tr style=\"text-align: right;\">\n",
       "      <th></th>\n",
       "      <th>VehicleType</th>\n",
       "      <th>RegistrationYear</th>\n",
       "      <th>Gearbox</th>\n",
       "      <th>Model</th>\n",
       "      <th>Mileage</th>\n",
       "      <th>FuelType</th>\n",
       "      <th>Brand</th>\n",
       "      <th>NotRepaired</th>\n",
       "      <th>PostalCode</th>\n",
       "    </tr>\n",
       "  </thead>\n",
       "  <tbody>\n",
       "    <tr>\n",
       "      <th>3</th>\n",
       "      <td>small</td>\n",
       "      <td>2001</td>\n",
       "      <td>manual</td>\n",
       "      <td>golf</td>\n",
       "      <td>150000</td>\n",
       "      <td>petrol</td>\n",
       "      <td>volkswagen</td>\n",
       "      <td>no</td>\n",
       "      <td>91074</td>\n",
       "    </tr>\n",
       "    <tr>\n",
       "      <th>4</th>\n",
       "      <td>small</td>\n",
       "      <td>2008</td>\n",
       "      <td>manual</td>\n",
       "      <td>fabia</td>\n",
       "      <td>90000</td>\n",
       "      <td>gasoline</td>\n",
       "      <td>skoda</td>\n",
       "      <td>no</td>\n",
       "      <td>60437</td>\n",
       "    </tr>\n",
       "    <tr>\n",
       "      <th>5</th>\n",
       "      <td>sedan</td>\n",
       "      <td>1995</td>\n",
       "      <td>manual</td>\n",
       "      <td>3er</td>\n",
       "      <td>150000</td>\n",
       "      <td>petrol</td>\n",
       "      <td>bmw</td>\n",
       "      <td>yes</td>\n",
       "      <td>33775</td>\n",
       "    </tr>\n",
       "    <tr>\n",
       "      <th>6</th>\n",
       "      <td>convertible</td>\n",
       "      <td>2004</td>\n",
       "      <td>manual</td>\n",
       "      <td>2_reihe</td>\n",
       "      <td>150000</td>\n",
       "      <td>petrol</td>\n",
       "      <td>peugeot</td>\n",
       "      <td>no</td>\n",
       "      <td>67112</td>\n",
       "    </tr>\n",
       "    <tr>\n",
       "      <th>10</th>\n",
       "      <td>sedan</td>\n",
       "      <td>2004</td>\n",
       "      <td>manual</td>\n",
       "      <td>3_reihe</td>\n",
       "      <td>150000</td>\n",
       "      <td>petrol</td>\n",
       "      <td>mazda</td>\n",
       "      <td>no</td>\n",
       "      <td>96224</td>\n",
       "    </tr>\n",
       "  </tbody>\n",
       "</table>\n",
       "</div>"
      ],
      "text/plain": [
       "    VehicleType  RegistrationYear Gearbox    Model  Mileage  FuelType  \\\n",
       "3         small              2001  manual     golf   150000    petrol   \n",
       "4         small              2008  manual    fabia    90000  gasoline   \n",
       "5         sedan              1995  manual      3er   150000    petrol   \n",
       "6   convertible              2004  manual  2_reihe   150000    petrol   \n",
       "10        sedan              2004  manual  3_reihe   150000    petrol   \n",
       "\n",
       "         Brand NotRepaired  PostalCode  \n",
       "3   volkswagen          no       91074  \n",
       "4        skoda          no       60437  \n",
       "5          bmw         yes       33775  \n",
       "6      peugeot          no       67112  \n",
       "10       mazda          no       96224  "
      ]
     },
     "execution_count": 18,
     "metadata": {},
     "output_type": "execute_result"
    }
   ],
   "source": [
    "# look at the features\n",
    "X.head()"
   ]
  },
  {
   "cell_type": "markdown",
   "metadata": {},
   "source": [
    "*Make One-Hot Encoding of categorical features with \"drop_first\" parameter*"
   ]
  },
  {
   "cell_type": "code",
   "execution_count": 19,
   "metadata": {},
   "outputs": [],
   "source": [
    "# use pd.get_dummies for OHE with \"drop_first\"\n",
    "X_ohe = pd.get_dummies(X, drop_first=True)"
   ]
  },
  {
   "cell_type": "markdown",
   "metadata": {},
   "source": [
    "*Scale the features*"
   ]
  },
  {
   "cell_type": "code",
   "execution_count": 20,
   "metadata": {},
   "outputs": [],
   "source": [
    "# scale the data\n",
    "scaler = StandardScaler()\n",
    "X = scaler.fit_transform(X_ohe)"
   ]
  },
  {
   "cell_type": "markdown",
   "metadata": {},
   "source": [
    "*Split the data into training and validation sets*"
   ]
  },
  {
   "cell_type": "code",
   "execution_count": 21,
   "metadata": {},
   "outputs": [],
   "source": [
    "# split the data into training and validation sets\n",
    "X_train, X_test, y_train, y_test = train_test_split(\n",
    "        X, y, test_size=0.25, random_state=42)"
   ]
  },
  {
   "cell_type": "markdown",
   "metadata": {},
   "source": [
    "## 2. Model training"
   ]
  },
  {
   "cell_type": "markdown",
   "metadata": {},
   "source": [
    "*Create RandomizedSearchCV func*"
   ]
  },
  {
   "cell_type": "code",
   "execution_count": 22,
   "metadata": {},
   "outputs": [],
   "source": [
    "def random_search_cv(model, parameters, X_train, y_train):\n",
    "    # create \"RandomizedSearchCV\" class with scoring for rmse\n",
    "    random_search = RandomizedSearchCV(model, parameters, cv=5)\n",
    "    \n",
    "    # fit train data\n",
    "    random_search.fit(X_train, y_train)\n",
    "    \n",
    "    # print best parameters\n",
    "    print('Best parameters:', random_search.best_params_)\n",
    "    \n",
    "    # return the best model after \"GridSearchCV\"\n",
    "    return random_search.best_estimator_"
   ]
  },
  {
   "cell_type": "markdown",
   "metadata": {},
   "source": [
    "Train different models with various hyperparameters. We'll try the following models: \n",
    "- LinearRegression\n",
    "- DecisionTreeRegressor\n",
    "- RandomForestRegressor\n",
    "- GradientBoostingRegressor\n",
    "- LightGBM\n",
    "- CatBoost\n",
    "- XGBoost"
   ]
  },
  {
   "cell_type": "markdown",
   "metadata": {},
   "source": [
    "### 2.1. LinearRegression"
   ]
  },
  {
   "cell_type": "code",
   "execution_count": 23,
   "metadata": {},
   "outputs": [],
   "source": [
    "lr_model = LinearRegression() # create model class"
   ]
  },
  {
   "cell_type": "code",
   "execution_count": 24,
   "metadata": {},
   "outputs": [
    {
     "name": "stdout",
     "output_type": "stream",
     "text": [
      "CPU times: user 14.1 s, sys: 3.59 s, total: 17.7 s\n",
      "Wall time: 17.6 s\n"
     ]
    },
    {
     "data": {
      "text/plain": [
       "LinearRegression(copy_X=True, fit_intercept=True, n_jobs=None, normalize=False)"
      ]
     },
     "execution_count": 24,
     "metadata": {},
     "output_type": "execute_result"
    }
   ],
   "source": [
    "%%time\n",
    "lr_model.fit(X_train, y_train) # fit the model"
   ]
  },
  {
   "cell_type": "code",
   "execution_count": 25,
   "metadata": {},
   "outputs": [
    {
     "name": "stdout",
     "output_type": "stream",
     "text": [
      "CPU times: user 180 ms, sys: 16.8 ms, total: 197 ms\n",
      "Wall time: 194 ms\n"
     ]
    }
   ],
   "source": [
    "%%time\n",
    "y_pred_train = lr_model.predict(X_train) # predict values for train data"
   ]
  },
  {
   "cell_type": "code",
   "execution_count": 26,
   "metadata": {},
   "outputs": [
    {
     "name": "stdout",
     "output_type": "stream",
     "text": [
      "CPU times: user 85.3 ms, sys: 26.6 ms, total: 112 ms\n",
      "Wall time: 101 ms\n"
     ]
    }
   ],
   "source": [
    "%%time\n",
    "y_pred_test = lr_model.predict(X_test) # predict values for test data"
   ]
  },
  {
   "cell_type": "code",
   "execution_count": 27,
   "metadata": {
    "scrolled": true
   },
   "outputs": [
    {
     "name": "stdout",
     "output_type": "stream",
     "text": [
      "RMSE_train: 2697.14\n",
      "RMSE_test: 2694.49\n"
     ]
    }
   ],
   "source": [
    "# print RMSE for train and test\n",
    "print('RMSE_train:', round(mean_squared_error(y_train, y_pred_train) ** 0.5, 2))\n",
    "print('RMSE_test:', round(mean_squared_error(y_test, y_pred_test) ** 0.5, 2))"
   ]
  },
  {
   "cell_type": "markdown",
   "metadata": {},
   "source": [
    "### 2.2. DecisionTreeRegressor"
   ]
  },
  {
   "cell_type": "code",
   "execution_count": 28,
   "metadata": {},
   "outputs": [],
   "source": [
    "dt_model = DecisionTreeRegressor(random_state=42) # create model class\n",
    "params = {'max_depth': range(1, 10),\n",
    "          'min_samples_split': range(2, 40, 10), \n",
    "          'min_samples_leaf': range(1, 20, 5)}"
   ]
  },
  {
   "cell_type": "code",
   "execution_count": 29,
   "metadata": {},
   "outputs": [
    {
     "name": "stdout",
     "output_type": "stream",
     "text": [
      "Best parameters: {'min_samples_split': 32, 'min_samples_leaf': 11, 'max_depth': 8}\n",
      "CPU times: user 2min 51s, sys: 7.52 s, total: 2min 59s\n",
      "Wall time: 2min 59s\n"
     ]
    }
   ],
   "source": [
    "%%time\n",
    "best_model = random_search_cv(dt_model, params, X_train, y_train) # fit the model"
   ]
  },
  {
   "cell_type": "code",
   "execution_count": 30,
   "metadata": {},
   "outputs": [
    {
     "name": "stdout",
     "output_type": "stream",
     "text": [
      "CPU times: user 141 ms, sys: 52 ms, total: 193 ms\n",
      "Wall time: 203 ms\n"
     ]
    }
   ],
   "source": [
    "%%time\n",
    "y_pred_train = best_model.predict(X_train) # predict values for train data"
   ]
  },
  {
   "cell_type": "code",
   "execution_count": 31,
   "metadata": {},
   "outputs": [
    {
     "name": "stdout",
     "output_type": "stream",
     "text": [
      "CPU times: user 60.5 ms, sys: 8.26 ms, total: 68.8 ms\n",
      "Wall time: 82.7 ms\n"
     ]
    }
   ],
   "source": [
    "%%time\n",
    "y_pred_test = best_model.predict(X_test) # predict values for test data"
   ]
  },
  {
   "cell_type": "code",
   "execution_count": 32,
   "metadata": {
    "scrolled": false
   },
   "outputs": [
    {
     "name": "stdout",
     "output_type": "stream",
     "text": [
      "RMSE_train: 2451.4\n",
      "RMSE_test: 2473.11\n"
     ]
    }
   ],
   "source": [
    "# print RMSE for train and test\n",
    "print('RMSE_train:', round(mean_squared_error(y_train, y_pred_train) ** 0.5, 2))\n",
    "print('RMSE_test:', round(mean_squared_error(y_test, y_pred_test) ** 0.5, 2))"
   ]
  },
  {
   "cell_type": "markdown",
   "metadata": {},
   "source": [
    "### 2.3. RandomForestRegressor"
   ]
  },
  {
   "cell_type": "code",
   "execution_count": 33,
   "metadata": {},
   "outputs": [],
   "source": [
    "rf_model = RandomForestRegressor(max_depth=9, random_state=42) # create model class\n",
    "params = {'n_estimators': range(10, 50, 10)}"
   ]
  },
  {
   "cell_type": "code",
   "execution_count": 34,
   "metadata": {
    "scrolled": true
   },
   "outputs": [
    {
     "name": "stderr",
     "output_type": "stream",
     "text": [
      "/opt/conda/lib/python3.7/site-packages/sklearn/model_selection/_search.py:266: UserWarning: The total space of parameters 4 is smaller than n_iter=10. Running 4 iterations. For exhaustive searches, use GridSearchCV.\n",
      "  % (grid_size, self.n_iter, grid_size), UserWarning)\n"
     ]
    },
    {
     "name": "stdout",
     "output_type": "stream",
     "text": [
      "Best parameters: {'n_estimators': 40}\n",
      "CPU times: user 32min 41s, sys: 4.26 s, total: 32min 45s\n",
      "Wall time: 32min 48s\n"
     ]
    }
   ],
   "source": [
    "%%time\n",
    "best_model = random_search_cv(rf_model, params, X_train, y_train) # fit the model"
   ]
  },
  {
   "cell_type": "code",
   "execution_count": 35,
   "metadata": {},
   "outputs": [
    {
     "name": "stdout",
     "output_type": "stream",
     "text": [
      "CPU times: user 1.43 s, sys: 56.1 ms, total: 1.48 s\n",
      "Wall time: 1.59 s\n"
     ]
    }
   ],
   "source": [
    "%%time\n",
    "y_pred_train = best_model.predict(X_train) # predict values for train data"
   ]
  },
  {
   "cell_type": "code",
   "execution_count": 36,
   "metadata": {},
   "outputs": [
    {
     "name": "stdout",
     "output_type": "stream",
     "text": [
      "CPU times: user 478 ms, sys: 20 ms, total: 498 ms\n",
      "Wall time: 508 ms\n"
     ]
    }
   ],
   "source": [
    "%%time\n",
    "y_pred_test = best_model.predict(X_test) # predict values for test data"
   ]
  },
  {
   "cell_type": "code",
   "execution_count": 37,
   "metadata": {
    "scrolled": false
   },
   "outputs": [
    {
     "name": "stdout",
     "output_type": "stream",
     "text": [
      "RMSE_train: 2292.63\n",
      "RMSE_test: 2327.26\n"
     ]
    }
   ],
   "source": [
    "# print RMSE for train and test\n",
    "print('RMSE_train:', round(mean_squared_error(y_train, y_pred_train) ** 0.5, 2))\n",
    "print('RMSE_test:', round(mean_squared_error(y_test, y_pred_test) ** 0.5, 2))"
   ]
  },
  {
   "cell_type": "markdown",
   "metadata": {},
   "source": [
    "### 2.4. GradientBoostingRegressor"
   ]
  },
  {
   "cell_type": "code",
   "execution_count": 38,
   "metadata": {},
   "outputs": [],
   "source": [
    "gbr_model = GradientBoostingRegressor(max_depth=9, n_estimators=40, random_state=42) # create model class\n",
    "params = {'learning_rate': [.2, .4, .5]}"
   ]
  },
  {
   "cell_type": "code",
   "execution_count": 39,
   "metadata": {},
   "outputs": [
    {
     "name": "stderr",
     "output_type": "stream",
     "text": [
      "/opt/conda/lib/python3.7/site-packages/sklearn/model_selection/_search.py:266: UserWarning: The total space of parameters 3 is smaller than n_iter=10. Running 3 iterations. For exhaustive searches, use GridSearchCV.\n",
      "  % (grid_size, self.n_iter, grid_size), UserWarning)\n"
     ]
    },
    {
     "name": "stdout",
     "output_type": "stream",
     "text": [
      "Best parameters: {'learning_rate': 0.4}\n",
      "CPU times: user 1h 48min 10s, sys: 6.23 s, total: 1h 48min 17s\n",
      "Wall time: 1h 49min 1s\n"
     ]
    }
   ],
   "source": [
    "%%time\n",
    "best_model = random_search_cv(gbr_model, params, X_train, y_train) # fit the model"
   ]
  },
  {
   "cell_type": "code",
   "execution_count": 40,
   "metadata": {},
   "outputs": [
    {
     "name": "stdout",
     "output_type": "stream",
     "text": [
      "CPU times: user 872 ms, sys: 51.9 ms, total: 924 ms\n",
      "Wall time: 940 ms\n"
     ]
    }
   ],
   "source": [
    "%%time\n",
    "y_pred_train = best_model.predict(X_train) # predict values for train data"
   ]
  },
  {
   "cell_type": "code",
   "execution_count": 41,
   "metadata": {},
   "outputs": [
    {
     "name": "stdout",
     "output_type": "stream",
     "text": [
      "CPU times: user 318 ms, sys: 20 ms, total: 338 ms\n",
      "Wall time: 348 ms\n"
     ]
    }
   ],
   "source": [
    "%%time\n",
    "y_pred_test = best_model.predict(X_test) # predict values for test data"
   ]
  },
  {
   "cell_type": "code",
   "execution_count": 42,
   "metadata": {
    "scrolled": false
   },
   "outputs": [
    {
     "name": "stdout",
     "output_type": "stream",
     "text": [
      "RMSE_train: 1629.59\n",
      "RMSE_test: 1837.32\n"
     ]
    }
   ],
   "source": [
    "# print RMSE for train and test\n",
    "print('RMSE_train:', round(mean_squared_error(y_train, y_pred_train) ** 0.5, 2))\n",
    "print('RMSE_test:', round(mean_squared_error(y_test, y_pred_test) ** 0.5, 2))"
   ]
  },
  {
   "cell_type": "markdown",
   "metadata": {},
   "source": [
    "### 2.5. LightGBM "
   ]
  },
  {
   "cell_type": "code",
   "execution_count": 43,
   "metadata": {},
   "outputs": [],
   "source": [
    "lgb_model = lgb.LGBMRegressor(max_depth=9, n_estimators=40, random_state=42) # create model class\n",
    "params = {'learning_rate': [.2, .4, .5]}"
   ]
  },
  {
   "cell_type": "code",
   "execution_count": 44,
   "metadata": {},
   "outputs": [
    {
     "data": {
      "text/plain": [
       "LGBMRegressor(boosting_type='gbdt', class_weight=None, colsample_bytree=1.0,\n",
       "              importance_type='split', learning_rate=0.1, max_depth=9,\n",
       "              min_child_samples=20, min_child_weight=0.001, min_split_gain=0.0,\n",
       "              n_estimators=40, n_jobs=-1, num_leaves=31, objective=None,\n",
       "              random_state=42, reg_alpha=0.0, reg_lambda=0.0, silent=True,\n",
       "              subsample=1.0, subsample_for_bin=200000, subsample_freq=0)"
      ]
     },
     "execution_count": 44,
     "metadata": {},
     "output_type": "execute_result"
    }
   ],
   "source": [
    "lgb_model.fit(X_train, y_train)"
   ]
  },
  {
   "cell_type": "code",
   "execution_count": 45,
   "metadata": {
    "scrolled": true
   },
   "outputs": [
    {
     "name": "stderr",
     "output_type": "stream",
     "text": [
      "/opt/conda/lib/python3.7/site-packages/sklearn/model_selection/_search.py:266: UserWarning: The total space of parameters 3 is smaller than n_iter=10. Running 3 iterations. For exhaustive searches, use GridSearchCV.\n",
      "  % (grid_size, self.n_iter, grid_size), UserWarning)\n"
     ]
    },
    {
     "name": "stdout",
     "output_type": "stream",
     "text": [
      "Best parameters: {'learning_rate': 0.5}\n",
      "CPU times: user 5min 35s, sys: 11.1 s, total: 5min 47s\n",
      "Wall time: 5min 48s\n"
     ]
    }
   ],
   "source": [
    "%%time\n",
    "best_model = random_search_cv(lgb_model, params, X_train, y_train) # fit the model"
   ]
  },
  {
   "cell_type": "code",
   "execution_count": 46,
   "metadata": {},
   "outputs": [
    {
     "name": "stdout",
     "output_type": "stream",
     "text": [
      "CPU times: user 1.57 s, sys: 4 ms, total: 1.57 s\n",
      "Wall time: 1.56 s\n"
     ]
    }
   ],
   "source": [
    "%%time\n",
    "y_pred_train = best_model.predict(X_train) # predict values for train data"
   ]
  },
  {
   "cell_type": "code",
   "execution_count": 47,
   "metadata": {},
   "outputs": [
    {
     "name": "stdout",
     "output_type": "stream",
     "text": [
      "CPU times: user 549 ms, sys: 105 µs, total: 549 ms\n",
      "Wall time: 589 ms\n"
     ]
    }
   ],
   "source": [
    "%%time\n",
    "y_pred_test = best_model.predict(X_test) # predict values for test data"
   ]
  },
  {
   "cell_type": "code",
   "execution_count": 48,
   "metadata": {
    "scrolled": true
   },
   "outputs": [
    {
     "name": "stdout",
     "output_type": "stream",
     "text": [
      "RMSE_train: 1840.38\n",
      "RMSE_test: 1889.2\n"
     ]
    }
   ],
   "source": [
    "# print RMSE for train and test\n",
    "print('RMSE_train:', round(mean_squared_error(y_train, y_pred_train) ** 0.5, 2))\n",
    "print('RMSE_test:', round(mean_squared_error(y_test, y_pred_test) ** 0.5, 2))"
   ]
  },
  {
   "cell_type": "markdown",
   "metadata": {},
   "source": [
    "### 2.6. CatBoost "
   ]
  },
  {
   "cell_type": "code",
   "execution_count": 59,
   "metadata": {},
   "outputs": [],
   "source": [
    "cat_model = CatBoostRegressor(max_depth=9, iterations=50, random_state=42) # create model class\n",
    "params = {'learning_rate': [.2, .4, .5]}"
   ]
  },
  {
   "cell_type": "code",
   "execution_count": 60,
   "metadata": {},
   "outputs": [
    {
     "name": "stderr",
     "output_type": "stream",
     "text": [
      "/opt/conda/lib/python3.7/site-packages/sklearn/model_selection/_search.py:266: UserWarning: The total space of parameters 3 is smaller than n_iter=10. Running 3 iterations. For exhaustive searches, use GridSearchCV.\n",
      "  % (grid_size, self.n_iter, grid_size), UserWarning)\n"
     ]
    },
    {
     "name": "stdout",
     "output_type": "stream",
     "text": [
      "0:\tlearn: 4095.6967698\ttotal: 161ms\tremaining: 7.91s\n",
      "1:\tlearn: 3649.0352133\ttotal: 355ms\tremaining: 8.53s\n",
      "2:\tlearn: 3319.8090619\ttotal: 468ms\tremaining: 7.33s\n",
      "3:\tlearn: 3069.7666122\ttotal: 659ms\tremaining: 7.58s\n",
      "4:\tlearn: 2850.0558172\ttotal: 857ms\tremaining: 7.71s\n",
      "5:\tlearn: 2694.4510310\ttotal: 1.05s\tremaining: 7.7s\n",
      "6:\tlearn: 2585.2621179\ttotal: 1.16s\tremaining: 7.15s\n",
      "7:\tlearn: 2490.7640703\ttotal: 1.36s\tremaining: 7.13s\n",
      "8:\tlearn: 2421.6897388\ttotal: 1.55s\tremaining: 7.07s\n",
      "9:\tlearn: 2362.4662837\ttotal: 1.75s\tremaining: 7s\n",
      "10:\tlearn: 2320.8748658\ttotal: 1.86s\tremaining: 6.61s\n",
      "11:\tlearn: 2290.5438648\ttotal: 2.05s\tremaining: 6.49s\n",
      "12:\tlearn: 2261.9636960\ttotal: 2.24s\tremaining: 6.38s\n",
      "13:\tlearn: 2233.9358680\ttotal: 2.35s\tremaining: 6.05s\n",
      "14:\tlearn: 2212.0864734\ttotal: 2.54s\tremaining: 5.94s\n",
      "15:\tlearn: 2194.2753195\ttotal: 2.66s\tremaining: 5.64s\n",
      "16:\tlearn: 2174.5578455\ttotal: 2.85s\tremaining: 5.53s\n",
      "17:\tlearn: 2163.4939937\ttotal: 3.04s\tremaining: 5.41s\n",
      "18:\tlearn: 2152.3769679\ttotal: 3.15s\tremaining: 5.15s\n",
      "19:\tlearn: 2140.8905574\ttotal: 3.35s\tremaining: 5.02s\n",
      "20:\tlearn: 2129.8815809\ttotal: 3.54s\tremaining: 4.89s\n",
      "21:\tlearn: 2119.5800284\ttotal: 3.65s\tremaining: 4.65s\n",
      "22:\tlearn: 2112.0764232\ttotal: 3.85s\tremaining: 4.52s\n",
      "23:\tlearn: 2098.1514493\ttotal: 4.04s\tremaining: 4.38s\n",
      "24:\tlearn: 2092.1538532\ttotal: 4.23s\tremaining: 4.23s\n",
      "25:\tlearn: 2082.5785806\ttotal: 4.35s\tremaining: 4.01s\n",
      "26:\tlearn: 2075.7154518\ttotal: 4.54s\tremaining: 3.87s\n",
      "27:\tlearn: 2069.9491829\ttotal: 4.65s\tremaining: 3.65s\n",
      "28:\tlearn: 2064.7652034\ttotal: 4.84s\tremaining: 3.51s\n",
      "29:\tlearn: 2058.1807461\ttotal: 5.03s\tremaining: 3.36s\n",
      "30:\tlearn: 2052.8488869\ttotal: 5.15s\tremaining: 3.16s\n",
      "31:\tlearn: 2045.7797212\ttotal: 5.34s\tremaining: 3s\n",
      "32:\tlearn: 2042.3516901\ttotal: 5.45s\tremaining: 2.81s\n",
      "33:\tlearn: 2035.7398089\ttotal: 5.64s\tremaining: 2.65s\n",
      "34:\tlearn: 2029.4596713\ttotal: 5.83s\tremaining: 2.5s\n",
      "35:\tlearn: 2024.5916204\ttotal: 5.94s\tremaining: 2.31s\n",
      "36:\tlearn: 2019.9165417\ttotal: 6.13s\tremaining: 2.15s\n",
      "37:\tlearn: 2016.3116947\ttotal: 6.24s\tremaining: 1.97s\n",
      "38:\tlearn: 2012.2911173\ttotal: 6.43s\tremaining: 1.81s\n",
      "39:\tlearn: 2005.8608858\ttotal: 6.63s\tremaining: 1.66s\n",
      "40:\tlearn: 2000.3014879\ttotal: 6.82s\tremaining: 1.5s\n",
      "41:\tlearn: 1995.4124165\ttotal: 6.94s\tremaining: 1.32s\n",
      "42:\tlearn: 1991.6370093\ttotal: 7.13s\tremaining: 1.16s\n",
      "43:\tlearn: 1988.5218011\ttotal: 7.32s\tremaining: 998ms\n",
      "44:\tlearn: 1984.3503331\ttotal: 7.44s\tremaining: 827ms\n",
      "45:\tlearn: 1980.0576012\ttotal: 7.63s\tremaining: 663ms\n",
      "46:\tlearn: 1975.6010962\ttotal: 7.82s\tremaining: 499ms\n",
      "47:\tlearn: 1972.2848150\ttotal: 7.93s\tremaining: 331ms\n",
      "48:\tlearn: 1969.1371017\ttotal: 8.13s\tremaining: 166ms\n",
      "49:\tlearn: 1966.1676115\ttotal: 8.32s\tremaining: 0us\n",
      "0:\tlearn: 4107.7561553\ttotal: 92.8ms\tremaining: 4.55s\n",
      "1:\tlearn: 3656.2237221\ttotal: 284ms\tremaining: 6.83s\n",
      "2:\tlearn: 3323.9445336\ttotal: 479ms\tremaining: 7.5s\n",
      "3:\tlearn: 3062.6683229\ttotal: 594ms\tremaining: 6.83s\n",
      "4:\tlearn: 2870.5377910\ttotal: 784ms\tremaining: 7.05s\n",
      "5:\tlearn: 2707.8158987\ttotal: 978ms\tremaining: 7.17s\n",
      "6:\tlearn: 2596.1502032\ttotal: 1.17s\tremaining: 7.21s\n",
      "7:\tlearn: 2494.9296238\ttotal: 1.28s\tremaining: 6.74s\n",
      "8:\tlearn: 2420.5419939\ttotal: 1.48s\tremaining: 6.73s\n",
      "9:\tlearn: 2363.5681910\ttotal: 1.67s\tremaining: 6.69s\n",
      "10:\tlearn: 2325.5024715\ttotal: 1.78s\tremaining: 6.32s\n",
      "11:\tlearn: 2284.5122918\ttotal: 1.98s\tremaining: 6.26s\n",
      "12:\tlearn: 2257.7267932\ttotal: 2.17s\tremaining: 6.18s\n",
      "13:\tlearn: 2231.5111693\ttotal: 2.28s\tremaining: 5.86s\n",
      "14:\tlearn: 2211.8828028\ttotal: 2.47s\tremaining: 5.77s\n",
      "15:\tlearn: 2196.0749227\ttotal: 2.67s\tremaining: 5.66s\n",
      "16:\tlearn: 2180.6549790\ttotal: 2.78s\tremaining: 5.39s\n",
      "17:\tlearn: 2167.1694625\ttotal: 2.97s\tremaining: 5.28s\n",
      "18:\tlearn: 2153.5954570\ttotal: 3.17s\tremaining: 5.16s\n",
      "19:\tlearn: 2143.6113492\ttotal: 3.27s\tremaining: 4.91s\n",
      "20:\tlearn: 2134.1516742\ttotal: 3.46s\tremaining: 4.78s\n",
      "21:\tlearn: 2122.3695732\ttotal: 3.57s\tremaining: 4.54s\n",
      "22:\tlearn: 2111.9995775\ttotal: 3.76s\tremaining: 4.42s\n",
      "23:\tlearn: 2104.1591435\ttotal: 3.87s\tremaining: 4.19s\n",
      "24:\tlearn: 2096.0648668\ttotal: 4.07s\tremaining: 4.07s\n",
      "25:\tlearn: 2087.8236820\ttotal: 4.26s\tremaining: 3.93s\n",
      "26:\tlearn: 2082.0649532\ttotal: 4.37s\tremaining: 3.72s\n",
      "27:\tlearn: 2073.8391363\ttotal: 4.56s\tremaining: 3.58s\n",
      "28:\tlearn: 2069.0329034\ttotal: 4.67s\tremaining: 3.38s\n",
      "29:\tlearn: 2063.9110949\ttotal: 4.86s\tremaining: 3.24s\n",
      "30:\tlearn: 2059.0122438\ttotal: 5.05s\tremaining: 3.1s\n",
      "31:\tlearn: 2053.6416029\ttotal: 5.17s\tremaining: 2.9s\n",
      "32:\tlearn: 2049.0869660\ttotal: 5.36s\tremaining: 2.76s\n",
      "33:\tlearn: 2040.9362040\ttotal: 5.55s\tremaining: 2.61s\n",
      "34:\tlearn: 2035.0313715\ttotal: 5.66s\tremaining: 2.43s\n",
      "35:\tlearn: 2030.9451878\ttotal: 5.86s\tremaining: 2.28s\n",
      "36:\tlearn: 2025.2433889\ttotal: 6.05s\tremaining: 2.13s\n",
      "37:\tlearn: 2020.6476119\ttotal: 6.25s\tremaining: 1.97s\n",
      "38:\tlearn: 2013.4469562\ttotal: 6.36s\tremaining: 1.79s\n",
      "39:\tlearn: 2009.7482433\ttotal: 6.55s\tremaining: 1.64s\n",
      "40:\tlearn: 2005.1748083\ttotal: 6.66s\tremaining: 1.46s\n",
      "41:\tlearn: 2001.5087484\ttotal: 6.85s\tremaining: 1.3s\n",
      "42:\tlearn: 1997.4541350\ttotal: 6.97s\tremaining: 1.13s\n",
      "43:\tlearn: 1991.8159446\ttotal: 7.16s\tremaining: 976ms\n",
      "44:\tlearn: 1987.0852743\ttotal: 7.34s\tremaining: 816ms\n",
      "45:\tlearn: 1983.8982673\ttotal: 7.45s\tremaining: 648ms\n",
      "46:\tlearn: 1979.0993417\ttotal: 7.64s\tremaining: 488ms\n",
      "47:\tlearn: 1974.8859749\ttotal: 7.84s\tremaining: 327ms\n",
      "48:\tlearn: 1971.9800396\ttotal: 7.95s\tremaining: 162ms\n",
      "49:\tlearn: 1969.5209879\ttotal: 8.14s\tremaining: 0us\n",
      "0:\tlearn: 4103.9432010\ttotal: 42.5ms\tremaining: 2.08s\n",
      "1:\tlearn: 3649.6110703\ttotal: 235ms\tremaining: 5.63s\n",
      "2:\tlearn: 3323.7101541\ttotal: 346ms\tremaining: 5.42s\n",
      "3:\tlearn: 3053.2987561\ttotal: 540ms\tremaining: 6.21s\n",
      "4:\tlearn: 2857.9874398\ttotal: 731ms\tremaining: 6.58s\n",
      "5:\tlearn: 2713.2622955\ttotal: 848ms\tremaining: 6.22s\n",
      "6:\tlearn: 2599.6383112\ttotal: 1.03s\tremaining: 6.36s\n",
      "7:\tlearn: 2497.4647616\ttotal: 1.23s\tremaining: 6.44s\n",
      "8:\tlearn: 2420.5319928\ttotal: 1.42s\tremaining: 6.49s\n",
      "9:\tlearn: 2366.6883558\ttotal: 1.53s\tremaining: 6.14s\n",
      "10:\tlearn: 2322.0473748\ttotal: 1.73s\tremaining: 6.12s\n",
      "11:\tlearn: 2287.7652856\ttotal: 1.84s\tremaining: 5.82s\n",
      "12:\tlearn: 2262.0627666\ttotal: 2.03s\tremaining: 5.77s\n",
      "13:\tlearn: 2237.0245009\ttotal: 2.14s\tremaining: 5.5s\n",
      "14:\tlearn: 2215.5169803\ttotal: 2.33s\tremaining: 5.44s\n",
      "15:\tlearn: 2195.4315760\ttotal: 2.52s\tremaining: 5.36s\n",
      "16:\tlearn: 2179.1927387\ttotal: 2.63s\tremaining: 5.11s\n",
      "17:\tlearn: 2159.7321773\ttotal: 2.82s\tremaining: 5.02s\n",
      "18:\tlearn: 2148.6431589\ttotal: 2.93s\tremaining: 4.79s\n",
      "19:\tlearn: 2138.0164049\ttotal: 3.12s\tremaining: 4.68s\n",
      "20:\tlearn: 2126.9199746\ttotal: 3.31s\tremaining: 4.58s\n",
      "21:\tlearn: 2118.7414016\ttotal: 3.42s\tremaining: 4.36s\n",
      "22:\tlearn: 2110.5188653\ttotal: 3.62s\tremaining: 4.25s\n",
      "23:\tlearn: 2101.5054271\ttotal: 3.72s\tremaining: 4.03s\n",
      "24:\tlearn: 2093.7513965\ttotal: 3.91s\tremaining: 3.91s\n",
      "25:\tlearn: 2081.3430191\ttotal: 4.03s\tremaining: 3.71s\n",
      "26:\tlearn: 2075.0099827\ttotal: 4.21s\tremaining: 3.59s\n",
      "27:\tlearn: 2066.3835123\ttotal: 4.33s\tremaining: 3.4s\n",
      "28:\tlearn: 2058.8339277\ttotal: 4.52s\tremaining: 3.27s\n",
      "29:\tlearn: 2053.7594488\ttotal: 4.71s\tremaining: 3.14s\n",
      "30:\tlearn: 2048.7433370\ttotal: 4.82s\tremaining: 2.95s\n",
      "31:\tlearn: 2041.9081469\ttotal: 5.01s\tremaining: 2.82s\n",
      "32:\tlearn: 2037.8503540\ttotal: 5.12s\tremaining: 2.64s\n",
      "33:\tlearn: 2034.1710289\ttotal: 5.31s\tremaining: 2.5s\n",
      "34:\tlearn: 2030.0922503\ttotal: 5.42s\tremaining: 2.32s\n",
      "35:\tlearn: 2023.1274061\ttotal: 5.61s\tremaining: 2.18s\n",
      "36:\tlearn: 2016.5360565\ttotal: 5.8s\tremaining: 2.04s\n",
      "37:\tlearn: 2012.6602434\ttotal: 5.91s\tremaining: 1.87s\n",
      "38:\tlearn: 2007.0796572\ttotal: 6.1s\tremaining: 1.72s\n",
      "39:\tlearn: 2002.4977495\ttotal: 6.21s\tremaining: 1.55s\n",
      "40:\tlearn: 1997.9254881\ttotal: 6.4s\tremaining: 1.41s\n",
      "41:\tlearn: 1994.2346778\ttotal: 6.51s\tremaining: 1.24s\n",
      "42:\tlearn: 1989.3172542\ttotal: 6.7s\tremaining: 1.09s\n",
      "43:\tlearn: 1986.1298789\ttotal: 6.82s\tremaining: 930ms\n",
      "44:\tlearn: 1983.1145354\ttotal: 7s\tremaining: 778ms\n",
      "45:\tlearn: 1979.1889431\ttotal: 7.2s\tremaining: 626ms\n",
      "46:\tlearn: 1976.3163187\ttotal: 7.3s\tremaining: 466ms\n",
      "47:\tlearn: 1973.6204399\ttotal: 7.5s\tremaining: 312ms\n",
      "48:\tlearn: 1970.2785618\ttotal: 7.61s\tremaining: 155ms\n",
      "49:\tlearn: 1966.7527207\ttotal: 7.8s\tremaining: 0us\n",
      "0:\tlearn: 4105.8487613\ttotal: 71.7ms\tremaining: 3.51s\n",
      "1:\tlearn: 3656.9884815\ttotal: 265ms\tremaining: 6.35s\n",
      "2:\tlearn: 3328.4175177\ttotal: 459ms\tremaining: 7.2s\n",
      "3:\tlearn: 3060.7896210\ttotal: 654ms\tremaining: 7.52s\n",
      "4:\tlearn: 2876.5824650\ttotal: 766ms\tremaining: 6.89s\n",
      "5:\tlearn: 2708.7995698\ttotal: 958ms\tremaining: 7.02s\n",
      "6:\tlearn: 2593.6720590\ttotal: 1.07s\tremaining: 6.59s\n",
      "7:\tlearn: 2501.9372247\ttotal: 1.26s\tremaining: 6.63s\n",
      "8:\tlearn: 2425.3649024\ttotal: 1.46s\tremaining: 6.64s\n",
      "9:\tlearn: 2370.6416284\ttotal: 1.65s\tremaining: 6.6s\n",
      "10:\tlearn: 2328.5502271\ttotal: 1.76s\tremaining: 6.25s\n",
      "11:\tlearn: 2282.8629332\ttotal: 1.95s\tremaining: 6.19s\n",
      "12:\tlearn: 2256.7712078\ttotal: 2.15s\tremaining: 6.12s\n",
      "13:\tlearn: 2231.2362907\ttotal: 2.26s\tremaining: 5.81s\n",
      "14:\tlearn: 2205.6859381\ttotal: 2.45s\tremaining: 5.72s\n",
      "15:\tlearn: 2190.9434422\ttotal: 2.65s\tremaining: 5.63s\n",
      "16:\tlearn: 2174.4618092\ttotal: 2.76s\tremaining: 5.36s\n",
      "17:\tlearn: 2161.9146676\ttotal: 2.95s\tremaining: 5.25s\n",
      "18:\tlearn: 2144.7427537\ttotal: 3.14s\tremaining: 5.13s\n",
      "19:\tlearn: 2132.2716866\ttotal: 3.25s\tremaining: 4.88s\n",
      "20:\tlearn: 2119.5692035\ttotal: 3.45s\tremaining: 4.76s\n",
      "21:\tlearn: 2111.1025585\ttotal: 3.64s\tremaining: 4.63s\n",
      "22:\tlearn: 2102.5360858\ttotal: 3.75s\tremaining: 4.41s\n",
      "23:\tlearn: 2092.9539134\ttotal: 3.95s\tremaining: 4.28s\n",
      "24:\tlearn: 2086.8924525\ttotal: 4.14s\tremaining: 4.14s\n",
      "25:\tlearn: 2080.5643137\ttotal: 4.25s\tremaining: 3.92s\n",
      "26:\tlearn: 2070.6286870\ttotal: 4.45s\tremaining: 3.79s\n",
      "27:\tlearn: 2062.9645713\ttotal: 4.64s\tremaining: 3.64s\n",
      "28:\tlearn: 2057.7116480\ttotal: 4.75s\tremaining: 3.44s\n",
      "29:\tlearn: 2052.5345621\ttotal: 4.94s\tremaining: 3.29s\n",
      "30:\tlearn: 2047.2737078\ttotal: 5.14s\tremaining: 3.15s\n",
      "31:\tlearn: 2042.6787045\ttotal: 5.33s\tremaining: 3s\n",
      "32:\tlearn: 2037.4840060\ttotal: 5.44s\tremaining: 2.8s\n",
      "33:\tlearn: 2032.7056746\ttotal: 5.64s\tremaining: 2.65s\n",
      "34:\tlearn: 2026.7332099\ttotal: 5.83s\tremaining: 2.5s\n",
      "35:\tlearn: 2021.3561475\ttotal: 6.03s\tremaining: 2.34s\n",
      "36:\tlearn: 2017.4641013\ttotal: 6.14s\tremaining: 2.16s\n",
      "37:\tlearn: 2014.1919093\ttotal: 6.33s\tremaining: 2s\n",
      "38:\tlearn: 2009.7252002\ttotal: 6.45s\tremaining: 1.82s\n",
      "39:\tlearn: 2006.2844074\ttotal: 6.63s\tremaining: 1.66s\n",
      "40:\tlearn: 2000.8895453\ttotal: 6.83s\tremaining: 1.5s\n",
      "41:\tlearn: 1997.9168791\ttotal: 6.94s\tremaining: 1.32s\n",
      "42:\tlearn: 1991.1583886\ttotal: 7.14s\tremaining: 1.16s\n",
      "43:\tlearn: 1988.2212675\ttotal: 7.33s\tremaining: 1000ms\n",
      "44:\tlearn: 1984.3964966\ttotal: 7.52s\tremaining: 836ms\n",
      "45:\tlearn: 1981.2921090\ttotal: 7.72s\tremaining: 671ms\n",
      "46:\tlearn: 1977.2908704\ttotal: 7.83s\tremaining: 500ms\n",
      "47:\tlearn: 1974.0845906\ttotal: 8.03s\tremaining: 335ms\n",
      "48:\tlearn: 1969.9524278\ttotal: 8.22s\tremaining: 168ms\n",
      "49:\tlearn: 1965.2637278\ttotal: 8.42s\tremaining: 0us\n",
      "0:\tlearn: 4115.1192749\ttotal: 61.3ms\tremaining: 3s\n",
      "1:\tlearn: 3665.1997431\ttotal: 255ms\tremaining: 6.12s\n",
      "2:\tlearn: 3332.1828296\ttotal: 450ms\tremaining: 7.05s\n",
      "3:\tlearn: 3055.4747248\ttotal: 566ms\tremaining: 6.51s\n",
      "4:\tlearn: 2865.1812305\ttotal: 758ms\tremaining: 6.82s\n",
      "5:\tlearn: 2698.8428433\ttotal: 951ms\tremaining: 6.97s\n",
      "6:\tlearn: 2580.1366951\ttotal: 1.15s\tremaining: 7.04s\n",
      "7:\tlearn: 2490.8848729\ttotal: 1.25s\tremaining: 6.59s\n",
      "8:\tlearn: 2431.2647771\ttotal: 1.45s\tremaining: 6.6s\n",
      "9:\tlearn: 2378.4865138\ttotal: 1.64s\tremaining: 6.58s\n",
      "10:\tlearn: 2331.5377209\ttotal: 1.76s\tremaining: 6.24s\n",
      "11:\tlearn: 2298.1719400\ttotal: 1.95s\tremaining: 6.17s\n",
      "12:\tlearn: 2264.9931503\ttotal: 2.14s\tremaining: 6.1s\n",
      "13:\tlearn: 2242.3403584\ttotal: 2.26s\tremaining: 5.8s\n",
      "14:\tlearn: 2221.0170897\ttotal: 2.45s\tremaining: 5.71s\n",
      "15:\tlearn: 2196.0373662\ttotal: 2.64s\tremaining: 5.61s\n",
      "16:\tlearn: 2178.8565425\ttotal: 2.83s\tremaining: 5.5s\n",
      "17:\tlearn: 2164.3721925\ttotal: 2.94s\tremaining: 5.23s\n",
      "18:\tlearn: 2151.5024877\ttotal: 3.13s\tremaining: 5.12s\n",
      "19:\tlearn: 2140.3533914\ttotal: 3.24s\tremaining: 4.87s\n",
      "20:\tlearn: 2131.3250146\ttotal: 3.44s\tremaining: 4.75s\n",
      "21:\tlearn: 2123.3786376\ttotal: 3.63s\tremaining: 4.62s\n",
      "22:\tlearn: 2114.0411668\ttotal: 3.74s\tremaining: 4.39s\n",
      "23:\tlearn: 2107.2058168\ttotal: 3.93s\tremaining: 4.26s\n",
      "24:\tlearn: 2099.6959796\ttotal: 4.04s\tremaining: 4.04s\n",
      "25:\tlearn: 2089.6282442\ttotal: 4.24s\tremaining: 3.91s\n",
      "26:\tlearn: 2084.3672630\ttotal: 4.43s\tremaining: 3.77s\n",
      "27:\tlearn: 2078.3865567\ttotal: 4.54s\tremaining: 3.56s\n",
      "28:\tlearn: 2071.5459422\ttotal: 4.73s\tremaining: 3.43s\n",
      "29:\tlearn: 2066.0829760\ttotal: 4.84s\tremaining: 3.23s\n",
      "30:\tlearn: 2059.9806647\ttotal: 5.03s\tremaining: 3.08s\n",
      "31:\tlearn: 2054.5339726\ttotal: 5.22s\tremaining: 2.94s\n",
      "32:\tlearn: 2048.5386089\ttotal: 5.33s\tremaining: 2.75s\n",
      "33:\tlearn: 2042.7094959\ttotal: 5.53s\tremaining: 2.6s\n",
      "34:\tlearn: 2035.3642439\ttotal: 5.72s\tremaining: 2.45s\n",
      "35:\tlearn: 2029.0265634\ttotal: 5.83s\tremaining: 2.27s\n",
      "36:\tlearn: 2025.6661670\ttotal: 6.02s\tremaining: 2.12s\n",
      "37:\tlearn: 2019.3965483\ttotal: 6.22s\tremaining: 1.96s\n",
      "38:\tlearn: 2014.6925904\ttotal: 6.33s\tremaining: 1.78s\n",
      "39:\tlearn: 2011.3861604\ttotal: 6.52s\tremaining: 1.63s\n",
      "40:\tlearn: 2005.6920114\ttotal: 6.63s\tremaining: 1.46s\n",
      "41:\tlearn: 2000.8842845\ttotal: 6.82s\tremaining: 1.3s\n",
      "42:\tlearn: 1996.9658847\ttotal: 6.93s\tremaining: 1.13s\n",
      "43:\tlearn: 1993.3889927\ttotal: 7.12s\tremaining: 971ms\n",
      "44:\tlearn: 1990.0582180\ttotal: 7.23s\tremaining: 804ms\n",
      "45:\tlearn: 1985.9036185\ttotal: 7.42s\tremaining: 645ms\n",
      "46:\tlearn: 1982.4956026\ttotal: 7.61s\tremaining: 486ms\n",
      "47:\tlearn: 1979.9905873\ttotal: 7.72s\tremaining: 322ms\n",
      "48:\tlearn: 1976.3060965\ttotal: 7.92s\tremaining: 162ms\n",
      "49:\tlearn: 1972.1285982\ttotal: 8.11s\tremaining: 0us\n",
      "0:\tlearn: 3553.8789970\ttotal: 170ms\tremaining: 8.31s\n",
      "1:\tlearn: 2963.4201186\ttotal: 283ms\tremaining: 6.78s\n",
      "2:\tlearn: 2623.7382296\ttotal: 479ms\tremaining: 7.5s\n",
      "3:\tlearn: 2436.4171457\ttotal: 669ms\tremaining: 7.69s\n",
      "4:\tlearn: 2328.8280964\ttotal: 779ms\tremaining: 7.01s\n",
      "5:\tlearn: 2262.5190545\ttotal: 970ms\tremaining: 7.11s\n",
      "6:\tlearn: 2217.6366322\ttotal: 1.08s\tremaining: 6.63s\n",
      "7:\tlearn: 2188.4297106\ttotal: 1.27s\tremaining: 6.68s\n",
      "8:\tlearn: 2151.2305427\ttotal: 1.46s\tremaining: 6.67s\n",
      "9:\tlearn: 2127.4591104\ttotal: 1.57s\tremaining: 6.29s\n",
      "10:\tlearn: 2107.2683947\ttotal: 1.77s\tremaining: 6.26s\n",
      "11:\tlearn: 2093.6216238\ttotal: 1.96s\tremaining: 6.21s\n",
      "12:\tlearn: 2082.3058068\ttotal: 2.07s\tremaining: 5.89s\n",
      "13:\tlearn: 2069.8995696\ttotal: 2.26s\tremaining: 5.82s\n",
      "14:\tlearn: 2056.3872533\ttotal: 2.37s\tremaining: 5.53s\n",
      "15:\tlearn: 2038.9185262\ttotal: 2.56s\tremaining: 5.45s\n",
      "16:\tlearn: 2028.1074857\ttotal: 2.76s\tremaining: 5.36s\n",
      "17:\tlearn: 2019.1404444\ttotal: 2.87s\tremaining: 5.1s\n",
      "18:\tlearn: 2012.8144293\ttotal: 3.06s\tremaining: 5s\n",
      "19:\tlearn: 1995.7140906\ttotal: 3.26s\tremaining: 4.89s\n",
      "20:\tlearn: 1987.7478996\ttotal: 3.37s\tremaining: 4.65s\n",
      "21:\tlearn: 1982.1119550\ttotal: 3.56s\tremaining: 4.53s\n",
      "22:\tlearn: 1976.4374594\ttotal: 3.67s\tremaining: 4.31s\n",
      "23:\tlearn: 1967.7153767\ttotal: 3.86s\tremaining: 4.18s\n",
      "24:\tlearn: 1960.9755779\ttotal: 4.05s\tremaining: 4.05s\n",
      "25:\tlearn: 1955.5781656\ttotal: 4.16s\tremaining: 3.84s\n",
      "26:\tlearn: 1949.9411685\ttotal: 4.35s\tremaining: 3.71s\n",
      "27:\tlearn: 1943.7540319\ttotal: 4.46s\tremaining: 3.5s\n",
      "28:\tlearn: 1938.4903881\ttotal: 4.65s\tremaining: 3.37s\n",
      "29:\tlearn: 1934.8228175\ttotal: 4.76s\tremaining: 3.17s\n",
      "30:\tlearn: 1926.9879601\ttotal: 4.96s\tremaining: 3.04s\n",
      "31:\tlearn: 1922.4465966\ttotal: 5.15s\tremaining: 2.9s\n",
      "32:\tlearn: 1918.4896104\ttotal: 5.26s\tremaining: 2.71s\n",
      "33:\tlearn: 1913.4894249\ttotal: 5.45s\tremaining: 2.56s\n",
      "34:\tlearn: 1909.1547458\ttotal: 5.64s\tremaining: 2.42s\n",
      "35:\tlearn: 1905.2402635\ttotal: 5.75s\tremaining: 2.24s\n",
      "36:\tlearn: 1900.7396303\ttotal: 5.94s\tremaining: 2.09s\n",
      "37:\tlearn: 1895.5534241\ttotal: 6.05s\tremaining: 1.91s\n",
      "38:\tlearn: 1892.7535337\ttotal: 6.24s\tremaining: 1.76s\n",
      "39:\tlearn: 1889.7381298\ttotal: 6.35s\tremaining: 1.59s\n",
      "40:\tlearn: 1886.2116554\ttotal: 6.55s\tremaining: 1.44s\n",
      "41:\tlearn: 1881.9901079\ttotal: 6.74s\tremaining: 1.28s\n",
      "42:\tlearn: 1879.3193768\ttotal: 6.85s\tremaining: 1.11s\n",
      "43:\tlearn: 1875.9315963\ttotal: 7.04s\tremaining: 960ms\n",
      "44:\tlearn: 1871.1916164\ttotal: 7.24s\tremaining: 804ms\n",
      "45:\tlearn: 1867.3184285\ttotal: 7.34s\tremaining: 639ms\n",
      "46:\tlearn: 1864.6996281\ttotal: 7.54s\tremaining: 481ms\n",
      "47:\tlearn: 1861.4979257\ttotal: 7.65s\tremaining: 319ms\n",
      "48:\tlearn: 1858.3695994\ttotal: 7.84s\tremaining: 160ms\n",
      "49:\tlearn: 1855.5387464\ttotal: 8.03s\tremaining: 0us\n",
      "0:\tlearn: 3565.4982134\ttotal: 113ms\tremaining: 5.54s\n",
      "1:\tlearn: 2965.7336252\ttotal: 309ms\tremaining: 7.42s\n",
      "2:\tlearn: 2625.9317903\ttotal: 506ms\tremaining: 7.92s\n",
      "3:\tlearn: 2437.4818851\ttotal: 622ms\tremaining: 7.15s\n",
      "4:\tlearn: 2335.0037055\ttotal: 814ms\tremaining: 7.33s\n",
      "5:\tlearn: 2265.1524937\ttotal: 1s\tremaining: 7.34s\n",
      "6:\tlearn: 2219.1448702\ttotal: 1.11s\tremaining: 6.84s\n",
      "7:\tlearn: 2176.8513712\ttotal: 1.3s\tremaining: 6.85s\n",
      "8:\tlearn: 2148.6383204\ttotal: 1.42s\tremaining: 6.46s\n",
      "9:\tlearn: 2130.5214706\ttotal: 1.6s\tremaining: 6.42s\n",
      "10:\tlearn: 2110.7648619\ttotal: 1.72s\tremaining: 6.08s\n",
      "11:\tlearn: 2094.1991880\ttotal: 1.9s\tremaining: 6.03s\n",
      "12:\tlearn: 2078.3692801\ttotal: 2.1s\tremaining: 5.97s\n",
      "13:\tlearn: 2066.2575324\ttotal: 2.21s\tremaining: 5.69s\n",
      "14:\tlearn: 2054.3341163\ttotal: 2.4s\tremaining: 5.6s\n",
      "15:\tlearn: 2045.5332389\ttotal: 2.6s\tremaining: 5.51s\n",
      "16:\tlearn: 2035.4837886\ttotal: 2.71s\tremaining: 5.25s\n",
      "17:\tlearn: 2024.3478717\ttotal: 2.9s\tremaining: 5.15s\n",
      "18:\tlearn: 2014.3133624\ttotal: 3.09s\tremaining: 5.04s\n",
      "19:\tlearn: 2002.8524795\ttotal: 3.2s\tremaining: 4.8s\n",
      "20:\tlearn: 1994.3969303\ttotal: 3.4s\tremaining: 4.69s\n",
      "21:\tlearn: 1986.9221516\ttotal: 3.59s\tremaining: 4.57s\n",
      "22:\tlearn: 1975.8650065\ttotal: 3.79s\tremaining: 4.45s\n",
      "23:\tlearn: 1969.7537030\ttotal: 3.9s\tremaining: 4.22s\n",
      "24:\tlearn: 1964.1684678\ttotal: 4.09s\tremaining: 4.09s\n",
      "25:\tlearn: 1958.2544840\ttotal: 4.2s\tremaining: 3.88s\n",
      "26:\tlearn: 1951.3650480\ttotal: 4.39s\tremaining: 3.74s\n",
      "27:\tlearn: 1945.9394021\ttotal: 4.58s\tremaining: 3.6s\n",
      "28:\tlearn: 1940.5075141\ttotal: 4.69s\tremaining: 3.4s\n",
      "29:\tlearn: 1936.5347139\ttotal: 4.88s\tremaining: 3.25s\n",
      "30:\tlearn: 1931.3303615\ttotal: 4.99s\tremaining: 3.06s\n",
      "31:\tlearn: 1925.0728218\ttotal: 5.19s\tremaining: 2.92s\n",
      "32:\tlearn: 1920.3769201\ttotal: 5.38s\tremaining: 2.77s\n",
      "33:\tlearn: 1916.0930492\ttotal: 5.48s\tremaining: 2.58s\n",
      "34:\tlearn: 1910.9719481\ttotal: 5.68s\tremaining: 2.43s\n",
      "35:\tlearn: 1906.8374518\ttotal: 5.88s\tremaining: 2.29s\n",
      "36:\tlearn: 1902.3504462\ttotal: 6.07s\tremaining: 2.13s\n",
      "37:\tlearn: 1899.1618941\ttotal: 6.18s\tremaining: 1.95s\n",
      "38:\tlearn: 1893.2273760\ttotal: 6.38s\tremaining: 1.8s\n",
      "39:\tlearn: 1890.1102076\ttotal: 6.57s\tremaining: 1.64s\n",
      "40:\tlearn: 1887.3144958\ttotal: 6.68s\tremaining: 1.47s\n",
      "41:\tlearn: 1883.7318365\ttotal: 6.87s\tremaining: 1.31s\n",
      "42:\tlearn: 1881.3711962\ttotal: 6.99s\tremaining: 1.14s\n",
      "43:\tlearn: 1876.8574763\ttotal: 7.17s\tremaining: 978ms\n",
      "44:\tlearn: 1874.5284539\ttotal: 7.37s\tremaining: 819ms\n",
      "45:\tlearn: 1869.2501443\ttotal: 7.48s\tremaining: 650ms\n",
      "46:\tlearn: 1865.6587341\ttotal: 7.67s\tremaining: 489ms\n",
      "47:\tlearn: 1862.5835795\ttotal: 7.86s\tremaining: 328ms\n",
      "48:\tlearn: 1858.9424313\ttotal: 7.97s\tremaining: 163ms\n",
      "49:\tlearn: 1855.3858081\ttotal: 8.17s\tremaining: 0us\n",
      "0:\tlearn: 3563.0364440\ttotal: 54.2ms\tremaining: 2.66s\n",
      "1:\tlearn: 2962.9556609\ttotal: 248ms\tremaining: 5.96s\n",
      "2:\tlearn: 2636.7538561\ttotal: 443ms\tremaining: 6.94s\n",
      "3:\tlearn: 2455.7202267\ttotal: 554ms\tremaining: 6.37s\n",
      "4:\tlearn: 2345.4852876\ttotal: 747ms\tremaining: 6.72s\n",
      "5:\tlearn: 2274.5819043\ttotal: 940ms\tremaining: 6.89s\n",
      "6:\tlearn: 2227.8483288\ttotal: 1.05s\tremaining: 6.46s\n",
      "7:\tlearn: 2194.3646412\ttotal: 1.24s\tremaining: 6.52s\n",
      "8:\tlearn: 2171.1693043\ttotal: 1.36s\tremaining: 6.19s\n",
      "9:\tlearn: 2137.1176305\ttotal: 1.54s\tremaining: 6.18s\n",
      "10:\tlearn: 2119.5076040\ttotal: 1.74s\tremaining: 6.16s\n",
      "11:\tlearn: 2098.5375881\ttotal: 1.84s\tremaining: 5.84s\n",
      "12:\tlearn: 2085.0896345\ttotal: 2.04s\tremaining: 5.81s\n",
      "13:\tlearn: 2072.8298888\ttotal: 2.23s\tremaining: 5.74s\n",
      "14:\tlearn: 2060.1710696\ttotal: 2.34s\tremaining: 5.46s\n",
      "15:\tlearn: 2051.7038933\ttotal: 2.53s\tremaining: 5.38s\n",
      "16:\tlearn: 2038.6076208\ttotal: 2.64s\tremaining: 5.13s\n",
      "17:\tlearn: 2030.5492216\ttotal: 2.83s\tremaining: 5.04s\n",
      "18:\tlearn: 2019.7029015\ttotal: 2.95s\tremaining: 4.81s\n",
      "19:\tlearn: 2010.1819662\ttotal: 3.13s\tremaining: 4.7s\n",
      "20:\tlearn: 2000.0746262\ttotal: 3.33s\tremaining: 4.6s\n",
      "21:\tlearn: 1994.4093030\ttotal: 3.44s\tremaining: 4.37s\n",
      "22:\tlearn: 1986.2196486\ttotal: 3.63s\tremaining: 4.26s\n",
      "23:\tlearn: 1980.7551455\ttotal: 3.74s\tremaining: 4.05s\n",
      "24:\tlearn: 1973.7719584\ttotal: 3.93s\tremaining: 3.93s\n",
      "25:\tlearn: 1965.6401336\ttotal: 4.12s\tremaining: 3.81s\n",
      "26:\tlearn: 1959.4913509\ttotal: 4.23s\tremaining: 3.6s\n",
      "27:\tlearn: 1954.3745940\ttotal: 4.42s\tremaining: 3.47s\n",
      "28:\tlearn: 1948.4841387\ttotal: 4.54s\tremaining: 3.28s\n",
      "29:\tlearn: 1940.9463949\ttotal: 4.73s\tremaining: 3.15s\n",
      "30:\tlearn: 1935.8660992\ttotal: 4.92s\tremaining: 3.02s\n",
      "31:\tlearn: 1930.7613430\ttotal: 5.03s\tremaining: 2.83s\n",
      "32:\tlearn: 1927.2698291\ttotal: 5.22s\tremaining: 2.69s\n",
      "33:\tlearn: 1923.1159054\ttotal: 5.33s\tremaining: 2.51s\n",
      "34:\tlearn: 1919.5214747\ttotal: 5.52s\tremaining: 2.37s\n",
      "35:\tlearn: 1916.1872699\ttotal: 5.63s\tremaining: 2.19s\n",
      "36:\tlearn: 1913.0744268\ttotal: 5.82s\tremaining: 2.04s\n",
      "37:\tlearn: 1909.4811253\ttotal: 5.93s\tremaining: 1.87s\n",
      "38:\tlearn: 1904.9563380\ttotal: 6.12s\tremaining: 1.73s\n",
      "39:\tlearn: 1900.7378125\ttotal: 6.32s\tremaining: 1.58s\n",
      "40:\tlearn: 1895.7433228\ttotal: 6.43s\tremaining: 1.41s\n",
      "41:\tlearn: 1892.8395340\ttotal: 6.62s\tremaining: 1.26s\n",
      "42:\tlearn: 1890.1537020\ttotal: 6.73s\tremaining: 1.09s\n",
      "43:\tlearn: 1886.1232462\ttotal: 6.91s\tremaining: 943ms\n",
      "44:\tlearn: 1879.9993090\ttotal: 7.03s\tremaining: 781ms\n",
      "45:\tlearn: 1875.2370002\ttotal: 7.22s\tremaining: 628ms\n",
      "46:\tlearn: 1872.7739459\ttotal: 7.41s\tremaining: 473ms\n",
      "47:\tlearn: 1868.2701431\ttotal: 7.52s\tremaining: 313ms\n",
      "48:\tlearn: 1864.6840701\ttotal: 7.71s\tremaining: 157ms\n",
      "49:\tlearn: 1861.5195761\ttotal: 7.9s\tremaining: 0us\n",
      "0:\tlearn: 3571.0068146\ttotal: 111ms\tremaining: 5.46s\n",
      "1:\tlearn: 2983.8874269\ttotal: 307ms\tremaining: 7.38s\n",
      "2:\tlearn: 2623.3665859\ttotal: 503ms\tremaining: 7.88s\n",
      "3:\tlearn: 2429.0507699\ttotal: 619ms\tremaining: 7.12s\n",
      "4:\tlearn: 2320.2813146\ttotal: 813ms\tremaining: 7.32s\n",
      "5:\tlearn: 2260.2008235\ttotal: 1.01s\tremaining: 7.41s\n",
      "6:\tlearn: 2199.1253049\ttotal: 1.2s\tremaining: 7.4s\n",
      "7:\tlearn: 2165.6622574\ttotal: 1.32s\tremaining: 6.95s\n",
      "8:\tlearn: 2139.3250339\ttotal: 1.51s\tremaining: 6.89s\n",
      "9:\tlearn: 2118.6254470\ttotal: 1.7s\tremaining: 6.82s\n",
      "10:\tlearn: 2104.9034551\ttotal: 1.82s\tremaining: 6.44s\n",
      "11:\tlearn: 2090.0463514\ttotal: 2s\tremaining: 6.34s\n",
      "12:\tlearn: 2066.7352617\ttotal: 2.19s\tremaining: 6.23s\n",
      "13:\tlearn: 2055.4738657\ttotal: 2.3s\tremaining: 5.92s\n",
      "14:\tlearn: 2042.4314167\ttotal: 2.48s\tremaining: 5.78s\n",
      "15:\tlearn: 2031.1807971\ttotal: 2.67s\tremaining: 5.67s\n",
      "16:\tlearn: 2022.4540183\ttotal: 2.78s\tremaining: 5.4s\n",
      "17:\tlearn: 2011.7847292\ttotal: 2.97s\tremaining: 5.28s\n",
      "18:\tlearn: 2002.7393881\ttotal: 3.16s\tremaining: 5.16s\n",
      "19:\tlearn: 1994.5709406\ttotal: 3.27s\tremaining: 4.91s\n",
      "20:\tlearn: 1989.6836714\ttotal: 3.46s\tremaining: 4.79s\n",
      "21:\tlearn: 1981.9090905\ttotal: 3.58s\tremaining: 4.55s\n",
      "22:\tlearn: 1973.8679850\ttotal: 3.77s\tremaining: 4.43s\n",
      "23:\tlearn: 1967.0444849\ttotal: 3.96s\tremaining: 4.29s\n",
      "24:\tlearn: 1960.2748008\ttotal: 4.16s\tremaining: 4.16s\n",
      "25:\tlearn: 1955.5755449\ttotal: 4.27s\tremaining: 3.94s\n",
      "26:\tlearn: 1950.2748739\ttotal: 4.46s\tremaining: 3.8s\n",
      "27:\tlearn: 1941.0457999\ttotal: 4.65s\tremaining: 3.66s\n",
      "28:\tlearn: 1934.6779649\ttotal: 4.77s\tremaining: 3.45s\n",
      "29:\tlearn: 1927.4010782\ttotal: 4.96s\tremaining: 3.3s\n",
      "30:\tlearn: 1923.3023050\ttotal: 5.15s\tremaining: 3.16s\n",
      "31:\tlearn: 1917.7731533\ttotal: 5.26s\tremaining: 2.96s\n",
      "32:\tlearn: 1913.3642947\ttotal: 5.46s\tremaining: 2.81s\n",
      "33:\tlearn: 1906.6488113\ttotal: 5.57s\tremaining: 2.62s\n",
      "34:\tlearn: 1902.0286066\ttotal: 5.76s\tremaining: 2.47s\n",
      "35:\tlearn: 1897.0548015\ttotal: 5.95s\tremaining: 2.31s\n",
      "36:\tlearn: 1893.5622251\ttotal: 6.07s\tremaining: 2.13s\n",
      "37:\tlearn: 1890.0877705\ttotal: 6.26s\tremaining: 1.98s\n",
      "38:\tlearn: 1886.0961348\ttotal: 6.45s\tremaining: 1.82s\n",
      "39:\tlearn: 1883.4797100\ttotal: 6.57s\tremaining: 1.64s\n",
      "40:\tlearn: 1881.1514141\ttotal: 6.76s\tremaining: 1.48s\n",
      "41:\tlearn: 1876.0571596\ttotal: 6.95s\tremaining: 1.32s\n",
      "42:\tlearn: 1873.1973486\ttotal: 7.14s\tremaining: 1.16s\n",
      "43:\tlearn: 1870.6355433\ttotal: 7.25s\tremaining: 989ms\n",
      "44:\tlearn: 1867.3832000\ttotal: 7.44s\tremaining: 827ms\n",
      "45:\tlearn: 1863.6487097\ttotal: 7.56s\tremaining: 658ms\n",
      "46:\tlearn: 1860.7956306\ttotal: 7.75s\tremaining: 495ms\n",
      "47:\tlearn: 1855.4844792\ttotal: 7.94s\tremaining: 331ms\n",
      "48:\tlearn: 1852.7409138\ttotal: 8.14s\tremaining: 166ms\n",
      "49:\tlearn: 1850.6240923\ttotal: 8.25s\tremaining: 0us\n",
      "0:\tlearn: 3574.0423348\ttotal: 117ms\tremaining: 5.75s\n",
      "1:\tlearn: 2982.3244778\ttotal: 315ms\tremaining: 7.55s\n",
      "2:\tlearn: 2637.6646647\ttotal: 506ms\tremaining: 7.92s\n",
      "3:\tlearn: 2455.8144111\ttotal: 703ms\tremaining: 8.09s\n",
      "4:\tlearn: 2340.1003105\ttotal: 817ms\tremaining: 7.35s\n",
      "5:\tlearn: 2274.0484084\ttotal: 1.01s\tremaining: 7.42s\n",
      "6:\tlearn: 2216.8195296\ttotal: 1.21s\tremaining: 7.42s\n",
      "7:\tlearn: 2186.1190643\ttotal: 1.4s\tremaining: 7.36s\n",
      "8:\tlearn: 2162.9978264\ttotal: 1.6s\tremaining: 7.29s\n",
      "9:\tlearn: 2139.5992271\ttotal: 1.71s\tremaining: 6.85s\n",
      "10:\tlearn: 2122.3173647\ttotal: 1.91s\tremaining: 6.76s\n",
      "11:\tlearn: 2101.6402446\ttotal: 2.1s\tremaining: 6.66s\n",
      "12:\tlearn: 2079.6822360\ttotal: 2.3s\tremaining: 6.54s\n",
      "13:\tlearn: 2067.6023516\ttotal: 2.41s\tremaining: 6.2s\n",
      "14:\tlearn: 2057.2836620\ttotal: 2.6s\tremaining: 6.07s\n",
      "15:\tlearn: 2048.1205817\ttotal: 2.8s\tremaining: 5.94s\n",
      "16:\tlearn: 2032.8549999\ttotal: 2.99s\tremaining: 5.81s\n",
      "17:\tlearn: 2020.8335257\ttotal: 3.1s\tremaining: 5.52s\n",
      "18:\tlearn: 2013.0721448\ttotal: 3.3s\tremaining: 5.38s\n",
      "19:\tlearn: 2003.6904912\ttotal: 3.49s\tremaining: 5.24s\n",
      "20:\tlearn: 1995.8398467\ttotal: 3.69s\tremaining: 5.09s\n",
      "21:\tlearn: 1986.6986353\ttotal: 3.81s\tremaining: 4.84s\n",
      "22:\tlearn: 1978.9217052\ttotal: 4s\tremaining: 4.69s\n",
      "23:\tlearn: 1970.3944430\ttotal: 4.19s\tremaining: 4.54s\n",
      "24:\tlearn: 1966.1709520\ttotal: 4.38s\tremaining: 4.38s\n",
      "25:\tlearn: 1962.2273987\ttotal: 4.49s\tremaining: 4.15s\n",
      "26:\tlearn: 1954.5480881\ttotal: 4.7s\tremaining: 4s\n",
      "27:\tlearn: 1949.1646903\ttotal: 4.88s\tremaining: 3.83s\n",
      "28:\tlearn: 1944.9246181\ttotal: 5s\tremaining: 3.62s\n",
      "29:\tlearn: 1940.0671979\ttotal: 5.19s\tremaining: 3.46s\n",
      "30:\tlearn: 1935.2667696\ttotal: 5.39s\tremaining: 3.3s\n",
      "31:\tlearn: 1931.1565709\ttotal: 5.58s\tremaining: 3.14s\n",
      "32:\tlearn: 1925.1504290\ttotal: 5.7s\tremaining: 2.94s\n",
      "33:\tlearn: 1921.7573407\ttotal: 5.89s\tremaining: 2.77s\n",
      "34:\tlearn: 1914.5801760\ttotal: 6.08s\tremaining: 2.6s\n",
      "35:\tlearn: 1907.7516390\ttotal: 6.2s\tremaining: 2.41s\n",
      "36:\tlearn: 1903.4054837\ttotal: 6.39s\tremaining: 2.24s\n",
      "37:\tlearn: 1898.7384767\ttotal: 6.58s\tremaining: 2.08s\n",
      "38:\tlearn: 1895.4647004\ttotal: 6.77s\tremaining: 1.91s\n",
      "39:\tlearn: 1892.2358565\ttotal: 6.88s\tremaining: 1.72s\n",
      "40:\tlearn: 1889.6217380\ttotal: 7.08s\tremaining: 1.55s\n",
      "41:\tlearn: 1886.8481786\ttotal: 7.19s\tremaining: 1.37s\n",
      "42:\tlearn: 1883.8891488\ttotal: 7.39s\tremaining: 1.2s\n",
      "43:\tlearn: 1881.5145505\ttotal: 7.58s\tremaining: 1.03s\n",
      "44:\tlearn: 1877.6985734\ttotal: 7.77s\tremaining: 864ms\n",
      "45:\tlearn: 1873.0301481\ttotal: 7.88s\tremaining: 686ms\n",
      "46:\tlearn: 1870.0637222\ttotal: 8.07s\tremaining: 515ms\n",
      "47:\tlearn: 1865.9874742\ttotal: 8.27s\tremaining: 345ms\n",
      "48:\tlearn: 1862.8661324\ttotal: 8.38s\tremaining: 171ms\n",
      "49:\tlearn: 1859.2387402\ttotal: 8.57s\tremaining: 0us\n",
      "0:\tlearn: 3316.4884428\ttotal: 103ms\tremaining: 5.04s\n",
      "1:\tlearn: 2752.3229331\ttotal: 297ms\tremaining: 7.13s\n",
      "2:\tlearn: 2470.5368643\ttotal: 492ms\tremaining: 7.71s\n",
      "3:\tlearn: 2321.2973336\ttotal: 608ms\tremaining: 6.99s\n",
      "4:\tlearn: 2247.6039382\ttotal: 796ms\tremaining: 7.16s\n",
      "5:\tlearn: 2200.5603889\ttotal: 990ms\tremaining: 7.26s\n",
      "6:\tlearn: 2169.1693327\ttotal: 1.11s\tremaining: 6.8s\n",
      "7:\tlearn: 2145.4464477\ttotal: 1.29s\tremaining: 6.78s\n",
      "8:\tlearn: 2121.9970593\ttotal: 1.49s\tremaining: 6.77s\n",
      "9:\tlearn: 2104.7662348\ttotal: 1.59s\tremaining: 6.38s\n",
      "10:\tlearn: 2089.1418860\ttotal: 1.78s\tremaining: 6.33s\n",
      "11:\tlearn: 2072.4346701\ttotal: 1.9s\tremaining: 6.02s\n",
      "12:\tlearn: 2059.1185888\ttotal: 2.09s\tremaining: 5.94s\n",
      "13:\tlearn: 2043.2248078\ttotal: 2.28s\tremaining: 5.86s\n",
      "14:\tlearn: 2019.8225411\ttotal: 2.39s\tremaining: 5.58s\n",
      "15:\tlearn: 2010.8651399\ttotal: 2.58s\tremaining: 5.49s\n",
      "16:\tlearn: 2002.8102784\ttotal: 2.78s\tremaining: 5.39s\n",
      "17:\tlearn: 1991.7006224\ttotal: 2.89s\tremaining: 5.13s\n",
      "18:\tlearn: 1981.1589356\ttotal: 3.08s\tremaining: 5.03s\n",
      "19:\tlearn: 1973.7771464\ttotal: 3.27s\tremaining: 4.91s\n",
      "20:\tlearn: 1964.9644297\ttotal: 3.39s\tremaining: 4.68s\n",
      "21:\tlearn: 1957.6381794\ttotal: 3.58s\tremaining: 4.55s\n",
      "22:\tlearn: 1950.3120475\ttotal: 3.69s\tremaining: 4.34s\n",
      "23:\tlearn: 1943.6215979\ttotal: 3.88s\tremaining: 4.2s\n",
      "24:\tlearn: 1936.2898142\ttotal: 4.07s\tremaining: 4.07s\n",
      "25:\tlearn: 1931.1417216\ttotal: 4.17s\tremaining: 3.85s\n",
      "26:\tlearn: 1926.8054170\ttotal: 4.37s\tremaining: 3.72s\n",
      "27:\tlearn: 1921.1001799\ttotal: 4.48s\tremaining: 3.52s\n",
      "28:\tlearn: 1912.2228115\ttotal: 4.67s\tremaining: 3.38s\n",
      "29:\tlearn: 1906.9146381\ttotal: 4.86s\tremaining: 3.24s\n",
      "30:\tlearn: 1897.4242466\ttotal: 5.06s\tremaining: 3.1s\n",
      "31:\tlearn: 1892.8792760\ttotal: 5.17s\tremaining: 2.91s\n",
      "32:\tlearn: 1889.7973985\ttotal: 5.36s\tremaining: 2.76s\n",
      "33:\tlearn: 1885.6887905\ttotal: 5.47s\tremaining: 2.57s\n",
      "34:\tlearn: 1882.6153844\ttotal: 5.66s\tremaining: 2.43s\n",
      "35:\tlearn: 1878.8824895\ttotal: 5.77s\tremaining: 2.24s\n",
      "36:\tlearn: 1873.7291916\ttotal: 5.96s\tremaining: 2.09s\n",
      "37:\tlearn: 1869.7883888\ttotal: 6.08s\tremaining: 1.92s\n",
      "38:\tlearn: 1865.2278694\ttotal: 6.26s\tremaining: 1.77s\n",
      "39:\tlearn: 1861.7561912\ttotal: 6.45s\tremaining: 1.61s\n",
      "40:\tlearn: 1855.6350995\ttotal: 6.56s\tremaining: 1.44s\n",
      "41:\tlearn: 1851.6710258\ttotal: 6.76s\tremaining: 1.29s\n",
      "42:\tlearn: 1847.7506742\ttotal: 6.87s\tremaining: 1.12s\n",
      "43:\tlearn: 1844.4119094\ttotal: 7.06s\tremaining: 963ms\n",
      "44:\tlearn: 1840.9465422\ttotal: 7.25s\tremaining: 806ms\n",
      "45:\tlearn: 1838.8817051\ttotal: 7.36s\tremaining: 640ms\n",
      "46:\tlearn: 1834.7414700\ttotal: 7.56s\tremaining: 482ms\n",
      "47:\tlearn: 1831.4837013\ttotal: 7.75s\tremaining: 323ms\n",
      "48:\tlearn: 1827.4284301\ttotal: 7.86s\tremaining: 160ms\n",
      "49:\tlearn: 1823.8047894\ttotal: 8.05s\tremaining: 0us\n",
      "0:\tlearn: 3327.9769035\ttotal: 97.9ms\tremaining: 4.8s\n",
      "1:\tlearn: 2752.7274958\ttotal: 291ms\tremaining: 6.98s\n",
      "2:\tlearn: 2480.2494441\ttotal: 487ms\tremaining: 7.62s\n",
      "3:\tlearn: 2318.7345220\ttotal: 598ms\tremaining: 6.88s\n",
      "4:\tlearn: 2242.5537967\ttotal: 793ms\tremaining: 7.13s\n",
      "5:\tlearn: 2194.2537691\ttotal: 980ms\tremaining: 7.19s\n",
      "6:\tlearn: 2160.7825636\ttotal: 1.09s\tremaining: 6.69s\n",
      "7:\tlearn: 2136.6382747\ttotal: 1.28s\tremaining: 6.72s\n",
      "8:\tlearn: 2116.2976947\ttotal: 1.39s\tremaining: 6.34s\n",
      "9:\tlearn: 2091.3172300\ttotal: 1.58s\tremaining: 6.34s\n",
      "10:\tlearn: 2077.3514028\ttotal: 1.78s\tremaining: 6.31s\n",
      "11:\tlearn: 2063.1362639\ttotal: 1.89s\tremaining: 5.98s\n",
      "12:\tlearn: 2050.3816625\ttotal: 2.08s\tremaining: 5.93s\n",
      "13:\tlearn: 2040.2113789\ttotal: 2.27s\tremaining: 5.85s\n",
      "14:\tlearn: 2029.6186029\ttotal: 2.39s\tremaining: 5.57s\n",
      "15:\tlearn: 2020.5858159\ttotal: 2.58s\tremaining: 5.49s\n",
      "16:\tlearn: 2005.4500836\ttotal: 2.77s\tremaining: 5.38s\n",
      "17:\tlearn: 1996.8342696\ttotal: 2.88s\tremaining: 5.12s\n",
      "18:\tlearn: 1988.6189352\ttotal: 3.07s\tremaining: 5.01s\n",
      "19:\tlearn: 1981.7213714\ttotal: 3.18s\tremaining: 4.77s\n",
      "20:\tlearn: 1968.0301528\ttotal: 3.37s\tremaining: 4.66s\n",
      "21:\tlearn: 1962.1439124\ttotal: 3.57s\tremaining: 4.54s\n",
      "22:\tlearn: 1952.9014330\ttotal: 3.68s\tremaining: 4.32s\n",
      "23:\tlearn: 1944.0444648\ttotal: 3.87s\tremaining: 4.19s\n",
      "24:\tlearn: 1932.3922386\ttotal: 3.98s\tremaining: 3.98s\n",
      "25:\tlearn: 1924.8400763\ttotal: 4.17s\tremaining: 3.85s\n",
      "26:\tlearn: 1920.4395895\ttotal: 4.28s\tremaining: 3.65s\n",
      "27:\tlearn: 1915.4051300\ttotal: 4.47s\tremaining: 3.51s\n",
      "28:\tlearn: 1909.7830539\ttotal: 4.67s\tremaining: 3.38s\n",
      "29:\tlearn: 1903.8016101\ttotal: 4.78s\tremaining: 3.18s\n",
      "30:\tlearn: 1899.0080790\ttotal: 4.97s\tremaining: 3.04s\n",
      "31:\tlearn: 1894.9331910\ttotal: 5.08s\tremaining: 2.86s\n",
      "32:\tlearn: 1889.3451147\ttotal: 5.27s\tremaining: 2.71s\n",
      "33:\tlearn: 1885.6240293\ttotal: 5.46s\tremaining: 2.57s\n",
      "34:\tlearn: 1881.5887026\ttotal: 5.58s\tremaining: 2.39s\n",
      "35:\tlearn: 1878.3257426\ttotal: 5.76s\tremaining: 2.24s\n",
      "36:\tlearn: 1874.8327188\ttotal: 5.96s\tremaining: 2.09s\n",
      "37:\tlearn: 1871.9318749\ttotal: 6.06s\tremaining: 1.91s\n",
      "38:\tlearn: 1868.0709896\ttotal: 6.26s\tremaining: 1.76s\n",
      "39:\tlearn: 1864.5929477\ttotal: 6.37s\tremaining: 1.59s\n",
      "40:\tlearn: 1858.0215427\ttotal: 6.56s\tremaining: 1.44s\n",
      "41:\tlearn: 1854.7903250\ttotal: 6.75s\tremaining: 1.29s\n",
      "42:\tlearn: 1851.4111822\ttotal: 6.86s\tremaining: 1.12s\n",
      "43:\tlearn: 1848.8143145\ttotal: 7.05s\tremaining: 962ms\n",
      "44:\tlearn: 1844.8513330\ttotal: 7.16s\tremaining: 796ms\n",
      "45:\tlearn: 1839.2737090\ttotal: 7.35s\tremaining: 639ms\n",
      "46:\tlearn: 1834.9225149\ttotal: 7.47s\tremaining: 477ms\n",
      "47:\tlearn: 1831.9764482\ttotal: 7.66s\tremaining: 319ms\n",
      "48:\tlearn: 1829.9759022\ttotal: 7.85s\tremaining: 160ms\n",
      "49:\tlearn: 1826.4296744\ttotal: 7.96s\tremaining: 0us\n",
      "0:\tlearn: 3326.1443117\ttotal: 40.6ms\tremaining: 1.99s\n",
      "1:\tlearn: 2754.7978447\ttotal: 238ms\tremaining: 5.7s\n",
      "2:\tlearn: 2462.9790105\ttotal: 431ms\tremaining: 6.75s\n",
      "3:\tlearn: 2316.2723920\ttotal: 540ms\tremaining: 6.21s\n",
      "4:\tlearn: 2241.7164805\ttotal: 734ms\tremaining: 6.6s\n",
      "5:\tlearn: 2200.4232055\ttotal: 926ms\tremaining: 6.79s\n",
      "6:\tlearn: 2158.6921611\ttotal: 1.03s\tremaining: 6.35s\n",
      "7:\tlearn: 2135.3075455\ttotal: 1.23s\tremaining: 6.44s\n",
      "8:\tlearn: 2112.6046649\ttotal: 1.34s\tremaining: 6.09s\n",
      "9:\tlearn: 2096.0610117\ttotal: 1.53s\tremaining: 6.11s\n",
      "10:\tlearn: 2081.8910330\ttotal: 1.64s\tremaining: 5.82s\n",
      "11:\tlearn: 2067.8060526\ttotal: 1.83s\tremaining: 5.79s\n",
      "12:\tlearn: 2055.9489530\ttotal: 2.02s\tremaining: 5.75s\n",
      "13:\tlearn: 2044.7930772\ttotal: 2.13s\tremaining: 5.49s\n",
      "14:\tlearn: 2027.6519795\ttotal: 2.33s\tremaining: 5.43s\n",
      "15:\tlearn: 2014.4948871\ttotal: 2.44s\tremaining: 5.18s\n",
      "16:\tlearn: 2003.7875323\ttotal: 2.63s\tremaining: 5.1s\n",
      "17:\tlearn: 1992.9121137\ttotal: 2.82s\tremaining: 5.01s\n",
      "18:\tlearn: 1986.9299351\ttotal: 2.93s\tremaining: 4.78s\n",
      "19:\tlearn: 1978.6309794\ttotal: 3.12s\tremaining: 4.68s\n",
      "20:\tlearn: 1968.8531578\ttotal: 3.32s\tremaining: 4.58s\n",
      "21:\tlearn: 1960.4855768\ttotal: 3.43s\tremaining: 4.37s\n",
      "22:\tlearn: 1954.2644512\ttotal: 3.62s\tremaining: 4.25s\n",
      "23:\tlearn: 1944.0238941\ttotal: 3.81s\tremaining: 4.13s\n",
      "24:\tlearn: 1938.6863642\ttotal: 3.92s\tremaining: 3.92s\n",
      "25:\tlearn: 1932.9833168\ttotal: 4.11s\tremaining: 3.8s\n",
      "26:\tlearn: 1926.6824155\ttotal: 4.31s\tremaining: 3.67s\n",
      "27:\tlearn: 1920.7871954\ttotal: 4.42s\tremaining: 3.47s\n",
      "28:\tlearn: 1915.8133207\ttotal: 4.61s\tremaining: 3.34s\n",
      "29:\tlearn: 1910.9370061\ttotal: 4.81s\tremaining: 3.2s\n",
      "30:\tlearn: 1900.6495701\ttotal: 4.92s\tremaining: 3.01s\n",
      "31:\tlearn: 1896.2799881\ttotal: 5.11s\tremaining: 2.87s\n",
      "32:\tlearn: 1892.3692287\ttotal: 5.3s\tremaining: 2.73s\n",
      "33:\tlearn: 1888.7670966\ttotal: 5.42s\tremaining: 2.55s\n",
      "34:\tlearn: 1885.1432601\ttotal: 5.61s\tremaining: 2.4s\n",
      "35:\tlearn: 1881.4581930\ttotal: 5.71s\tremaining: 2.22s\n",
      "36:\tlearn: 1876.9797099\ttotal: 5.91s\tremaining: 2.08s\n",
      "37:\tlearn: 1872.6223881\ttotal: 6.1s\tremaining: 1.93s\n",
      "38:\tlearn: 1869.7336151\ttotal: 6.21s\tremaining: 1.75s\n",
      "39:\tlearn: 1867.1141101\ttotal: 6.4s\tremaining: 1.6s\n",
      "40:\tlearn: 1863.7855161\ttotal: 6.51s\tremaining: 1.43s\n",
      "41:\tlearn: 1860.0582488\ttotal: 6.7s\tremaining: 1.28s\n",
      "42:\tlearn: 1856.3679585\ttotal: 6.81s\tremaining: 1.11s\n",
      "43:\tlearn: 1854.0086724\ttotal: 7s\tremaining: 954ms\n",
      "44:\tlearn: 1850.8221402\ttotal: 7.11s\tremaining: 790ms\n",
      "45:\tlearn: 1847.8704015\ttotal: 7.3s\tremaining: 635ms\n",
      "46:\tlearn: 1842.8871988\ttotal: 7.5s\tremaining: 479ms\n",
      "47:\tlearn: 1839.3030104\ttotal: 7.7s\tremaining: 321ms\n",
      "48:\tlearn: 1836.6794530\ttotal: 7.9s\tremaining: 161ms\n",
      "49:\tlearn: 1833.7273815\ttotal: 8s\tremaining: 0us\n",
      "0:\tlearn: 3337.0681159\ttotal: 26.2ms\tremaining: 1.28s\n",
      "1:\tlearn: 2736.7020368\ttotal: 214ms\tremaining: 5.14s\n",
      "2:\tlearn: 2457.6491447\ttotal: 407ms\tremaining: 6.38s\n",
      "3:\tlearn: 2316.3277475\ttotal: 513ms\tremaining: 5.9s\n",
      "4:\tlearn: 2237.1739349\ttotal: 706ms\tremaining: 6.35s\n",
      "5:\tlearn: 2187.5501110\ttotal: 814ms\tremaining: 5.97s\n",
      "6:\tlearn: 2160.4997691\ttotal: 1.01s\tremaining: 6.18s\n",
      "7:\tlearn: 2138.6395285\ttotal: 1.11s\tremaining: 5.85s\n",
      "8:\tlearn: 2115.0360356\ttotal: 1.31s\tremaining: 5.97s\n",
      "9:\tlearn: 2096.8068624\ttotal: 1.41s\tremaining: 5.65s\n",
      "10:\tlearn: 2083.0216494\ttotal: 1.6s\tremaining: 5.68s\n",
      "11:\tlearn: 2066.9712466\ttotal: 1.72s\tremaining: 5.44s\n",
      "12:\tlearn: 2054.4088536\ttotal: 1.91s\tremaining: 5.42s\n",
      "13:\tlearn: 2044.1066036\ttotal: 2.1s\tremaining: 5.4s\n",
      "14:\tlearn: 2028.6159878\ttotal: 2.21s\tremaining: 5.16s\n",
      "15:\tlearn: 2016.8696058\ttotal: 2.4s\tremaining: 5.1s\n",
      "16:\tlearn: 2002.1340468\ttotal: 2.51s\tremaining: 4.87s\n",
      "17:\tlearn: 1993.3800958\ttotal: 2.7s\tremaining: 4.8s\n",
      "18:\tlearn: 1984.2070887\ttotal: 2.89s\tremaining: 4.72s\n",
      "19:\tlearn: 1973.0441894\ttotal: 3s\tremaining: 4.5s\n",
      "20:\tlearn: 1966.3529428\ttotal: 3.19s\tremaining: 4.41s\n",
      "21:\tlearn: 1957.3752895\ttotal: 3.3s\tremaining: 4.2s\n",
      "22:\tlearn: 1944.8761011\ttotal: 3.5s\tremaining: 4.11s\n",
      "23:\tlearn: 1934.5235406\ttotal: 3.69s\tremaining: 4s\n",
      "24:\tlearn: 1928.7453777\ttotal: 3.8s\tremaining: 3.8s\n",
      "25:\tlearn: 1923.3970267\ttotal: 3.99s\tremaining: 3.68s\n",
      "26:\tlearn: 1917.2888719\ttotal: 4.11s\tremaining: 3.5s\n",
      "27:\tlearn: 1912.5859048\ttotal: 4.29s\tremaining: 3.37s\n",
      "28:\tlearn: 1907.5096122\ttotal: 4.49s\tremaining: 3.25s\n",
      "29:\tlearn: 1903.2348000\ttotal: 4.6s\tremaining: 3.06s\n",
      "30:\tlearn: 1897.8257082\ttotal: 4.79s\tremaining: 2.93s\n",
      "31:\tlearn: 1891.4784396\ttotal: 4.9s\tremaining: 2.75s\n",
      "32:\tlearn: 1886.9118170\ttotal: 5.09s\tremaining: 2.62s\n",
      "33:\tlearn: 1883.5333143\ttotal: 5.2s\tremaining: 2.44s\n",
      "34:\tlearn: 1878.8598880\ttotal: 5.38s\tremaining: 2.31s\n",
      "35:\tlearn: 1872.4687823\ttotal: 5.49s\tremaining: 2.14s\n",
      "36:\tlearn: 1867.8557735\ttotal: 5.69s\tremaining: 2s\n",
      "37:\tlearn: 1864.7109322\ttotal: 5.88s\tremaining: 1.86s\n",
      "38:\tlearn: 1858.9723883\ttotal: 6s\tremaining: 1.69s\n",
      "39:\tlearn: 1853.8661523\ttotal: 6.18s\tremaining: 1.54s\n",
      "40:\tlearn: 1849.7545962\ttotal: 6.29s\tremaining: 1.38s\n",
      "41:\tlearn: 1845.3715649\ttotal: 6.48s\tremaining: 1.23s\n",
      "42:\tlearn: 1843.1845365\ttotal: 6.67s\tremaining: 1.09s\n",
      "43:\tlearn: 1840.4231656\ttotal: 6.78s\tremaining: 925ms\n",
      "44:\tlearn: 1837.1297679\ttotal: 6.98s\tremaining: 776ms\n",
      "45:\tlearn: 1833.6808940\ttotal: 7.17s\tremaining: 624ms\n",
      "46:\tlearn: 1831.0482968\ttotal: 7.28s\tremaining: 465ms\n",
      "47:\tlearn: 1826.6831851\ttotal: 7.48s\tremaining: 312ms\n",
      "48:\tlearn: 1824.0779918\ttotal: 7.67s\tremaining: 156ms\n",
      "49:\tlearn: 1821.4361134\ttotal: 7.78s\tremaining: 0us\n",
      "0:\tlearn: 3337.1557776\ttotal: 96.6ms\tremaining: 4.73s\n",
      "1:\tlearn: 2753.2486993\ttotal: 290ms\tremaining: 6.97s\n",
      "2:\tlearn: 2478.0761818\ttotal: 485ms\tremaining: 7.59s\n",
      "3:\tlearn: 2333.7304278\ttotal: 594ms\tremaining: 6.83s\n",
      "4:\tlearn: 2258.8812111\ttotal: 785ms\tremaining: 7.07s\n",
      "5:\tlearn: 2206.5622644\ttotal: 901ms\tremaining: 6.61s\n",
      "6:\tlearn: 2165.6151498\ttotal: 1.09s\tremaining: 6.7s\n",
      "7:\tlearn: 2143.6718065\ttotal: 1.28s\tremaining: 6.74s\n",
      "8:\tlearn: 2123.4750126\ttotal: 1.39s\tremaining: 6.35s\n",
      "9:\tlearn: 2102.6692773\ttotal: 1.58s\tremaining: 6.33s\n",
      "10:\tlearn: 2085.7862360\ttotal: 1.69s\tremaining: 6s\n",
      "11:\tlearn: 2073.7712100\ttotal: 1.88s\tremaining: 5.95s\n",
      "12:\tlearn: 2061.4583517\ttotal: 2.07s\tremaining: 5.9s\n",
      "13:\tlearn: 2049.0056362\ttotal: 2.18s\tremaining: 5.62s\n",
      "14:\tlearn: 2032.4344836\ttotal: 2.38s\tremaining: 5.55s\n",
      "15:\tlearn: 2022.6642683\ttotal: 2.57s\tremaining: 5.47s\n",
      "16:\tlearn: 2012.0021169\ttotal: 2.69s\tremaining: 5.22s\n",
      "17:\tlearn: 2002.3586178\ttotal: 2.88s\tremaining: 5.11s\n",
      "18:\tlearn: 1989.6160593\ttotal: 2.99s\tremaining: 4.88s\n",
      "19:\tlearn: 1983.5910974\ttotal: 3.18s\tremaining: 4.76s\n",
      "20:\tlearn: 1974.9513300\ttotal: 3.37s\tremaining: 4.65s\n",
      "21:\tlearn: 1968.0406928\ttotal: 3.48s\tremaining: 4.43s\n",
      "22:\tlearn: 1961.3471718\ttotal: 3.67s\tremaining: 4.31s\n",
      "23:\tlearn: 1955.7122591\ttotal: 3.78s\tremaining: 4.09s\n",
      "24:\tlearn: 1946.9551391\ttotal: 3.97s\tremaining: 3.97s\n",
      "25:\tlearn: 1940.7513946\ttotal: 4.08s\tremaining: 3.76s\n",
      "26:\tlearn: 1932.9591353\ttotal: 4.27s\tremaining: 3.64s\n",
      "27:\tlearn: 1927.2572935\ttotal: 4.46s\tremaining: 3.51s\n",
      "28:\tlearn: 1922.8177661\ttotal: 4.57s\tremaining: 3.31s\n",
      "29:\tlearn: 1914.8277213\ttotal: 4.76s\tremaining: 3.18s\n",
      "30:\tlearn: 1908.9820701\ttotal: 4.87s\tremaining: 2.99s\n",
      "31:\tlearn: 1904.3745746\ttotal: 5.06s\tremaining: 2.85s\n",
      "32:\tlearn: 1900.1773760\ttotal: 5.26s\tremaining: 2.71s\n",
      "33:\tlearn: 1895.1877773\ttotal: 5.37s\tremaining: 2.52s\n",
      "34:\tlearn: 1891.3980095\ttotal: 5.56s\tremaining: 2.38s\n",
      "35:\tlearn: 1882.6434403\ttotal: 5.75s\tremaining: 2.24s\n",
      "36:\tlearn: 1879.2487222\ttotal: 5.86s\tremaining: 2.06s\n",
      "37:\tlearn: 1873.9140195\ttotal: 6.05s\tremaining: 1.91s\n",
      "38:\tlearn: 1870.3531972\ttotal: 6.16s\tremaining: 1.74s\n",
      "39:\tlearn: 1867.0639571\ttotal: 6.35s\tremaining: 1.59s\n",
      "40:\tlearn: 1864.7000201\ttotal: 6.46s\tremaining: 1.42s\n",
      "41:\tlearn: 1862.1303929\ttotal: 6.66s\tremaining: 1.27s\n",
      "42:\tlearn: 1856.8581370\ttotal: 6.85s\tremaining: 1.11s\n",
      "43:\tlearn: 1851.5954831\ttotal: 6.96s\tremaining: 949ms\n",
      "44:\tlearn: 1849.0696775\ttotal: 7.15s\tremaining: 794ms\n",
      "45:\tlearn: 1845.7740949\ttotal: 7.34s\tremaining: 639ms\n",
      "46:\tlearn: 1841.7166398\ttotal: 7.46s\tremaining: 476ms\n",
      "47:\tlearn: 1838.8928694\ttotal: 7.65s\tremaining: 319ms\n",
      "48:\tlearn: 1835.2080505\ttotal: 7.84s\tremaining: 160ms\n",
      "49:\tlearn: 1832.5535371\ttotal: 7.95s\tremaining: 0us\n",
      "0:\tlearn: 3321.5399368\ttotal: 178ms\tremaining: 8.7s\n",
      "1:\tlearn: 2742.9053598\ttotal: 377ms\tremaining: 9.04s\n",
      "2:\tlearn: 2468.4885444\ttotal: 576ms\tremaining: 9.02s\n",
      "3:\tlearn: 2333.3524435\ttotal: 775ms\tremaining: 8.91s\n",
      "4:\tlearn: 2252.6991084\ttotal: 973ms\tremaining: 8.76s\n",
      "5:\tlearn: 2205.4981815\ttotal: 1.17s\tremaining: 8.59s\n",
      "6:\tlearn: 2170.4701024\ttotal: 1.37s\tremaining: 8.41s\n",
      "7:\tlearn: 2139.7848252\ttotal: 1.57s\tremaining: 8.23s\n",
      "8:\tlearn: 2121.2252926\ttotal: 1.68s\tremaining: 7.66s\n",
      "9:\tlearn: 2101.5408104\ttotal: 1.88s\tremaining: 7.51s\n",
      "10:\tlearn: 2086.4576745\ttotal: 2.07s\tremaining: 7.35s\n",
      "11:\tlearn: 2074.3359942\ttotal: 2.27s\tremaining: 7.18s\n",
      "12:\tlearn: 2063.1091197\ttotal: 2.38s\tremaining: 6.77s\n",
      "13:\tlearn: 2050.6873150\ttotal: 2.57s\tremaining: 6.62s\n",
      "14:\tlearn: 2035.6155234\ttotal: 2.78s\tremaining: 6.48s\n",
      "15:\tlearn: 2023.4406587\ttotal: 2.97s\tremaining: 6.32s\n",
      "16:\tlearn: 2011.7984579\ttotal: 3.17s\tremaining: 6.15s\n",
      "17:\tlearn: 1996.8569271\ttotal: 3.37s\tremaining: 5.98s\n",
      "18:\tlearn: 1987.0343063\ttotal: 3.56s\tremaining: 5.82s\n",
      "19:\tlearn: 1981.0846900\ttotal: 3.76s\tremaining: 5.64s\n",
      "20:\tlearn: 1970.5785148\ttotal: 3.88s\tremaining: 5.36s\n",
      "21:\tlearn: 1960.8444315\ttotal: 4.07s\tremaining: 5.18s\n",
      "22:\tlearn: 1955.1000215\ttotal: 4.27s\tremaining: 5.01s\n",
      "23:\tlearn: 1949.4469270\ttotal: 4.46s\tremaining: 4.84s\n",
      "24:\tlearn: 1941.6309011\ttotal: 4.67s\tremaining: 4.67s\n",
      "25:\tlearn: 1935.5581703\ttotal: 4.86s\tremaining: 4.49s\n",
      "26:\tlearn: 1931.3904036\ttotal: 5.06s\tremaining: 4.31s\n",
      "27:\tlearn: 1924.7311260\ttotal: 5.26s\tremaining: 4.13s\n",
      "28:\tlearn: 1919.5997854\ttotal: 5.45s\tremaining: 3.95s\n",
      "29:\tlearn: 1912.7332195\ttotal: 5.65s\tremaining: 3.77s\n",
      "30:\tlearn: 1907.1269769\ttotal: 5.85s\tremaining: 3.59s\n",
      "31:\tlearn: 1902.0096367\ttotal: 5.96s\tremaining: 3.35s\n",
      "32:\tlearn: 1895.6862067\ttotal: 6.16s\tremaining: 3.17s\n",
      "33:\tlearn: 1892.3012944\ttotal: 6.35s\tremaining: 2.99s\n",
      "34:\tlearn: 1888.3157181\ttotal: 6.55s\tremaining: 2.81s\n",
      "35:\tlearn: 1884.3352421\ttotal: 6.75s\tremaining: 2.63s\n",
      "36:\tlearn: 1880.7178257\ttotal: 6.95s\tremaining: 2.44s\n",
      "37:\tlearn: 1877.8381023\ttotal: 7.08s\tremaining: 2.23s\n",
      "38:\tlearn: 1873.3894991\ttotal: 7.26s\tremaining: 2.05s\n",
      "39:\tlearn: 1870.3994026\ttotal: 7.45s\tremaining: 1.86s\n",
      "40:\tlearn: 1867.2656876\ttotal: 7.64s\tremaining: 1.68s\n",
      "41:\tlearn: 1860.2909633\ttotal: 7.84s\tremaining: 1.49s\n",
      "42:\tlearn: 1857.6129867\ttotal: 7.96s\tremaining: 1.29s\n",
      "43:\tlearn: 1853.0025505\ttotal: 8.15s\tremaining: 1.11s\n",
      "44:\tlearn: 1848.9637347\ttotal: 8.35s\tremaining: 928ms\n",
      "45:\tlearn: 1845.5983640\ttotal: 8.55s\tremaining: 743ms\n",
      "46:\tlearn: 1842.4222538\ttotal: 8.75s\tremaining: 558ms\n",
      "47:\tlearn: 1839.4862642\ttotal: 8.94s\tremaining: 373ms\n",
      "48:\tlearn: 1837.0414508\ttotal: 9.14s\tremaining: 186ms\n",
      "49:\tlearn: 1832.0814739\ttotal: 9.34s\tremaining: 0us\n",
      "Best parameters: {'learning_rate': 0.5}\n",
      "CPU times: user 6min 3s, sys: 21.5 s, total: 6min 24s\n",
      "Wall time: 7min 24s\n"
     ]
    }
   ],
   "source": [
    "%%time\n",
    "best_model = random_search_cv(cat_model, params, X_train, y_train) # fit the model"
   ]
  },
  {
   "cell_type": "code",
   "execution_count": 61,
   "metadata": {},
   "outputs": [
    {
     "name": "stdout",
     "output_type": "stream",
     "text": [
      "CPU times: user 11.4 s, sys: 148 ms, total: 11.6 s\n",
      "Wall time: 11.6 s\n"
     ]
    }
   ],
   "source": [
    "%%time\n",
    "y_pred_train = best_model.predict(X_train) # predict values for train data"
   ]
  },
  {
   "cell_type": "code",
   "execution_count": 62,
   "metadata": {},
   "outputs": [
    {
     "name": "stdout",
     "output_type": "stream",
     "text": [
      "CPU times: user 3.95 s, sys: 52.1 ms, total: 4 s\n",
      "Wall time: 4.08 s\n"
     ]
    }
   ],
   "source": [
    "%%time\n",
    "y_pred_test = best_model.predict(X_test) # predict values for test data"
   ]
  },
  {
   "cell_type": "code",
   "execution_count": 63,
   "metadata": {
    "scrolled": true
   },
   "outputs": [
    {
     "name": "stdout",
     "output_type": "stream",
     "text": [
      "RMSE_train: 1832.08\n",
      "RMSE_test: 1866.24\n"
     ]
    }
   ],
   "source": [
    "# print RMSE for train and test\n",
    "print('RMSE_train:', round(mean_squared_error(y_train, y_pred_train) ** 0.5, 2))\n",
    "print('RMSE_test:', round(mean_squared_error(y_test, y_pred_test) ** 0.5, 2))"
   ]
  },
  {
   "cell_type": "markdown",
   "metadata": {},
   "source": [
    "### 2.7. XGBoost "
   ]
  },
  {
   "cell_type": "code",
   "execution_count": 54,
   "metadata": {},
   "outputs": [],
   "source": [
    "xgb_model = XGBRegressor(max_depth=9, n_estimators=40, random_state=42) # create model class\n",
    "params = {'learning_rate': [.2, .4, .5]}"
   ]
  },
  {
   "cell_type": "code",
   "execution_count": 55,
   "metadata": {},
   "outputs": [
    {
     "name": "stderr",
     "output_type": "stream",
     "text": [
      "/opt/conda/lib/python3.7/site-packages/sklearn/model_selection/_search.py:266: UserWarning: The total space of parameters 3 is smaller than n_iter=10. Running 3 iterations. For exhaustive searches, use GridSearchCV.\n",
      "  % (grid_size, self.n_iter, grid_size), UserWarning)\n"
     ]
    },
    {
     "name": "stdout",
     "output_type": "stream",
     "text": [
      "[01:14:01] WARNING: /workspace/src/objective/regression_obj.cu:152: reg:linear is now deprecated in favor of reg:squarederror.\n",
      "[01:16:04] WARNING: /workspace/src/objective/regression_obj.cu:152: reg:linear is now deprecated in favor of reg:squarederror.\n",
      "[01:18:07] WARNING: /workspace/src/objective/regression_obj.cu:152: reg:linear is now deprecated in favor of reg:squarederror.\n",
      "[01:20:15] WARNING: /workspace/src/objective/regression_obj.cu:152: reg:linear is now deprecated in favor of reg:squarederror.\n",
      "[01:22:18] WARNING: /workspace/src/objective/regression_obj.cu:152: reg:linear is now deprecated in favor of reg:squarederror.\n",
      "[01:24:21] WARNING: /workspace/src/objective/regression_obj.cu:152: reg:linear is now deprecated in favor of reg:squarederror.\n",
      "[01:26:23] WARNING: /workspace/src/objective/regression_obj.cu:152: reg:linear is now deprecated in favor of reg:squarederror.\n",
      "[01:28:23] WARNING: /workspace/src/objective/regression_obj.cu:152: reg:linear is now deprecated in favor of reg:squarederror.\n",
      "[01:30:23] WARNING: /workspace/src/objective/regression_obj.cu:152: reg:linear is now deprecated in favor of reg:squarederror.\n",
      "[01:32:24] WARNING: /workspace/src/objective/regression_obj.cu:152: reg:linear is now deprecated in favor of reg:squarederror.\n",
      "[01:34:28] WARNING: /workspace/src/objective/regression_obj.cu:152: reg:linear is now deprecated in favor of reg:squarederror.\n",
      "[01:36:29] WARNING: /workspace/src/objective/regression_obj.cu:152: reg:linear is now deprecated in favor of reg:squarederror.\n",
      "[01:38:29] WARNING: /workspace/src/objective/regression_obj.cu:152: reg:linear is now deprecated in favor of reg:squarederror.\n",
      "[01:40:29] WARNING: /workspace/src/objective/regression_obj.cu:152: reg:linear is now deprecated in favor of reg:squarederror.\n",
      "[01:42:29] WARNING: /workspace/src/objective/regression_obj.cu:152: reg:linear is now deprecated in favor of reg:squarederror.\n",
      "[01:44:29] WARNING: /workspace/src/objective/regression_obj.cu:152: reg:linear is now deprecated in favor of reg:squarederror.\n",
      "Best parameters: {'learning_rate': 0.4}\n",
      "CPU times: user 32min 32s, sys: 18.2 s, total: 32min 50s\n",
      "Wall time: 32min 57s\n"
     ]
    }
   ],
   "source": [
    "%%time\n",
    "best_model = random_search_cv(xgb_model, params, X_train, y_train) # fit the model"
   ]
  },
  {
   "cell_type": "code",
   "execution_count": 56,
   "metadata": {},
   "outputs": [
    {
     "name": "stdout",
     "output_type": "stream",
     "text": [
      "CPU times: user 1.41 s, sys: 308 ms, total: 1.72 s\n",
      "Wall time: 1.73 s\n"
     ]
    }
   ],
   "source": [
    "%%time\n",
    "y_pred_train = best_model.predict(X_train) # predict values for train data"
   ]
  },
  {
   "cell_type": "code",
   "execution_count": 57,
   "metadata": {},
   "outputs": [
    {
     "name": "stdout",
     "output_type": "stream",
     "text": [
      "CPU times: user 483 ms, sys: 108 ms, total: 591 ms\n",
      "Wall time: 600 ms\n"
     ]
    }
   ],
   "source": [
    "%%time\n",
    "y_pred_test = best_model.predict(X_test) # predict values for test data"
   ]
  },
  {
   "cell_type": "code",
   "execution_count": 58,
   "metadata": {
    "scrolled": true
   },
   "outputs": [
    {
     "name": "stdout",
     "output_type": "stream",
     "text": [
      "RMSE_train: 1677.11\n",
      "RMSE_test: 1847.21\n"
     ]
    }
   ],
   "source": [
    "# print RMSE for train and test\n",
    "print('RMSE_train:', round(mean_squared_error(y_train, y_pred_train) ** 0.5, 2))\n",
    "print('RMSE_test:', round(mean_squared_error(y_test, y_pred_test) ** 0.5, 2))"
   ]
  },
  {
   "cell_type": "markdown",
   "metadata": {},
   "source": [
    "## 3. Model analysis"
   ]
  },
  {
   "cell_type": "markdown",
   "metadata": {},
   "source": [
    "XGBoost model has the bes RMSE (RMSE_test: 1847.21), but low train speed (32min 57s). LightGBM has similar RMSE (RMSE_test: 1889.2), but train speed more fast (5min 48s). CatBoost has better RMSE than LightGBM (RMSE_test: 1866.24), but speed is lower (7min 24s). "
   ]
  },
  {
   "cell_type": "markdown",
   "metadata": {},
   "source": [
    "## 4. Conclusion"
   ]
  },
  {
   "cell_type": "markdown",
   "metadata": {},
   "source": [
    "LightGBM is the best with these hyperparameters."
   ]
  }
 ],
 "metadata": {
  "kernelspec": {
   "display_name": "Python 3",
   "language": "python",
   "name": "python3"
  },
  "language_info": {
   "codemirror_mode": {
    "name": "ipython",
    "version": 3
   },
   "file_extension": ".py",
   "mimetype": "text/x-python",
   "name": "python",
   "nbconvert_exporter": "python",
   "pygments_lexer": "ipython3",
   "version": "3.7.6"
  }
 },
 "nbformat": 4,
 "nbformat_minor": 2
}
