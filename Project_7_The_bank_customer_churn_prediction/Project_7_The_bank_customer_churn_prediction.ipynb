{
 "cells": [
  {
   "cell_type": "markdown",
   "metadata": {},
   "source": [
    "# The bank customer churn prediction"
   ]
  },
  {
   "cell_type": "markdown",
   "metadata": {},
   "source": [
    "Beta Bank customers are leaving: little by little, chipping away every month. The bankers figured out it’s cheaper to save the existing customers rather than to attract new ones.\n",
    "\n",
    "We need to predict whether a customer will leave the bank soon. We have the data on clients’ past behavior and termination of contracts with the bank.\n",
    "\n",
    "We build a model with the maximum possible F1 score. We need an F1 score of at least 0.59.\n",
    "Additionally, measure the AUC-ROC metric and compare it with the F1."
   ]
  },
  {
   "cell_type": "markdown",
   "metadata": {},
   "source": [
    "### Step 1. Open the data file and study the general information"
   ]
  },
  {
   "cell_type": "code",
   "execution_count": 1,
   "metadata": {},
   "outputs": [],
   "source": [
    "# import libs\n",
    "import pandas as pd\n",
    "import numpy as np\n",
    "%config InlineBackend.figure_format = 'retina' \n",
    "from sklearn.tree import DecisionTreeClassifier\n",
    "from sklearn.ensemble import RandomForestClassifier\n",
    "from sklearn.linear_model import LogisticRegression\n",
    "from sklearn.ensemble import GradientBoostingClassifier\n",
    "from sklearn.model_selection import train_test_split\n",
    "from sklearn.preprocessing import StandardScaler\n",
    "from sklearn.metrics import accuracy_score\n",
    "from sklearn.utils import shuffle\n",
    "from sklearn.metrics import f1_score\n",
    "from sklearn.metrics import roc_auc_score"
   ]
  },
  {
   "cell_type": "markdown",
   "metadata": {},
   "source": [
    "*Read the file with data from \"Churn.csv\" and save it to the variable*"
   ]
  },
  {
   "cell_type": "code",
   "execution_count": 2,
   "metadata": {},
   "outputs": [],
   "source": [
    "# read the data\n",
    "df_bank = pd.read_csv('churn.csv')"
   ]
  },
  {
   "cell_type": "markdown",
   "metadata": {},
   "source": [
    "*Print 5 random rows*"
   ]
  },
  {
   "cell_type": "code",
   "execution_count": 3,
   "metadata": {},
   "outputs": [
    {
     "data": {
      "text/html": [
       "<div>\n",
       "<style scoped>\n",
       "    .dataframe tbody tr th:only-of-type {\n",
       "        vertical-align: middle;\n",
       "    }\n",
       "\n",
       "    .dataframe tbody tr th {\n",
       "        vertical-align: top;\n",
       "    }\n",
       "\n",
       "    .dataframe thead th {\n",
       "        text-align: right;\n",
       "    }\n",
       "</style>\n",
       "<table border=\"1\" class=\"dataframe\">\n",
       "  <thead>\n",
       "    <tr style=\"text-align: right;\">\n",
       "      <th></th>\n",
       "      <th>RowNumber</th>\n",
       "      <th>CustomerId</th>\n",
       "      <th>Surname</th>\n",
       "      <th>CreditScore</th>\n",
       "      <th>Geography</th>\n",
       "      <th>Gender</th>\n",
       "      <th>Age</th>\n",
       "      <th>Tenure</th>\n",
       "      <th>Balance</th>\n",
       "      <th>NumOfProducts</th>\n",
       "      <th>HasCrCard</th>\n",
       "      <th>IsActiveMember</th>\n",
       "      <th>EstimatedSalary</th>\n",
       "      <th>Exited</th>\n",
       "    </tr>\n",
       "  </thead>\n",
       "  <tbody>\n",
       "    <tr>\n",
       "      <th>5669</th>\n",
       "      <td>5670</td>\n",
       "      <td>15706706</td>\n",
       "      <td>Chinwendu</td>\n",
       "      <td>648</td>\n",
       "      <td>Germany</td>\n",
       "      <td>Male</td>\n",
       "      <td>33</td>\n",
       "      <td>7.0</td>\n",
       "      <td>135310.41</td>\n",
       "      <td>2</td>\n",
       "      <td>0</td>\n",
       "      <td>1</td>\n",
       "      <td>171668.20</td>\n",
       "      <td>0</td>\n",
       "    </tr>\n",
       "    <tr>\n",
       "      <th>8800</th>\n",
       "      <td>8801</td>\n",
       "      <td>15647890</td>\n",
       "      <td>Su</td>\n",
       "      <td>691</td>\n",
       "      <td>France</td>\n",
       "      <td>Male</td>\n",
       "      <td>37</td>\n",
       "      <td>9.0</td>\n",
       "      <td>149405.18</td>\n",
       "      <td>1</td>\n",
       "      <td>1</td>\n",
       "      <td>1</td>\n",
       "      <td>146411.60</td>\n",
       "      <td>0</td>\n",
       "    </tr>\n",
       "    <tr>\n",
       "      <th>3205</th>\n",
       "      <td>3206</td>\n",
       "      <td>15733973</td>\n",
       "      <td>Bibi</td>\n",
       "      <td>850</td>\n",
       "      <td>France</td>\n",
       "      <td>Female</td>\n",
       "      <td>42</td>\n",
       "      <td>8.0</td>\n",
       "      <td>0.00</td>\n",
       "      <td>1</td>\n",
       "      <td>1</td>\n",
       "      <td>0</td>\n",
       "      <td>19632.64</td>\n",
       "      <td>1</td>\n",
       "    </tr>\n",
       "    <tr>\n",
       "      <th>8731</th>\n",
       "      <td>8732</td>\n",
       "      <td>15769125</td>\n",
       "      <td>Palerma</td>\n",
       "      <td>727</td>\n",
       "      <td>Spain</td>\n",
       "      <td>Female</td>\n",
       "      <td>41</td>\n",
       "      <td>10.0</td>\n",
       "      <td>0.00</td>\n",
       "      <td>2</td>\n",
       "      <td>0</td>\n",
       "      <td>1</td>\n",
       "      <td>47468.56</td>\n",
       "      <td>0</td>\n",
       "    </tr>\n",
       "    <tr>\n",
       "      <th>6412</th>\n",
       "      <td>6413</td>\n",
       "      <td>15598982</td>\n",
       "      <td>Klein</td>\n",
       "      <td>602</td>\n",
       "      <td>Germany</td>\n",
       "      <td>Female</td>\n",
       "      <td>53</td>\n",
       "      <td>5.0</td>\n",
       "      <td>98268.84</td>\n",
       "      <td>1</td>\n",
       "      <td>0</td>\n",
       "      <td>1</td>\n",
       "      <td>45038.29</td>\n",
       "      <td>1</td>\n",
       "    </tr>\n",
       "  </tbody>\n",
       "</table>\n",
       "</div>"
      ],
      "text/plain": [
       "      RowNumber  CustomerId    Surname  CreditScore Geography  Gender  Age  \\\n",
       "5669       5670    15706706  Chinwendu          648   Germany    Male   33   \n",
       "8800       8801    15647890         Su          691    France    Male   37   \n",
       "3205       3206    15733973       Bibi          850    France  Female   42   \n",
       "8731       8732    15769125    Palerma          727     Spain  Female   41   \n",
       "6412       6413    15598982      Klein          602   Germany  Female   53   \n",
       "\n",
       "      Tenure    Balance  NumOfProducts  HasCrCard  IsActiveMember  \\\n",
       "5669     7.0  135310.41              2          0               1   \n",
       "8800     9.0  149405.18              1          1               1   \n",
       "3205     8.0       0.00              1          1               0   \n",
       "8731    10.0       0.00              2          0               1   \n",
       "6412     5.0   98268.84              1          0               1   \n",
       "\n",
       "      EstimatedSalary  Exited  \n",
       "5669        171668.20       0  \n",
       "8800        146411.60       0  \n",
       "3205         19632.64       1  \n",
       "8731         47468.56       0  \n",
       "6412         45038.29       1  "
      ]
     },
     "execution_count": 3,
     "metadata": {},
     "output_type": "execute_result"
    }
   ],
   "source": [
    "df_bank.sample(n=5, random_state=12) # use sample() method"
   ]
  },
  {
   "cell_type": "markdown",
   "metadata": {},
   "source": [
    "*Data description*\n",
    "\n",
    "Features:\n",
    "- RowNumber — data string index\n",
    "- CustomerId — unique customer identifier\n",
    "- Surname — surname\n",
    "- CreditScore — credit score\n",
    "- Geography — country of residence\n",
    "- Gender — gender\n",
    "- Age — age\n",
    "- Tenure — length of service for customer\n",
    "- Balance — account balance\n",
    "- NumOfProducts — number of banking products used by the customer\n",
    "- HasCrCard — customer has a credit card\n",
    "- IsActiveMember — customer’s activeness\n",
    "- EstimatedSalary — estimated salary\n",
    "\n",
    "Target:\n",
    "- Exited — сustomer has left"
   ]
  },
  {
   "cell_type": "markdown",
   "metadata": {},
   "source": [
    "*Look at the general information of our dataset*"
   ]
  },
  {
   "cell_type": "code",
   "execution_count": 4,
   "metadata": {
    "scrolled": true
   },
   "outputs": [
    {
     "name": "stdout",
     "output_type": "stream",
     "text": [
      "<class 'pandas.core.frame.DataFrame'>\n",
      "RangeIndex: 10000 entries, 0 to 9999\n",
      "Data columns (total 14 columns):\n",
      " #   Column           Non-Null Count  Dtype  \n",
      "---  ------           --------------  -----  \n",
      " 0   RowNumber        10000 non-null  int64  \n",
      " 1   CustomerId       10000 non-null  int64  \n",
      " 2   Surname          10000 non-null  object \n",
      " 3   CreditScore      10000 non-null  int64  \n",
      " 4   Geography        10000 non-null  object \n",
      " 5   Gender           10000 non-null  object \n",
      " 6   Age              10000 non-null  int64  \n",
      " 7   Tenure           9091 non-null   float64\n",
      " 8   Balance          10000 non-null  float64\n",
      " 9   NumOfProducts    10000 non-null  int64  \n",
      " 10  HasCrCard        10000 non-null  int64  \n",
      " 11  IsActiveMember   10000 non-null  int64  \n",
      " 12  EstimatedSalary  10000 non-null  float64\n",
      " 13  Exited           10000 non-null  int64  \n",
      "dtypes: float64(3), int64(8), object(3)\n",
      "memory usage: 1.1+ MB\n"
     ]
    }
   ],
   "source": [
    "df_bank.info() # use info() method"
   ]
  },
  {
   "cell_type": "markdown",
   "metadata": {},
   "source": [
    "*Check the percent of NaN*"
   ]
  },
  {
   "cell_type": "code",
   "execution_count": 5,
   "metadata": {},
   "outputs": [
    {
     "data": {
      "text/plain": [
       "9.09"
      ]
     },
     "execution_count": 5,
     "metadata": {},
     "output_type": "execute_result"
    }
   ],
   "source": [
    "(df_bank['Tenure'].isnull()).sum() / 10000 * 100"
   ]
  },
  {
   "cell_type": "markdown",
   "metadata": {},
   "source": [
    "*Use describe() method for more information*"
   ]
  },
  {
   "cell_type": "markdown",
   "metadata": {},
   "source": [
    "Check the numeric values"
   ]
  },
  {
   "cell_type": "code",
   "execution_count": 6,
   "metadata": {},
   "outputs": [
    {
     "data": {
      "text/html": [
       "<div>\n",
       "<style scoped>\n",
       "    .dataframe tbody tr th:only-of-type {\n",
       "        vertical-align: middle;\n",
       "    }\n",
       "\n",
       "    .dataframe tbody tr th {\n",
       "        vertical-align: top;\n",
       "    }\n",
       "\n",
       "    .dataframe thead th {\n",
       "        text-align: right;\n",
       "    }\n",
       "</style>\n",
       "<table border=\"1\" class=\"dataframe\">\n",
       "  <thead>\n",
       "    <tr style=\"text-align: right;\">\n",
       "      <th></th>\n",
       "      <th>count</th>\n",
       "      <th>mean</th>\n",
       "      <th>std</th>\n",
       "      <th>min</th>\n",
       "      <th>25%</th>\n",
       "      <th>50%</th>\n",
       "      <th>75%</th>\n",
       "      <th>max</th>\n",
       "    </tr>\n",
       "  </thead>\n",
       "  <tbody>\n",
       "    <tr>\n",
       "      <th>RowNumber</th>\n",
       "      <td>10000.0</td>\n",
       "      <td>5.000500e+03</td>\n",
       "      <td>2886.895680</td>\n",
       "      <td>1.00</td>\n",
       "      <td>2500.75</td>\n",
       "      <td>5.000500e+03</td>\n",
       "      <td>7.500250e+03</td>\n",
       "      <td>10000.00</td>\n",
       "    </tr>\n",
       "    <tr>\n",
       "      <th>CustomerId</th>\n",
       "      <td>10000.0</td>\n",
       "      <td>1.569094e+07</td>\n",
       "      <td>71936.186123</td>\n",
       "      <td>15565701.00</td>\n",
       "      <td>15628528.25</td>\n",
       "      <td>1.569074e+07</td>\n",
       "      <td>1.575323e+07</td>\n",
       "      <td>15815690.00</td>\n",
       "    </tr>\n",
       "    <tr>\n",
       "      <th>CreditScore</th>\n",
       "      <td>10000.0</td>\n",
       "      <td>6.505288e+02</td>\n",
       "      <td>96.653299</td>\n",
       "      <td>350.00</td>\n",
       "      <td>584.00</td>\n",
       "      <td>6.520000e+02</td>\n",
       "      <td>7.180000e+02</td>\n",
       "      <td>850.00</td>\n",
       "    </tr>\n",
       "    <tr>\n",
       "      <th>Age</th>\n",
       "      <td>10000.0</td>\n",
       "      <td>3.892180e+01</td>\n",
       "      <td>10.487806</td>\n",
       "      <td>18.00</td>\n",
       "      <td>32.00</td>\n",
       "      <td>3.700000e+01</td>\n",
       "      <td>4.400000e+01</td>\n",
       "      <td>92.00</td>\n",
       "    </tr>\n",
       "    <tr>\n",
       "      <th>Tenure</th>\n",
       "      <td>9091.0</td>\n",
       "      <td>4.997690e+00</td>\n",
       "      <td>2.894723</td>\n",
       "      <td>0.00</td>\n",
       "      <td>2.00</td>\n",
       "      <td>5.000000e+00</td>\n",
       "      <td>7.000000e+00</td>\n",
       "      <td>10.00</td>\n",
       "    </tr>\n",
       "    <tr>\n",
       "      <th>Balance</th>\n",
       "      <td>10000.0</td>\n",
       "      <td>7.648589e+04</td>\n",
       "      <td>62397.405202</td>\n",
       "      <td>0.00</td>\n",
       "      <td>0.00</td>\n",
       "      <td>9.719854e+04</td>\n",
       "      <td>1.276442e+05</td>\n",
       "      <td>250898.09</td>\n",
       "    </tr>\n",
       "    <tr>\n",
       "      <th>NumOfProducts</th>\n",
       "      <td>10000.0</td>\n",
       "      <td>1.530200e+00</td>\n",
       "      <td>0.581654</td>\n",
       "      <td>1.00</td>\n",
       "      <td>1.00</td>\n",
       "      <td>1.000000e+00</td>\n",
       "      <td>2.000000e+00</td>\n",
       "      <td>4.00</td>\n",
       "    </tr>\n",
       "    <tr>\n",
       "      <th>HasCrCard</th>\n",
       "      <td>10000.0</td>\n",
       "      <td>7.055000e-01</td>\n",
       "      <td>0.455840</td>\n",
       "      <td>0.00</td>\n",
       "      <td>0.00</td>\n",
       "      <td>1.000000e+00</td>\n",
       "      <td>1.000000e+00</td>\n",
       "      <td>1.00</td>\n",
       "    </tr>\n",
       "    <tr>\n",
       "      <th>IsActiveMember</th>\n",
       "      <td>10000.0</td>\n",
       "      <td>5.151000e-01</td>\n",
       "      <td>0.499797</td>\n",
       "      <td>0.00</td>\n",
       "      <td>0.00</td>\n",
       "      <td>1.000000e+00</td>\n",
       "      <td>1.000000e+00</td>\n",
       "      <td>1.00</td>\n",
       "    </tr>\n",
       "    <tr>\n",
       "      <th>EstimatedSalary</th>\n",
       "      <td>10000.0</td>\n",
       "      <td>1.000902e+05</td>\n",
       "      <td>57510.492818</td>\n",
       "      <td>11.58</td>\n",
       "      <td>51002.11</td>\n",
       "      <td>1.001939e+05</td>\n",
       "      <td>1.493882e+05</td>\n",
       "      <td>199992.48</td>\n",
       "    </tr>\n",
       "    <tr>\n",
       "      <th>Exited</th>\n",
       "      <td>10000.0</td>\n",
       "      <td>2.037000e-01</td>\n",
       "      <td>0.402769</td>\n",
       "      <td>0.00</td>\n",
       "      <td>0.00</td>\n",
       "      <td>0.000000e+00</td>\n",
       "      <td>0.000000e+00</td>\n",
       "      <td>1.00</td>\n",
       "    </tr>\n",
       "  </tbody>\n",
       "</table>\n",
       "</div>"
      ],
      "text/plain": [
       "                   count          mean           std          min  \\\n",
       "RowNumber        10000.0  5.000500e+03   2886.895680         1.00   \n",
       "CustomerId       10000.0  1.569094e+07  71936.186123  15565701.00   \n",
       "CreditScore      10000.0  6.505288e+02     96.653299       350.00   \n",
       "Age              10000.0  3.892180e+01     10.487806        18.00   \n",
       "Tenure            9091.0  4.997690e+00      2.894723         0.00   \n",
       "Balance          10000.0  7.648589e+04  62397.405202         0.00   \n",
       "NumOfProducts    10000.0  1.530200e+00      0.581654         1.00   \n",
       "HasCrCard        10000.0  7.055000e-01      0.455840         0.00   \n",
       "IsActiveMember   10000.0  5.151000e-01      0.499797         0.00   \n",
       "EstimatedSalary  10000.0  1.000902e+05  57510.492818        11.58   \n",
       "Exited           10000.0  2.037000e-01      0.402769         0.00   \n",
       "\n",
       "                         25%           50%           75%          max  \n",
       "RowNumber            2500.75  5.000500e+03  7.500250e+03     10000.00  \n",
       "CustomerId       15628528.25  1.569074e+07  1.575323e+07  15815690.00  \n",
       "CreditScore           584.00  6.520000e+02  7.180000e+02       850.00  \n",
       "Age                    32.00  3.700000e+01  4.400000e+01        92.00  \n",
       "Tenure                  2.00  5.000000e+00  7.000000e+00        10.00  \n",
       "Balance                 0.00  9.719854e+04  1.276442e+05    250898.09  \n",
       "NumOfProducts           1.00  1.000000e+00  2.000000e+00         4.00  \n",
       "HasCrCard               0.00  1.000000e+00  1.000000e+00         1.00  \n",
       "IsActiveMember          0.00  1.000000e+00  1.000000e+00         1.00  \n",
       "EstimatedSalary     51002.11  1.001939e+05  1.493882e+05    199992.48  \n",
       "Exited                  0.00  0.000000e+00  0.000000e+00         1.00  "
      ]
     },
     "execution_count": 6,
     "metadata": {},
     "output_type": "execute_result"
    }
   ],
   "source": [
    "df_bank.describe().T"
   ]
  },
  {
   "cell_type": "markdown",
   "metadata": {},
   "source": [
    "Check the quantitative values"
   ]
  },
  {
   "cell_type": "code",
   "execution_count": 7,
   "metadata": {},
   "outputs": [
    {
     "data": {
      "text/html": [
       "<div>\n",
       "<style scoped>\n",
       "    .dataframe tbody tr th:only-of-type {\n",
       "        vertical-align: middle;\n",
       "    }\n",
       "\n",
       "    .dataframe tbody tr th {\n",
       "        vertical-align: top;\n",
       "    }\n",
       "\n",
       "    .dataframe thead th {\n",
       "        text-align: right;\n",
       "    }\n",
       "</style>\n",
       "<table border=\"1\" class=\"dataframe\">\n",
       "  <thead>\n",
       "    <tr style=\"text-align: right;\">\n",
       "      <th></th>\n",
       "      <th>count</th>\n",
       "      <th>unique</th>\n",
       "      <th>top</th>\n",
       "      <th>freq</th>\n",
       "    </tr>\n",
       "  </thead>\n",
       "  <tbody>\n",
       "    <tr>\n",
       "      <th>Surname</th>\n",
       "      <td>10000</td>\n",
       "      <td>2932</td>\n",
       "      <td>Smith</td>\n",
       "      <td>32</td>\n",
       "    </tr>\n",
       "    <tr>\n",
       "      <th>Geography</th>\n",
       "      <td>10000</td>\n",
       "      <td>3</td>\n",
       "      <td>France</td>\n",
       "      <td>5014</td>\n",
       "    </tr>\n",
       "    <tr>\n",
       "      <th>Gender</th>\n",
       "      <td>10000</td>\n",
       "      <td>2</td>\n",
       "      <td>Male</td>\n",
       "      <td>5457</td>\n",
       "    </tr>\n",
       "  </tbody>\n",
       "</table>\n",
       "</div>"
      ],
      "text/plain": [
       "           count unique     top  freq\n",
       "Surname    10000   2932   Smith    32\n",
       "Geography  10000      3  France  5014\n",
       "Gender     10000      2    Male  5457"
      ]
     },
     "execution_count": 7,
     "metadata": {},
     "output_type": "execute_result"
    }
   ],
   "source": [
    "df_bank.describe(include='object').T"
   ]
  },
  {
   "cell_type": "markdown",
   "metadata": {},
   "source": [
    "*Check the imbalance of classes.*"
   ]
  },
  {
   "cell_type": "code",
   "execution_count": 8,
   "metadata": {},
   "outputs": [
    {
     "name": "stdout",
     "output_type": "stream",
     "text": [
      "20.369999999999997\n",
      "79.63\n"
     ]
    }
   ],
   "source": [
    "print((df_bank['Exited'] == 1).sum() / df_bank.shape[0] * 100)\n",
    "print((df_bank['Exited'] == 0).sum() / df_bank.shape[0] * 100)"
   ]
  },
  {
   "cell_type": "markdown",
   "metadata": {},
   "source": [
    "### Conclusion"
   ]
  },
  {
   "cell_type": "markdown",
   "metadata": {},
   "source": [
    "- We have NaN values in \"Tenure\". It's 9.09 percent. Just drop it.\n",
    "- We need to change float type to int in \"Tenure\".\n",
    "- We don't need \"RowNumber\", \"CustomerId\" and \"Surname\" columns. Drop them.\n",
    "- Transform categorical features (\"Geography\", \"Gender\") into numerical features with One-Hot Encoding (OHE).\n",
    "- We have the imbalance of classes and we need to fix it. Use Upsampling technique."
   ]
  },
  {
   "cell_type": "markdown",
   "metadata": {},
   "source": [
    "### Step 2. Data preprocessing"
   ]
  },
  {
   "cell_type": "markdown",
   "metadata": {},
   "source": [
    "Drop NaN, change data types and transform categorical features."
   ]
  },
  {
   "cell_type": "markdown",
   "metadata": {},
   "source": [
    "*Drop NaNs in \"Tenure\" and drop \"RowNumber\", \"CustomerId\", \"Surname\" columns*"
   ]
  },
  {
   "cell_type": "code",
   "execution_count": 9,
   "metadata": {
    "scrolled": true
   },
   "outputs": [],
   "source": [
    "df_bank.dropna(subset=['Tenure'], inplace=True) # drop NaN in \"Tenure\" column\n",
    "df_bank.drop(columns=['RowNumber', 'CustomerId', 'Surname'], inplace=True) # drop columns"
   ]
  },
  {
   "cell_type": "markdown",
   "metadata": {},
   "source": [
    "*Replace type in \"Tenure\" column*"
   ]
  },
  {
   "cell_type": "code",
   "execution_count": 10,
   "metadata": {},
   "outputs": [],
   "source": [
    "df_bank['Tenure'] = df_bank['Tenure'].astype(int) # replace type with \"astype()\" method"
   ]
  },
  {
   "cell_type": "markdown",
   "metadata": {},
   "source": [
    "*Check the values*"
   ]
  },
  {
   "cell_type": "code",
   "execution_count": 11,
   "metadata": {
    "scrolled": true
   },
   "outputs": [
    {
     "name": "stdout",
     "output_type": "stream",
     "text": [
      "<class 'pandas.core.frame.DataFrame'>\n",
      "Int64Index: 9091 entries, 0 to 9998\n",
      "Data columns (total 11 columns):\n",
      " #   Column           Non-Null Count  Dtype  \n",
      "---  ------           --------------  -----  \n",
      " 0   CreditScore      9091 non-null   int64  \n",
      " 1   Geography        9091 non-null   object \n",
      " 2   Gender           9091 non-null   object \n",
      " 3   Age              9091 non-null   int64  \n",
      " 4   Tenure           9091 non-null   int32  \n",
      " 5   Balance          9091 non-null   float64\n",
      " 6   NumOfProducts    9091 non-null   int64  \n",
      " 7   HasCrCard        9091 non-null   int64  \n",
      " 8   IsActiveMember   9091 non-null   int64  \n",
      " 9   EstimatedSalary  9091 non-null   float64\n",
      " 10  Exited           9091 non-null   int64  \n",
      "dtypes: float64(2), int32(1), int64(6), object(2)\n",
      "memory usage: 816.8+ KB\n"
     ]
    }
   ],
   "source": [
    "df_bank.info() # use info() method"
   ]
  },
  {
   "cell_type": "markdown",
   "metadata": {},
   "source": [
    "### Step 3. Feature Preparation"
   ]
  },
  {
   "cell_type": "markdown",
   "metadata": {},
   "source": [
    "Make OHE, split the data."
   ]
  },
  {
   "cell_type": "markdown",
   "metadata": {},
   "source": [
    "*Make One-Hot Encoding of categorical features with \"drop_first\" parameter for \"Geography\" column*"
   ]
  },
  {
   "cell_type": "code",
   "execution_count": 12,
   "metadata": {},
   "outputs": [],
   "source": [
    "df_bank_ohe = pd.get_dummies(df_bank, columns=['Geography'], drop_first=True)\n",
    "df_bank_ohe = pd.get_dummies(df_bank_ohe, columns=['Gender'])"
   ]
  },
  {
   "cell_type": "markdown",
   "metadata": {},
   "source": [
    "*Check the results*"
   ]
  },
  {
   "cell_type": "code",
   "execution_count": 13,
   "metadata": {
    "scrolled": true
   },
   "outputs": [
    {
     "data": {
      "text/html": [
       "<div>\n",
       "<style scoped>\n",
       "    .dataframe tbody tr th:only-of-type {\n",
       "        vertical-align: middle;\n",
       "    }\n",
       "\n",
       "    .dataframe tbody tr th {\n",
       "        vertical-align: top;\n",
       "    }\n",
       "\n",
       "    .dataframe thead th {\n",
       "        text-align: right;\n",
       "    }\n",
       "</style>\n",
       "<table border=\"1\" class=\"dataframe\">\n",
       "  <thead>\n",
       "    <tr style=\"text-align: right;\">\n",
       "      <th></th>\n",
       "      <th>CreditScore</th>\n",
       "      <th>Age</th>\n",
       "      <th>Tenure</th>\n",
       "      <th>Balance</th>\n",
       "      <th>NumOfProducts</th>\n",
       "      <th>HasCrCard</th>\n",
       "      <th>IsActiveMember</th>\n",
       "      <th>EstimatedSalary</th>\n",
       "      <th>Exited</th>\n",
       "      <th>Geography_Germany</th>\n",
       "      <th>Geography_Spain</th>\n",
       "      <th>Gender_Female</th>\n",
       "      <th>Gender_Male</th>\n",
       "    </tr>\n",
       "  </thead>\n",
       "  <tbody>\n",
       "    <tr>\n",
       "      <th>0</th>\n",
       "      <td>619</td>\n",
       "      <td>42</td>\n",
       "      <td>2</td>\n",
       "      <td>0.00</td>\n",
       "      <td>1</td>\n",
       "      <td>1</td>\n",
       "      <td>1</td>\n",
       "      <td>101348.88</td>\n",
       "      <td>1</td>\n",
       "      <td>0</td>\n",
       "      <td>0</td>\n",
       "      <td>1</td>\n",
       "      <td>0</td>\n",
       "    </tr>\n",
       "    <tr>\n",
       "      <th>1</th>\n",
       "      <td>608</td>\n",
       "      <td>41</td>\n",
       "      <td>1</td>\n",
       "      <td>83807.86</td>\n",
       "      <td>1</td>\n",
       "      <td>0</td>\n",
       "      <td>1</td>\n",
       "      <td>112542.58</td>\n",
       "      <td>0</td>\n",
       "      <td>0</td>\n",
       "      <td>1</td>\n",
       "      <td>1</td>\n",
       "      <td>0</td>\n",
       "    </tr>\n",
       "    <tr>\n",
       "      <th>2</th>\n",
       "      <td>502</td>\n",
       "      <td>42</td>\n",
       "      <td>8</td>\n",
       "      <td>159660.80</td>\n",
       "      <td>3</td>\n",
       "      <td>1</td>\n",
       "      <td>0</td>\n",
       "      <td>113931.57</td>\n",
       "      <td>1</td>\n",
       "      <td>0</td>\n",
       "      <td>0</td>\n",
       "      <td>1</td>\n",
       "      <td>0</td>\n",
       "    </tr>\n",
       "    <tr>\n",
       "      <th>3</th>\n",
       "      <td>699</td>\n",
       "      <td>39</td>\n",
       "      <td>1</td>\n",
       "      <td>0.00</td>\n",
       "      <td>2</td>\n",
       "      <td>0</td>\n",
       "      <td>0</td>\n",
       "      <td>93826.63</td>\n",
       "      <td>0</td>\n",
       "      <td>0</td>\n",
       "      <td>0</td>\n",
       "      <td>1</td>\n",
       "      <td>0</td>\n",
       "    </tr>\n",
       "    <tr>\n",
       "      <th>4</th>\n",
       "      <td>850</td>\n",
       "      <td>43</td>\n",
       "      <td>2</td>\n",
       "      <td>125510.82</td>\n",
       "      <td>1</td>\n",
       "      <td>1</td>\n",
       "      <td>1</td>\n",
       "      <td>79084.10</td>\n",
       "      <td>0</td>\n",
       "      <td>0</td>\n",
       "      <td>1</td>\n",
       "      <td>1</td>\n",
       "      <td>0</td>\n",
       "    </tr>\n",
       "  </tbody>\n",
       "</table>\n",
       "</div>"
      ],
      "text/plain": [
       "   CreditScore  Age  Tenure    Balance  NumOfProducts  HasCrCard  \\\n",
       "0          619   42       2       0.00              1          1   \n",
       "1          608   41       1   83807.86              1          0   \n",
       "2          502   42       8  159660.80              3          1   \n",
       "3          699   39       1       0.00              2          0   \n",
       "4          850   43       2  125510.82              1          1   \n",
       "\n",
       "   IsActiveMember  EstimatedSalary  Exited  Geography_Germany  \\\n",
       "0               1        101348.88       1                  0   \n",
       "1               1        112542.58       0                  0   \n",
       "2               0        113931.57       1                  0   \n",
       "3               0         93826.63       0                  0   \n",
       "4               1         79084.10       0                  0   \n",
       "\n",
       "   Geography_Spain  Gender_Female  Gender_Male  \n",
       "0                0              1            0  \n",
       "1                1              1            0  \n",
       "2                0              1            0  \n",
       "3                0              1            0  \n",
       "4                1              1            0  "
      ]
     },
     "execution_count": 13,
     "metadata": {},
     "output_type": "execute_result"
    }
   ],
   "source": [
    "df_bank_ohe.head()"
   ]
  },
  {
   "cell_type": "markdown",
   "metadata": {},
   "source": [
    "*Split \"df_bank_ohe\" into a training set, a validation set, and a test set*"
   ]
  },
  {
   "cell_type": "code",
   "execution_count": 14,
   "metadata": {},
   "outputs": [],
   "source": [
    "# use numpy split() method\n",
    "df_bank_ohe_train, df_bank_ohe_valid, df_bank_ohe_test = (\n",
    "    np.split(df_bank_ohe.sample(frac=1, random_state=12345),\n",
    "             [int(.6*len(df_bank_ohe)),\n",
    "              int(.8*len(df_bank_ohe))])\n",
    ")"
   ]
  },
  {
   "cell_type": "markdown",
   "metadata": {},
   "source": [
    "*Check the dataframes*"
   ]
  },
  {
   "cell_type": "code",
   "execution_count": 15,
   "metadata": {
    "scrolled": true
   },
   "outputs": [
    {
     "name": "stdout",
     "output_type": "stream",
     "text": [
      "59.99340006599934\n",
      "19.99780002199978\n",
      "20.008799912000878\n"
     ]
    }
   ],
   "source": [
    "for i in (df_bank_ohe_train.shape[0],\n",
    "          df_bank_ohe_valid.shape[0],\n",
    "          df_bank_ohe_test.shape[0]):\n",
    "    print(i / df_bank_ohe.shape[0] * 100)"
   ]
  },
  {
   "cell_type": "markdown",
   "metadata": {},
   "source": [
    "*Create features and target for the training set, the validation set, and the test set*"
   ]
  },
  {
   "cell_type": "code",
   "execution_count": 16,
   "metadata": {},
   "outputs": [],
   "source": [
    "features_train = df_bank_ohe_train.drop(['Exited'], axis=1)\n",
    "target_train = df_bank_ohe_train['Exited']\n",
    "\n",
    "features_valid = df_bank_ohe_valid.drop(['Exited'], axis=1)\n",
    "target_valid = df_bank_ohe_valid['Exited']\n",
    "\n",
    "features_test = df_bank_ohe_test.drop(['Exited'], axis=1)\n",
    "target_test = df_bank_ohe_test['Exited']"
   ]
  },
  {
   "cell_type": "markdown",
   "metadata": {},
   "source": [
    "### Step 4. Upsampling"
   ]
  },
  {
   "cell_type": "markdown",
   "metadata": {},
   "source": [
    "Upsampling is performed in several steps:\n",
    "- Count \"1\" (positive) and \"0\" (negative);\n",
    "- Split the training sample into negative and positive observations;\n",
    "- Duplicate the positive observations several times;\n",
    "- Create a new training sample based on the data obtained;\n",
    "- Shuffle the data: identical questions following one another will not help the training."
   ]
  },
  {
   "cell_type": "markdown",
   "metadata": {},
   "source": [
    "*Count \"1\" and \"0\"*"
   ]
  },
  {
   "cell_type": "code",
   "execution_count": 17,
   "metadata": {
    "scrolled": true
   },
   "outputs": [
    {
     "data": {
      "text/plain": [
       "1100"
      ]
     },
     "execution_count": 17,
     "metadata": {},
     "output_type": "execute_result"
    }
   ],
   "source": [
    "ones_count = (target_train == 1).sum() # count \"1\" values\n",
    "ones_count"
   ]
  },
  {
   "cell_type": "code",
   "execution_count": 18,
   "metadata": {
    "scrolled": true
   },
   "outputs": [
    {
     "data": {
      "text/plain": [
       "4354"
      ]
     },
     "execution_count": 18,
     "metadata": {},
     "output_type": "execute_result"
    }
   ],
   "source": [
    "zeros_count = (target_train == 0).sum() # count \"0\" values\n",
    "zeros_count"
   ]
  },
  {
   "cell_type": "markdown",
   "metadata": {},
   "source": [
    "*Count how many times we need to multiply \"1\"*"
   ]
  },
  {
   "cell_type": "code",
   "execution_count": 19,
   "metadata": {},
   "outputs": [
    {
     "data": {
      "text/plain": [
       "4"
      ]
     },
     "execution_count": 19,
     "metadata": {},
     "output_type": "execute_result"
    }
   ],
   "source": [
    "repeat = (zeros_count / ones_count).round().astype(int)\n",
    "repeat"
   ]
  },
  {
   "cell_type": "markdown",
   "metadata": {},
   "source": [
    "*Create the function for upsampling*"
   ]
  },
  {
   "cell_type": "code",
   "execution_count": 20,
   "metadata": {},
   "outputs": [],
   "source": [
    "def upsample(features, target, repeat):\n",
    "    features_zeros = features[target == 0] # features of the \"0\" answer observations\n",
    "    features_ones = features[target == 1] #  features of the \"1\" answer observations\n",
    "    target_zeros = target[target == 0] #  target of the \"0\" answer observations\n",
    "    target_ones = target[target == 1] # target of the \"1\" answer observations\n",
    "\n",
    "    # Duplicate \"1\" and combine \"0\". Use the pd.concat() function to concatenate the tables\n",
    "    features_upsampled = pd.concat([features_zeros] + [features_ones] * repeat)\n",
    "    target_upsampled = pd.concat([target_zeros] + [target_ones] * repeat)\n",
    "    \n",
    "    # Shuffle the data\n",
    "    features_upsampled, target_upsampled = shuffle(\n",
    "        features_upsampled, target_upsampled, random_state=12345)\n",
    "    \n",
    "    return features_upsampled, target_upsampled"
   ]
  },
  {
   "cell_type": "markdown",
   "metadata": {},
   "source": [
    "*Make upsampling*"
   ]
  },
  {
   "cell_type": "code",
   "execution_count": 21,
   "metadata": {},
   "outputs": [],
   "source": [
    "features_train_upsampled, target_train_upsampled = upsample(features_train, target_train, repeat)"
   ]
  },
  {
   "cell_type": "markdown",
   "metadata": {},
   "source": [
    "*Count \"1\" and \"0\"*"
   ]
  },
  {
   "cell_type": "code",
   "execution_count": 22,
   "metadata": {
    "scrolled": true
   },
   "outputs": [
    {
     "data": {
      "text/plain": [
       "4400"
      ]
     },
     "execution_count": 22,
     "metadata": {},
     "output_type": "execute_result"
    }
   ],
   "source": [
    "ones_count = (target_train_upsampled == 1).sum() # count \"1\" values\n",
    "ones_count"
   ]
  },
  {
   "cell_type": "code",
   "execution_count": 23,
   "metadata": {
    "scrolled": false
   },
   "outputs": [
    {
     "data": {
      "text/plain": [
       "4354"
      ]
     },
     "execution_count": 23,
     "metadata": {},
     "output_type": "execute_result"
    }
   ],
   "source": [
    "zeros_count = (target_train_upsampled == 0).sum() # count \"0\" values\n",
    "zeros_count"
   ]
  },
  {
   "cell_type": "markdown",
   "metadata": {},
   "source": [
    "### Step 5. Сhoosing the best model"
   ]
  },
  {
   "cell_type": "markdown",
   "metadata": {},
   "source": [
    "We'll try to train \"DecisionTreeClassifier\", \"RandomForestClassifier\", \"LogisticRegression\" and \"GradientBoostingClassifier\" models. And then we'll compare results."
   ]
  },
  {
   "cell_type": "markdown",
   "metadata": {},
   "source": [
    "### Train the model without taking into account the imbalance."
   ]
  },
  {
   "cell_type": "markdown",
   "metadata": {},
   "source": [
    "**Train the model with \"DecisionTreeClassifier\"**"
   ]
  },
  {
   "cell_type": "code",
   "execution_count": 24,
   "metadata": {},
   "outputs": [
    {
     "data": {
      "text/html": [
       "<div>\n",
       "<style scoped>\n",
       "    .dataframe tbody tr th:only-of-type {\n",
       "        vertical-align: middle;\n",
       "    }\n",
       "\n",
       "    .dataframe tbody tr th {\n",
       "        vertical-align: top;\n",
       "    }\n",
       "\n",
       "    .dataframe thead th {\n",
       "        text-align: right;\n",
       "    }\n",
       "</style>\n",
       "<table border=\"1\" class=\"dataframe\">\n",
       "  <thead>\n",
       "    <tr style=\"text-align: right;\">\n",
       "      <th></th>\n",
       "      <th>max_depth</th>\n",
       "      <th>train_accuracy</th>\n",
       "      <th>valid_accuracy</th>\n",
       "      <th>dif_accurancy</th>\n",
       "      <th>f1_valid</th>\n",
       "      <th>auc_roc</th>\n",
       "    </tr>\n",
       "  </thead>\n",
       "  <tbody>\n",
       "    <tr>\n",
       "      <th>7</th>\n",
       "      <td>9</td>\n",
       "      <td>0.903374</td>\n",
       "      <td>0.832783</td>\n",
       "      <td>0.070590</td>\n",
       "      <td>0.554252</td>\n",
       "      <td>0.793492</td>\n",
       "    </tr>\n",
       "    <tr>\n",
       "      <th>5</th>\n",
       "      <td>7</td>\n",
       "      <td>0.884672</td>\n",
       "      <td>0.838284</td>\n",
       "      <td>0.046388</td>\n",
       "      <td>0.547692</td>\n",
       "      <td>0.812646</td>\n",
       "    </tr>\n",
       "    <tr>\n",
       "      <th>3</th>\n",
       "      <td>5</td>\n",
       "      <td>0.866703</td>\n",
       "      <td>0.835534</td>\n",
       "      <td>0.031170</td>\n",
       "      <td>0.536434</td>\n",
       "      <td>0.814320</td>\n",
       "    </tr>\n",
       "    <tr>\n",
       "      <th>6</th>\n",
       "      <td>8</td>\n",
       "      <td>0.890906</td>\n",
       "      <td>0.832233</td>\n",
       "      <td>0.058673</td>\n",
       "      <td>0.521193</td>\n",
       "      <td>0.806234</td>\n",
       "    </tr>\n",
       "    <tr>\n",
       "      <th>1</th>\n",
       "      <td>3</td>\n",
       "      <td>0.845618</td>\n",
       "      <td>0.827283</td>\n",
       "      <td>0.018335</td>\n",
       "      <td>0.516923</td>\n",
       "      <td>0.779948</td>\n",
       "    </tr>\n",
       "    <tr>\n",
       "      <th>4</th>\n",
       "      <td>6</td>\n",
       "      <td>0.872754</td>\n",
       "      <td>0.838284</td>\n",
       "      <td>0.034470</td>\n",
       "      <td>0.516447</td>\n",
       "      <td>0.808348</td>\n",
       "    </tr>\n",
       "    <tr>\n",
       "      <th>0</th>\n",
       "      <td>2</td>\n",
       "      <td>0.840117</td>\n",
       "      <td>0.823982</td>\n",
       "      <td>0.016135</td>\n",
       "      <td>0.512195</td>\n",
       "      <td>0.717929</td>\n",
       "    </tr>\n",
       "    <tr>\n",
       "      <th>2</th>\n",
       "      <td>4</td>\n",
       "      <td>0.857352</td>\n",
       "      <td>0.834983</td>\n",
       "      <td>0.022369</td>\n",
       "      <td>0.496644</td>\n",
       "      <td>0.807640</td>\n",
       "    </tr>\n",
       "  </tbody>\n",
       "</table>\n",
       "</div>"
      ],
      "text/plain": [
       "   max_depth  train_accuracy  valid_accuracy  dif_accurancy  f1_valid  \\\n",
       "7          9        0.903374        0.832783       0.070590  0.554252   \n",
       "5          7        0.884672        0.838284       0.046388  0.547692   \n",
       "3          5        0.866703        0.835534       0.031170  0.536434   \n",
       "6          8        0.890906        0.832233       0.058673  0.521193   \n",
       "1          3        0.845618        0.827283       0.018335  0.516923   \n",
       "4          6        0.872754        0.838284       0.034470  0.516447   \n",
       "0          2        0.840117        0.823982       0.016135  0.512195   \n",
       "2          4        0.857352        0.834983       0.022369  0.496644   \n",
       "\n",
       "    auc_roc  \n",
       "7  0.793492  \n",
       "5  0.812646  \n",
       "3  0.814320  \n",
       "6  0.806234  \n",
       "1  0.779948  \n",
       "4  0.808348  \n",
       "0  0.717929  \n",
       "2  0.807640  "
      ]
     },
     "execution_count": 24,
     "metadata": {},
     "output_type": "execute_result"
    }
   ],
   "source": [
    "df_decissiontree = pd.DataFrame() # create dataframe\n",
    "for depth in range(2, 10):\n",
    "    # create the model\n",
    "    model = DecisionTreeClassifier(max_depth=depth, random_state=12345)\n",
    "\n",
    "    # fit the model\n",
    "    model.fit(features_train, target_train)\n",
    "\n",
    "    # predict values\n",
    "    predicted_train = model.predict(features_train)\n",
    "    predicted_valid = model.predict(features_valid)\n",
    "\n",
    "    # calculate accuracy\n",
    "    accuracy_train = accuracy_score(target_train, predicted_train)\n",
    "    accuracy_valid = accuracy_score(target_valid, predicted_valid)\n",
    "    dif_accurancy = accuracy_train - accuracy_valid # count the difference\n",
    "\n",
    "    # calculate f1_score\n",
    "    f1_valid = f1_score(target_valid, predicted_valid)\n",
    "\n",
    "    # predict probabilities\n",
    "    probabilities_valid = model.predict_proba(features_valid)\n",
    "    probabilities_one_valid = probabilities_valid[:, 1]\n",
    "\n",
    "    # calculate auc_roc\n",
    "    auc_roc = roc_auc_score(target_valid, probabilities_one_valid) \n",
    "\n",
    "    # create temp dataframe with metrics\n",
    "    df_decissiontree_temp = pd.DataFrame({'max_depth': [depth],\n",
    "                                         'train_accuracy': [accuracy_train],\n",
    "                                         'valid_accuracy': [accuracy_valid],\n",
    "                                         'dif_accurancy': [dif_accurancy],\n",
    "                                         'f1_valid': [f1_valid],\n",
    "                                         'auc_roc': [auc_roc]}) \n",
    "    \n",
    "    # append info to \"df_decissiontree\"\n",
    "    df_decissiontree = df_decissiontree.append(df_decissiontree_temp)\n",
    "\n",
    "des_tree = df_decissiontree.reset_index(drop=True)\n",
    "des_tree.sort_values(by='f1_valid', ascending=False)"
   ]
  },
  {
   "cell_type": "markdown",
   "metadata": {},
   "source": [
    "The best result with max_depth=9. We have f1_valid=0.554252. But we have dif_accurancy=0.07.  \n",
    "So we choose max_depth=5 (f1_valid=0.536434), because dif_accurancy=0.03, and auc_roc is higher and equal 0.818656."
   ]
  },
  {
   "cell_type": "markdown",
   "metadata": {},
   "source": [
    "**Train model with \"RandomForestClassifier\"**"
   ]
  },
  {
   "cell_type": "code",
   "execution_count": 25,
   "metadata": {},
   "outputs": [
    {
     "data": {
      "text/html": [
       "<div>\n",
       "<style scoped>\n",
       "    .dataframe tbody tr th:only-of-type {\n",
       "        vertical-align: middle;\n",
       "    }\n",
       "\n",
       "    .dataframe tbody tr th {\n",
       "        vertical-align: top;\n",
       "    }\n",
       "\n",
       "    .dataframe thead th {\n",
       "        text-align: right;\n",
       "    }\n",
       "</style>\n",
       "<table border=\"1\" class=\"dataframe\">\n",
       "  <thead>\n",
       "    <tr style=\"text-align: right;\">\n",
       "      <th></th>\n",
       "      <th>n_estimators</th>\n",
       "      <th>train_accuracy</th>\n",
       "      <th>valid_accuracy</th>\n",
       "      <th>dif_accurancy</th>\n",
       "      <th>f1_valid</th>\n",
       "      <th>auc_roc</th>\n",
       "    </tr>\n",
       "  </thead>\n",
       "  <tbody>\n",
       "    <tr>\n",
       "      <th>39</th>\n",
       "      <td>40</td>\n",
       "      <td>0.859736</td>\n",
       "      <td>0.833883</td>\n",
       "      <td>0.025853</td>\n",
       "      <td>0.458781</td>\n",
       "      <td>0.830188</td>\n",
       "    </tr>\n",
       "    <tr>\n",
       "      <th>46</th>\n",
       "      <td>47</td>\n",
       "      <td>0.860469</td>\n",
       "      <td>0.832783</td>\n",
       "      <td>0.027686</td>\n",
       "      <td>0.453237</td>\n",
       "      <td>0.834057</td>\n",
       "    </tr>\n",
       "    <tr>\n",
       "      <th>43</th>\n",
       "      <td>44</td>\n",
       "      <td>0.861386</td>\n",
       "      <td>0.832783</td>\n",
       "      <td>0.028603</td>\n",
       "      <td>0.453237</td>\n",
       "      <td>0.832259</td>\n",
       "    </tr>\n",
       "    <tr>\n",
       "      <th>45</th>\n",
       "      <td>46</td>\n",
       "      <td>0.859736</td>\n",
       "      <td>0.832783</td>\n",
       "      <td>0.026953</td>\n",
       "      <td>0.453237</td>\n",
       "      <td>0.833383</td>\n",
       "    </tr>\n",
       "    <tr>\n",
       "      <th>37</th>\n",
       "      <td>38</td>\n",
       "      <td>0.857902</td>\n",
       "      <td>0.832783</td>\n",
       "      <td>0.025119</td>\n",
       "      <td>0.451264</td>\n",
       "      <td>0.830284</td>\n",
       "    </tr>\n",
       "  </tbody>\n",
       "</table>\n",
       "</div>"
      ],
      "text/plain": [
       "    n_estimators  train_accuracy  valid_accuracy  dif_accurancy  f1_valid  \\\n",
       "39            40        0.859736        0.833883       0.025853  0.458781   \n",
       "46            47        0.860469        0.832783       0.027686  0.453237   \n",
       "43            44        0.861386        0.832783       0.028603  0.453237   \n",
       "45            46        0.859736        0.832783       0.026953  0.453237   \n",
       "37            38        0.857902        0.832783       0.025119  0.451264   \n",
       "\n",
       "     auc_roc  \n",
       "39  0.830188  \n",
       "46  0.834057  \n",
       "43  0.832259  \n",
       "45  0.833383  \n",
       "37  0.830284  "
      ]
     },
     "execution_count": 25,
     "metadata": {},
     "output_type": "execute_result"
    }
   ],
   "source": [
    "df_randomforest = pd.DataFrame() # create dataframe\n",
    "for est in range(1, 50):\n",
    "    # create the model\n",
    "    model = RandomForestClassifier(max_depth=5, n_estimators=est, random_state=12345)\n",
    "\n",
    "    # fit the model\n",
    "    model.fit(features_train, target_train)\n",
    "\n",
    "    # predict values\n",
    "    predicted_train = model.predict(features_train)\n",
    "    predicted_valid = model.predict(features_valid)\n",
    "\n",
    "    # calculate accuracy\n",
    "    accuracy_train = accuracy_score(target_train, predicted_train)\n",
    "    accuracy_valid = accuracy_score(target_valid, predicted_valid)\n",
    "    dif_accurancy = accuracy_train - accuracy_valid # count the difference\n",
    "\n",
    "    # calculate f1_score\n",
    "    f1_valid = f1_score(target_valid, predicted_valid)\n",
    "\n",
    "    # predict probabilities\n",
    "    probabilities_valid = model.predict_proba(features_valid)\n",
    "    probabilities_one_valid = probabilities_valid[:, 1]\n",
    "\n",
    "    # calculate auc_roc\n",
    "    auc_roc = roc_auc_score(target_valid, probabilities_one_valid) \n",
    "\n",
    "    # create temp dataframe with metrics\n",
    "    df_randomforest_temp = pd.DataFrame({'n_estimators': [est],\n",
    "                                         'train_accuracy': [accuracy_train],\n",
    "                                         'valid_accuracy': [accuracy_valid],\n",
    "                                         'dif_accurancy': [dif_accurancy],\n",
    "                                         'f1_valid': [f1_valid],\n",
    "                                         'auc_roc': [auc_roc]}) \n",
    "\n",
    "    # append info to \"df_decissiontree\"\n",
    "    df_randomforest = df_randomforest.append(df_randomforest_temp)\n",
    "\n",
    "random_tree = df_randomforest.reset_index(drop=True)\n",
    "random_tree.sort_values(by='f1_valid', ascending=False).head()"
   ]
  },
  {
   "cell_type": "markdown",
   "metadata": {},
   "source": [
    "The best result with n_estimators=5. We have f1_valid=0.458781. It's lower than for DecisionTreeClassifier."
   ]
  },
  {
   "cell_type": "markdown",
   "metadata": {},
   "source": [
    "**Train model with \"LogisticRegression\"**"
   ]
  },
  {
   "cell_type": "code",
   "execution_count": 26,
   "metadata": {},
   "outputs": [
    {
     "data": {
      "text/html": [
       "<div>\n",
       "<style scoped>\n",
       "    .dataframe tbody tr th:only-of-type {\n",
       "        vertical-align: middle;\n",
       "    }\n",
       "\n",
       "    .dataframe tbody tr th {\n",
       "        vertical-align: top;\n",
       "    }\n",
       "\n",
       "    .dataframe thead th {\n",
       "        text-align: right;\n",
       "    }\n",
       "</style>\n",
       "<table border=\"1\" class=\"dataframe\">\n",
       "  <thead>\n",
       "    <tr style=\"text-align: right;\">\n",
       "      <th></th>\n",
       "      <th>train_accuracy</th>\n",
       "      <th>valid_accuracy</th>\n",
       "      <th>dif_accurancy</th>\n",
       "      <th>f1_valid</th>\n",
       "      <th>auc_roc</th>\n",
       "    </tr>\n",
       "  </thead>\n",
       "  <tbody>\n",
       "    <tr>\n",
       "      <th>0</th>\n",
       "      <td>0.79538</td>\n",
       "      <td>0.769527</td>\n",
       "      <td>0.025853</td>\n",
       "      <td>0.075055</td>\n",
       "      <td>0.650509</td>\n",
       "    </tr>\n",
       "  </tbody>\n",
       "</table>\n",
       "</div>"
      ],
      "text/plain": [
       "   train_accuracy  valid_accuracy  dif_accurancy  f1_valid   auc_roc\n",
       "0         0.79538        0.769527       0.025853  0.075055  0.650509"
      ]
     },
     "execution_count": 26,
     "metadata": {},
     "output_type": "execute_result"
    }
   ],
   "source": [
    "# create the model\n",
    "model = LogisticRegression(solver='liblinear', random_state=12345)\n",
    "\n",
    "# fit the model\n",
    "model.fit(features_train, target_train)\n",
    "\n",
    "# predict values\n",
    "predicted_train = model.predict(features_train)\n",
    "predicted_valid = model.predict(features_valid)\n",
    "\n",
    "# calculate accuracy\n",
    "accuracy_train = accuracy_score(target_train, predicted_train)\n",
    "accuracy_valid = accuracy_score(target_valid, predicted_valid)\n",
    "dif_accurancy = accuracy_train - accuracy_valid # count the difference\n",
    "\n",
    "# calculate f1_score\n",
    "f1_valid = f1_score(target_valid, predicted_valid)\n",
    "\n",
    "# predict probabilities\n",
    "probabilities_valid = model.predict_proba(features_valid)\n",
    "probabilities_one_valid = probabilities_valid[:, 1]\n",
    "\n",
    "# calculate auc_roc\n",
    "auc_roc = roc_auc_score(target_valid, probabilities_one_valid) \n",
    "\n",
    "# create temp dataframe with metrics\n",
    "df_log_reg = pd.DataFrame({'train_accuracy': [accuracy_train],\n",
    "                           'valid_accuracy': [accuracy_valid],\n",
    "                           'dif_accurancy': [dif_accurancy],\n",
    "                           'f1_valid': [f1_valid],\n",
    "                           'auc_roc': [auc_roc]}) \n",
    "\n",
    "log_reg = df_log_reg.reset_index(drop=True)\n",
    "log_reg"
   ]
  },
  {
   "cell_type": "markdown",
   "metadata": {},
   "source": [
    "The best result we have f1_valid=0.075055."
   ]
  },
  {
   "cell_type": "markdown",
   "metadata": {},
   "source": [
    "**Train model with \"GradientBoostingClassifier\"**"
   ]
  },
  {
   "cell_type": "code",
   "execution_count": 27,
   "metadata": {},
   "outputs": [
    {
     "data": {
      "text/html": [
       "<div>\n",
       "<style scoped>\n",
       "    .dataframe tbody tr th:only-of-type {\n",
       "        vertical-align: middle;\n",
       "    }\n",
       "\n",
       "    .dataframe tbody tr th {\n",
       "        vertical-align: top;\n",
       "    }\n",
       "\n",
       "    .dataframe thead th {\n",
       "        text-align: right;\n",
       "    }\n",
       "</style>\n",
       "<table border=\"1\" class=\"dataframe\">\n",
       "  <thead>\n",
       "    <tr style=\"text-align: right;\">\n",
       "      <th></th>\n",
       "      <th>n_estimators</th>\n",
       "      <th>train_accuracy</th>\n",
       "      <th>valid_accuracy</th>\n",
       "      <th>dif_accurancy</th>\n",
       "      <th>f1_valid</th>\n",
       "      <th>auc_roc</th>\n",
       "    </tr>\n",
       "  </thead>\n",
       "  <tbody>\n",
       "    <tr>\n",
       "      <th>48</th>\n",
       "      <td>49</td>\n",
       "      <td>0.892556</td>\n",
       "      <td>0.848185</td>\n",
       "      <td>0.044371</td>\n",
       "      <td>0.557692</td>\n",
       "      <td>0.848812</td>\n",
       "    </tr>\n",
       "    <tr>\n",
       "      <th>38</th>\n",
       "      <td>39</td>\n",
       "      <td>0.888339</td>\n",
       "      <td>0.848735</td>\n",
       "      <td>0.039604</td>\n",
       "      <td>0.557166</td>\n",
       "      <td>0.848165</td>\n",
       "    </tr>\n",
       "    <tr>\n",
       "      <th>39</th>\n",
       "      <td>40</td>\n",
       "      <td>0.888706</td>\n",
       "      <td>0.848185</td>\n",
       "      <td>0.040521</td>\n",
       "      <td>0.556270</td>\n",
       "      <td>0.848061</td>\n",
       "    </tr>\n",
       "    <tr>\n",
       "      <th>45</th>\n",
       "      <td>46</td>\n",
       "      <td>0.891639</td>\n",
       "      <td>0.847635</td>\n",
       "      <td>0.044004</td>\n",
       "      <td>0.555377</td>\n",
       "      <td>0.849106</td>\n",
       "    </tr>\n",
       "    <tr>\n",
       "      <th>43</th>\n",
       "      <td>44</td>\n",
       "      <td>0.890539</td>\n",
       "      <td>0.847635</td>\n",
       "      <td>0.042904</td>\n",
       "      <td>0.555377</td>\n",
       "      <td>0.847981</td>\n",
       "    </tr>\n",
       "  </tbody>\n",
       "</table>\n",
       "</div>"
      ],
      "text/plain": [
       "    n_estimators  train_accuracy  valid_accuracy  dif_accurancy  f1_valid  \\\n",
       "48            49        0.892556        0.848185       0.044371  0.557692   \n",
       "38            39        0.888339        0.848735       0.039604  0.557166   \n",
       "39            40        0.888706        0.848185       0.040521  0.556270   \n",
       "45            46        0.891639        0.847635       0.044004  0.555377   \n",
       "43            44        0.890539        0.847635       0.042904  0.555377   \n",
       "\n",
       "     auc_roc  \n",
       "48  0.848812  \n",
       "38  0.848165  \n",
       "39  0.848061  \n",
       "45  0.849106  \n",
       "43  0.847981  "
      ]
     },
     "execution_count": 27,
     "metadata": {},
     "output_type": "execute_result"
    }
   ],
   "source": [
    "df_grad = pd.DataFrame() # create dataframe\n",
    "for est in range(1, 50):\n",
    "    # create the model\n",
    "    model = GradientBoostingClassifier(max_depth=5, n_estimators=est, random_state=12345)\n",
    "\n",
    "    # fit the model\n",
    "    model.fit(features_train, target_train)\n",
    "\n",
    "    # predict values\n",
    "    predicted_train = model.predict(features_train)\n",
    "    predicted_valid = model.predict(features_valid)\n",
    "\n",
    "    # calculate accuracy\n",
    "    accuracy_train = accuracy_score(target_train, predicted_train)\n",
    "    accuracy_valid = accuracy_score(target_valid, predicted_valid)\n",
    "    dif_accurancy = accuracy_train - accuracy_valid # count the difference\n",
    "\n",
    "    # calculate f1_score\n",
    "    f1_valid = f1_score(target_valid, predicted_valid)\n",
    "\n",
    "    # predict probabilities\n",
    "    probabilities_valid = model.predict_proba(features_valid)\n",
    "    probabilities_one_valid = probabilities_valid[:, 1]\n",
    "\n",
    "    # calculate auc_roc\n",
    "    auc_roc = roc_auc_score(target_valid, probabilities_one_valid) \n",
    "\n",
    "    # create temp dataframe with metrics\n",
    "    df_grad_temp = pd.DataFrame({'n_estimators': [est],\n",
    "                                         'train_accuracy': [accuracy_train],\n",
    "                                         'valid_accuracy': [accuracy_valid],\n",
    "                                         'dif_accurancy': [dif_accurancy],\n",
    "                                         'f1_valid': [f1_valid],\n",
    "                                         'auc_roc': [auc_roc]}) \n",
    "\n",
    "    # append info to \"df_decissiontree\"\n",
    "    df_grad = df_grad.append(df_grad_temp)\n",
    "\n",
    "df_grad = df_grad.reset_index(drop=True)\n",
    "df_grad.sort_values(by='f1_valid', ascending=False).head()"
   ]
  },
  {
   "cell_type": "markdown",
   "metadata": {},
   "source": [
    "The best result we have f1_valid=0.557166. "
   ]
  },
  {
   "cell_type": "markdown",
   "metadata": {},
   "source": [
    "### Conclusion"
   ]
  },
  {
   "cell_type": "markdown",
   "metadata": {},
   "source": [
    "GradientBoostingClassifier shows best results (f1_valid=0.557166). And accuracy is high for imbalanced data."
   ]
  },
  {
   "cell_type": "markdown",
   "metadata": {},
   "source": [
    "### Train the model with taking into account the imbalance."
   ]
  },
  {
   "cell_type": "markdown",
   "metadata": {},
   "source": [
    "**Train the model with \"DecisionTreeClassifier\"**"
   ]
  },
  {
   "cell_type": "code",
   "execution_count": 28,
   "metadata": {},
   "outputs": [
    {
     "data": {
      "text/html": [
       "<div>\n",
       "<style scoped>\n",
       "    .dataframe tbody tr th:only-of-type {\n",
       "        vertical-align: middle;\n",
       "    }\n",
       "\n",
       "    .dataframe tbody tr th {\n",
       "        vertical-align: top;\n",
       "    }\n",
       "\n",
       "    .dataframe thead th {\n",
       "        text-align: right;\n",
       "    }\n",
       "</style>\n",
       "<table border=\"1\" class=\"dataframe\">\n",
       "  <thead>\n",
       "    <tr style=\"text-align: right;\">\n",
       "      <th></th>\n",
       "      <th>max_depth</th>\n",
       "      <th>train_accuracy_up</th>\n",
       "      <th>valid_accuracy_up</th>\n",
       "      <th>dif_accurancy</th>\n",
       "      <th>f1_valid_up</th>\n",
       "      <th>auc_roc_up</th>\n",
       "    </tr>\n",
       "  </thead>\n",
       "  <tbody>\n",
       "    <tr>\n",
       "      <th>5</th>\n",
       "      <td>7</td>\n",
       "      <td>0.814713</td>\n",
       "      <td>0.775028</td>\n",
       "      <td>0.039686</td>\n",
       "      <td>0.573514</td>\n",
       "      <td>0.793989</td>\n",
       "    </tr>\n",
       "    <tr>\n",
       "      <th>3</th>\n",
       "      <td>5</td>\n",
       "      <td>0.775417</td>\n",
       "      <td>0.727723</td>\n",
       "      <td>0.047694</td>\n",
       "      <td>0.561559</td>\n",
       "      <td>0.813848</td>\n",
       "    </tr>\n",
       "    <tr>\n",
       "      <th>4</th>\n",
       "      <td>6</td>\n",
       "      <td>0.801805</td>\n",
       "      <td>0.762376</td>\n",
       "      <td>0.039429</td>\n",
       "      <td>0.559184</td>\n",
       "      <td>0.806750</td>\n",
       "    </tr>\n",
       "    <tr>\n",
       "      <th>6</th>\n",
       "      <td>8</td>\n",
       "      <td>0.834704</td>\n",
       "      <td>0.772827</td>\n",
       "      <td>0.061877</td>\n",
       "      <td>0.557342</td>\n",
       "      <td>0.771376</td>\n",
       "    </tr>\n",
       "    <tr>\n",
       "      <th>2</th>\n",
       "      <td>4</td>\n",
       "      <td>0.754284</td>\n",
       "      <td>0.749175</td>\n",
       "      <td>0.005109</td>\n",
       "      <td>0.557282</td>\n",
       "      <td>0.801575</td>\n",
       "    </tr>\n",
       "  </tbody>\n",
       "</table>\n",
       "</div>"
      ],
      "text/plain": [
       "   max_depth  train_accuracy_up  valid_accuracy_up  dif_accurancy  \\\n",
       "5          7           0.814713           0.775028       0.039686   \n",
       "3          5           0.775417           0.727723       0.047694   \n",
       "4          6           0.801805           0.762376       0.039429   \n",
       "6          8           0.834704           0.772827       0.061877   \n",
       "2          4           0.754284           0.749175       0.005109   \n",
       "\n",
       "   f1_valid_up  auc_roc_up  \n",
       "5     0.573514    0.793989  \n",
       "3     0.561559    0.813848  \n",
       "4     0.559184    0.806750  \n",
       "6     0.557342    0.771376  \n",
       "2     0.557282    0.801575  "
      ]
     },
     "execution_count": 28,
     "metadata": {},
     "output_type": "execute_result"
    }
   ],
   "source": [
    "df_decissiontree = pd.DataFrame() # create dataframe\n",
    "for depth in range(2, 10):\n",
    "    # create the model\n",
    "    model = DecisionTreeClassifier(max_depth=depth, random_state=12345)\n",
    "\n",
    "    # fit the model\n",
    "    model.fit(features_train_upsampled, target_train_upsampled)\n",
    "\n",
    "    # predict values\n",
    "    predicted_train = model.predict(features_train_upsampled)\n",
    "    predicted_valid = model.predict(features_valid)\n",
    "\n",
    "    # calculate accuracy\n",
    "    accuracy_train = accuracy_score(target_train_upsampled, predicted_train)\n",
    "    accuracy_valid = accuracy_score(target_valid, predicted_valid)\n",
    "    dif_accurancy = accuracy_train - accuracy_valid # count the difference\n",
    "\n",
    "    # calculate f1_score\n",
    "    f1_valid = f1_score(target_valid, predicted_valid)\n",
    "\n",
    "    # predict probabilities\n",
    "    probabilities_valid = model.predict_proba(features_valid)\n",
    "    probabilities_one_valid = probabilities_valid[:, 1]\n",
    "\n",
    "    # calculate auc_roc\n",
    "    auc_roc = roc_auc_score(target_valid, probabilities_one_valid) \n",
    "\n",
    "    # create temp dataframe with metrics\n",
    "    df_decissiontree_temp = pd.DataFrame({'max_depth': [depth],\n",
    "                                         'train_accuracy_up': [accuracy_train],\n",
    "                                         'valid_accuracy_up': [accuracy_valid],\n",
    "                                         'dif_accurancy': [dif_accurancy],\n",
    "                                         'f1_valid_up': [f1_valid],\n",
    "                                         'auc_roc_up': [auc_roc]}) \n",
    "    \n",
    "    # append info to \"df_decissiontree\"\n",
    "    df_decissiontree = df_decissiontree.append(df_decissiontree_temp)\n",
    "\n",
    "des_tree_up = df_decissiontree.reset_index(drop=True)\n",
    "des_tree_up.sort_values(by='f1_valid_up', ascending=False).head()"
   ]
  },
  {
   "cell_type": "markdown",
   "metadata": {},
   "source": [
    "The best result with max_depth=7. We have f1_valid_up=0.573514. But the auc_roc=0.813848 is higher for max_depth=5. And f1_valid_up=0.561559 isn't bad."
   ]
  },
  {
   "cell_type": "markdown",
   "metadata": {},
   "source": [
    "**Train model with \"RandomForestClassifier\"**"
   ]
  },
  {
   "cell_type": "code",
   "execution_count": 29,
   "metadata": {},
   "outputs": [
    {
     "data": {
      "text/html": [
       "<div>\n",
       "<style scoped>\n",
       "    .dataframe tbody tr th:only-of-type {\n",
       "        vertical-align: middle;\n",
       "    }\n",
       "\n",
       "    .dataframe tbody tr th {\n",
       "        vertical-align: top;\n",
       "    }\n",
       "\n",
       "    .dataframe thead th {\n",
       "        text-align: right;\n",
       "    }\n",
       "</style>\n",
       "<table border=\"1\" class=\"dataframe\">\n",
       "  <thead>\n",
       "    <tr style=\"text-align: right;\">\n",
       "      <th></th>\n",
       "      <th>n_estimators</th>\n",
       "      <th>train_accuracy</th>\n",
       "      <th>valid_accuracy</th>\n",
       "      <th>dif_accurancy</th>\n",
       "      <th>f1_valid_up</th>\n",
       "      <th>auc_roc</th>\n",
       "    </tr>\n",
       "  </thead>\n",
       "  <tbody>\n",
       "    <tr>\n",
       "      <th>27</th>\n",
       "      <td>28</td>\n",
       "      <td>0.789011</td>\n",
       "      <td>0.779978</td>\n",
       "      <td>0.009033</td>\n",
       "      <td>0.589322</td>\n",
       "      <td>0.833598</td>\n",
       "    </tr>\n",
       "    <tr>\n",
       "      <th>30</th>\n",
       "      <td>31</td>\n",
       "      <td>0.789810</td>\n",
       "      <td>0.778328</td>\n",
       "      <td>0.011483</td>\n",
       "      <td>0.585817</td>\n",
       "      <td>0.832215</td>\n",
       "    </tr>\n",
       "    <tr>\n",
       "      <th>25</th>\n",
       "      <td>26</td>\n",
       "      <td>0.790382</td>\n",
       "      <td>0.780528</td>\n",
       "      <td>0.009853</td>\n",
       "      <td>0.585670</td>\n",
       "      <td>0.834961</td>\n",
       "    </tr>\n",
       "    <tr>\n",
       "      <th>31</th>\n",
       "      <td>32</td>\n",
       "      <td>0.790382</td>\n",
       "      <td>0.778878</td>\n",
       "      <td>0.011504</td>\n",
       "      <td>0.584711</td>\n",
       "      <td>0.831882</td>\n",
       "    </tr>\n",
       "    <tr>\n",
       "      <th>28</th>\n",
       "      <td>29</td>\n",
       "      <td>0.789925</td>\n",
       "      <td>0.777778</td>\n",
       "      <td>0.012147</td>\n",
       "      <td>0.584362</td>\n",
       "      <td>0.832637</td>\n",
       "    </tr>\n",
       "  </tbody>\n",
       "</table>\n",
       "</div>"
      ],
      "text/plain": [
       "    n_estimators  train_accuracy  valid_accuracy  dif_accurancy  f1_valid_up  \\\n",
       "27            28        0.789011        0.779978       0.009033     0.589322   \n",
       "30            31        0.789810        0.778328       0.011483     0.585817   \n",
       "25            26        0.790382        0.780528       0.009853     0.585670   \n",
       "31            32        0.790382        0.778878       0.011504     0.584711   \n",
       "28            29        0.789925        0.777778       0.012147     0.584362   \n",
       "\n",
       "     auc_roc  \n",
       "27  0.833598  \n",
       "30  0.832215  \n",
       "25  0.834961  \n",
       "31  0.831882  \n",
       "28  0.832637  "
      ]
     },
     "execution_count": 29,
     "metadata": {},
     "output_type": "execute_result"
    }
   ],
   "source": [
    "df_randomforest = pd.DataFrame() # create dataframe\n",
    "for est in range(1, 50):\n",
    "    # create the model\n",
    "    model = RandomForestClassifier(max_depth=5, n_estimators=est, random_state=12345)\n",
    "\n",
    "    # fit the model\n",
    "    model.fit(features_train_upsampled, target_train_upsampled)\n",
    "\n",
    "    # predict values\n",
    "    predicted_train = model.predict(features_train_upsampled)\n",
    "    predicted_valid = model.predict(features_valid)\n",
    "\n",
    "    # calculate accuracy\n",
    "    accuracy_train = accuracy_score(target_train_upsampled, predicted_train)\n",
    "    accuracy_valid = accuracy_score(target_valid, predicted_valid)\n",
    "    dif_accurancy = accuracy_train - accuracy_valid # count the difference\n",
    "\n",
    "    # calculate f1_score\n",
    "    f1_valid = f1_score(target_valid, predicted_valid)\n",
    "\n",
    "    # predict probabilities\n",
    "    probabilities_valid = model.predict_proba(features_valid)\n",
    "    probabilities_one_valid = probabilities_valid[:, 1]\n",
    "\n",
    "    # calculate auc_roc\n",
    "    auc_roc = roc_auc_score(target_valid, probabilities_one_valid) \n",
    "\n",
    "    # create temp dataframe with metrics\n",
    "    df_randomforest_temp = pd.DataFrame({'n_estimators': [est],\n",
    "                                         'train_accuracy': [accuracy_train],\n",
    "                                         'valid_accuracy': [accuracy_valid],\n",
    "                                         'dif_accurancy': [dif_accurancy],\n",
    "                                         'f1_valid_up': [f1_valid],\n",
    "                                         'auc_roc': [auc_roc]}) \n",
    "\n",
    "    # append info to \"df_decissiontree\"\n",
    "    df_randomforest = df_randomforest.append(df_randomforest_temp)\n",
    "\n",
    "random_tree_up = df_randomforest.reset_index(drop=True)\n",
    "random_tree_up.sort_values(by='f1_valid_up', ascending=False).head()"
   ]
  },
  {
   "cell_type": "markdown",
   "metadata": {},
   "source": [
    "The best result with n_estimators=5. We have f1_valid_up=0.589322. It's higher than for DecisionTreeClassifier."
   ]
  },
  {
   "cell_type": "markdown",
   "metadata": {},
   "source": [
    "**Train model with \"LogisticRegression\"**"
   ]
  },
  {
   "cell_type": "code",
   "execution_count": 30,
   "metadata": {},
   "outputs": [
    {
     "data": {
      "text/html": [
       "<div>\n",
       "<style scoped>\n",
       "    .dataframe tbody tr th:only-of-type {\n",
       "        vertical-align: middle;\n",
       "    }\n",
       "\n",
       "    .dataframe tbody tr th {\n",
       "        vertical-align: top;\n",
       "    }\n",
       "\n",
       "    .dataframe thead th {\n",
       "        text-align: right;\n",
       "    }\n",
       "</style>\n",
       "<table border=\"1\" class=\"dataframe\">\n",
       "  <thead>\n",
       "    <tr style=\"text-align: right;\">\n",
       "      <th></th>\n",
       "      <th>train_accuracy</th>\n",
       "      <th>valid_accuracy</th>\n",
       "      <th>dif_accurancy</th>\n",
       "      <th>f1_valid</th>\n",
       "      <th>auc_roc</th>\n",
       "    </tr>\n",
       "  </thead>\n",
       "  <tbody>\n",
       "    <tr>\n",
       "      <th>0</th>\n",
       "      <td>0.672378</td>\n",
       "      <td>0.653465</td>\n",
       "      <td>0.018913</td>\n",
       "      <td>0.452174</td>\n",
       "      <td>0.695853</td>\n",
       "    </tr>\n",
       "  </tbody>\n",
       "</table>\n",
       "</div>"
      ],
      "text/plain": [
       "   train_accuracy  valid_accuracy  dif_accurancy  f1_valid   auc_roc\n",
       "0        0.672378        0.653465       0.018913  0.452174  0.695853"
      ]
     },
     "execution_count": 30,
     "metadata": {},
     "output_type": "execute_result"
    }
   ],
   "source": [
    "# create the model\n",
    "model = LogisticRegression(solver='liblinear', class_weight='balanced', random_state=12345)\n",
    "\n",
    "# fit the model\n",
    "model.fit(features_train_upsampled, target_train_upsampled)\n",
    "\n",
    "# predict values\n",
    "predicted_train = model.predict(features_train_upsampled)\n",
    "predicted_valid = model.predict(features_valid)\n",
    "\n",
    "# calculate accuracy\n",
    "accuracy_train = accuracy_score(target_train_upsampled, predicted_train)\n",
    "accuracy_valid = accuracy_score(target_valid, predicted_valid)\n",
    "dif_accurancy = accuracy_train - accuracy_valid # count the difference\n",
    "\n",
    "# calculate f1_score\n",
    "f1_valid = f1_score(target_valid, predicted_valid)\n",
    "\n",
    "# predict probabilities\n",
    "probabilities_valid = model.predict_proba(features_valid)\n",
    "probabilities_one_valid = probabilities_valid[:, 1]\n",
    "\n",
    "# calculate auc_roc\n",
    "auc_roc = roc_auc_score(target_valid, probabilities_one_valid) \n",
    "\n",
    "# create temp dataframe with metrics\n",
    "df_log_reg = pd.DataFrame({'train_accuracy': [accuracy_train],\n",
    "                           'valid_accuracy': [accuracy_valid],\n",
    "                           'dif_accurancy': [dif_accurancy],\n",
    "                           'f1_valid': [f1_valid],\n",
    "                           'auc_roc': [auc_roc]}) \n",
    "\n",
    "log_reg_up = df_log_reg.reset_index(drop=True)\n",
    "log_reg_up"
   ]
  },
  {
   "cell_type": "markdown",
   "metadata": {},
   "source": [
    "The best result we have f1_valid=0.451049."
   ]
  },
  {
   "cell_type": "markdown",
   "metadata": {},
   "source": [
    "**Train model with \"GradientBoostingClassifier\"**"
   ]
  },
  {
   "cell_type": "code",
   "execution_count": 31,
   "metadata": {},
   "outputs": [
    {
     "data": {
      "text/html": [
       "<div>\n",
       "<style scoped>\n",
       "    .dataframe tbody tr th:only-of-type {\n",
       "        vertical-align: middle;\n",
       "    }\n",
       "\n",
       "    .dataframe tbody tr th {\n",
       "        vertical-align: top;\n",
       "    }\n",
       "\n",
       "    .dataframe thead th {\n",
       "        text-align: right;\n",
       "    }\n",
       "</style>\n",
       "<table border=\"1\" class=\"dataframe\">\n",
       "  <thead>\n",
       "    <tr style=\"text-align: right;\">\n",
       "      <th></th>\n",
       "      <th>n_estimators</th>\n",
       "      <th>train_accuracy</th>\n",
       "      <th>valid_accuracy</th>\n",
       "      <th>dif_accurancy</th>\n",
       "      <th>f1_valid_up</th>\n",
       "      <th>auc_roc</th>\n",
       "    </tr>\n",
       "  </thead>\n",
       "  <tbody>\n",
       "    <tr>\n",
       "      <th>48</th>\n",
       "      <td>49</td>\n",
       "      <td>0.841901</td>\n",
       "      <td>0.79978</td>\n",
       "      <td>0.042121</td>\n",
       "      <td>0.604348</td>\n",
       "      <td>0.848034</td>\n",
       "    </tr>\n",
       "    <tr>\n",
       "      <th>47</th>\n",
       "      <td>48</td>\n",
       "      <td>0.841558</td>\n",
       "      <td>0.79868</td>\n",
       "      <td>0.042878</td>\n",
       "      <td>0.603037</td>\n",
       "      <td>0.848125</td>\n",
       "    </tr>\n",
       "    <tr>\n",
       "      <th>46</th>\n",
       "      <td>47</td>\n",
       "      <td>0.839273</td>\n",
       "      <td>0.79868</td>\n",
       "      <td>0.040594</td>\n",
       "      <td>0.603037</td>\n",
       "      <td>0.848261</td>\n",
       "    </tr>\n",
       "    <tr>\n",
       "      <th>42</th>\n",
       "      <td>43</td>\n",
       "      <td>0.839045</td>\n",
       "      <td>0.79538</td>\n",
       "      <td>0.043665</td>\n",
       "      <td>0.601713</td>\n",
       "      <td>0.847022</td>\n",
       "    </tr>\n",
       "    <tr>\n",
       "      <th>45</th>\n",
       "      <td>46</td>\n",
       "      <td>0.839159</td>\n",
       "      <td>0.79813</td>\n",
       "      <td>0.041029</td>\n",
       "      <td>0.601520</td>\n",
       "      <td>0.847632</td>\n",
       "    </tr>\n",
       "  </tbody>\n",
       "</table>\n",
       "</div>"
      ],
      "text/plain": [
       "    n_estimators  train_accuracy  valid_accuracy  dif_accurancy  f1_valid_up  \\\n",
       "48            49        0.841901         0.79978       0.042121     0.604348   \n",
       "47            48        0.841558         0.79868       0.042878     0.603037   \n",
       "46            47        0.839273         0.79868       0.040594     0.603037   \n",
       "42            43        0.839045         0.79538       0.043665     0.601713   \n",
       "45            46        0.839159         0.79813       0.041029     0.601520   \n",
       "\n",
       "     auc_roc  \n",
       "48  0.848034  \n",
       "47  0.848125  \n",
       "46  0.848261  \n",
       "42  0.847022  \n",
       "45  0.847632  "
      ]
     },
     "execution_count": 31,
     "metadata": {},
     "output_type": "execute_result"
    }
   ],
   "source": [
    "df_grad = pd.DataFrame() # create dataframe\n",
    "for est in range(1, 50):\n",
    "    # create the model\n",
    "    model = GradientBoostingClassifier(max_depth=5, n_estimators=est, random_state=12345)\n",
    "\n",
    "    # fit the model\n",
    "    model.fit(features_train_upsampled, target_train_upsampled)\n",
    "\n",
    "    # predict values\n",
    "    predicted_train = model.predict(features_train_upsampled)\n",
    "    predicted_valid = model.predict(features_valid)\n",
    "\n",
    "    # calculate accuracy\n",
    "    accuracy_train = accuracy_score(target_train_upsampled, predicted_train)\n",
    "    accuracy_valid = accuracy_score(target_valid, predicted_valid)\n",
    "    dif_accurancy = accuracy_train - accuracy_valid # count the difference\n",
    "\n",
    "    # calculate f1_score\n",
    "    f1_valid = f1_score(target_valid, predicted_valid)\n",
    "    \n",
    "    # predict probabilities\n",
    "    probabilities_valid = model.predict_proba(features_valid)\n",
    "    probabilities_one_valid = probabilities_valid[:, 1]\n",
    "\n",
    "    # calculate auc_roc\n",
    "    auc_roc = roc_auc_score(target_valid, probabilities_one_valid) \n",
    "\n",
    "    # create temp dataframe with metrics\n",
    "    df_grad_temp = pd.DataFrame({'n_estimators': [est],\n",
    "                                         'train_accuracy': [accuracy_train],\n",
    "                                         'valid_accuracy': [accuracy_valid],\n",
    "                                         'dif_accurancy': [dif_accurancy],\n",
    "                                         'f1_valid_up': [f1_valid],\n",
    "                                         'auc_roc': [auc_roc]}) \n",
    "\n",
    "    # append info to \"df_decissiontree\"\n",
    "    df_grad = df_grad.append(df_grad_temp)\n",
    "\n",
    "df_grad_up = df_grad.reset_index(drop=True)\n",
    "df_grad_up.sort_values(by='f1_valid_up', ascending=False).head()"
   ]
  },
  {
   "cell_type": "markdown",
   "metadata": {},
   "source": [
    "The best result we have f1_valid=0.604348 with n_estimators=49. But the auc_roc=0.848089 is higher for n_estimators=47. And f1_valid_up=0.603037 isn't bad."
   ]
  },
  {
   "cell_type": "markdown",
   "metadata": {},
   "source": [
    "### Conclusion"
   ]
  },
  {
   "cell_type": "markdown",
   "metadata": {},
   "source": [
    "Thus \"GradientBoostingClassifier\" with max_depth=5 and n_estimators=47 has the best result for us. "
   ]
  },
  {
   "cell_type": "markdown",
   "metadata": {},
   "source": [
    "### Step 6. Graphs"
   ]
  },
  {
   "cell_type": "markdown",
   "metadata": {},
   "source": [
    "Look carefully at changes with and without taking into account the imbalance of classes."
   ]
  },
  {
   "cell_type": "markdown",
   "metadata": {},
   "source": [
    "*Make dataframe with f1 and auc_roc*"
   ]
  },
  {
   "cell_type": "code",
   "execution_count": 32,
   "metadata": {},
   "outputs": [
    {
     "data": {
      "text/html": [
       "<div>\n",
       "<style scoped>\n",
       "    .dataframe tbody tr th:only-of-type {\n",
       "        vertical-align: middle;\n",
       "    }\n",
       "\n",
       "    .dataframe tbody tr th {\n",
       "        vertical-align: top;\n",
       "    }\n",
       "\n",
       "    .dataframe thead th {\n",
       "        text-align: right;\n",
       "    }\n",
       "</style>\n",
       "<table border=\"1\" class=\"dataframe\">\n",
       "  <thead>\n",
       "    <tr style=\"text-align: right;\">\n",
       "      <th></th>\n",
       "      <th>max_depth</th>\n",
       "      <th>f1_valid</th>\n",
       "      <th>auc_roc</th>\n",
       "      <th>f1_valid_up</th>\n",
       "      <th>auc_roc_up</th>\n",
       "    </tr>\n",
       "  </thead>\n",
       "  <tbody>\n",
       "    <tr>\n",
       "      <th>0</th>\n",
       "      <td>2</td>\n",
       "      <td>0.512195</td>\n",
       "      <td>0.717929</td>\n",
       "      <td>0.513171</td>\n",
       "      <td>0.731754</td>\n",
       "    </tr>\n",
       "    <tr>\n",
       "      <th>1</th>\n",
       "      <td>3</td>\n",
       "      <td>0.516923</td>\n",
       "      <td>0.779948</td>\n",
       "      <td>0.513171</td>\n",
       "      <td>0.783804</td>\n",
       "    </tr>\n",
       "    <tr>\n",
       "      <th>2</th>\n",
       "      <td>4</td>\n",
       "      <td>0.496644</td>\n",
       "      <td>0.807640</td>\n",
       "      <td>0.557282</td>\n",
       "      <td>0.801575</td>\n",
       "    </tr>\n",
       "    <tr>\n",
       "      <th>3</th>\n",
       "      <td>5</td>\n",
       "      <td>0.536434</td>\n",
       "      <td>0.814320</td>\n",
       "      <td>0.561559</td>\n",
       "      <td>0.813848</td>\n",
       "    </tr>\n",
       "    <tr>\n",
       "      <th>4</th>\n",
       "      <td>6</td>\n",
       "      <td>0.516447</td>\n",
       "      <td>0.808348</td>\n",
       "      <td>0.559184</td>\n",
       "      <td>0.806750</td>\n",
       "    </tr>\n",
       "  </tbody>\n",
       "</table>\n",
       "</div>"
      ],
      "text/plain": [
       "   max_depth  f1_valid   auc_roc  f1_valid_up  auc_roc_up\n",
       "0          2  0.512195  0.717929     0.513171    0.731754\n",
       "1          3  0.516923  0.779948     0.513171    0.783804\n",
       "2          4  0.496644  0.807640     0.557282    0.801575\n",
       "3          5  0.536434  0.814320     0.561559    0.813848\n",
       "4          6  0.516447  0.808348     0.559184    0.806750"
      ]
     },
     "execution_count": 32,
     "metadata": {},
     "output_type": "execute_result"
    }
   ],
   "source": [
    "des_tree_scores = des_tree[['max_depth', 'f1_valid', 'auc_roc']]\n",
    "des_tree_up_scores = des_tree_up[['max_depth', 'f1_valid_up', 'auc_roc_up']]\n",
    "des_tree_up_scores_sum = des_tree_scores.assign(**des_tree_up_scores)\n",
    "des_tree_up_scores_sum.head()"
   ]
  },
  {
   "cell_type": "code",
   "execution_count": 33,
   "metadata": {},
   "outputs": [
    {
     "data": {
      "image/png": "[encoded data removed]",
      "text/plain": [
       "<Figure size 432x288 with 1 Axes>"
      ]
     },
     "metadata": {
      "image/png": {
       "height": 277,
       "width": 378
      },
      "needs_background": "light"
     },
     "output_type": "display_data"
    }
   ],
   "source": [
    "# plot graphs\n",
    "des_tree_up_scores_sum.plot(x='max_depth', title='f1 and auc_roc difference');"
   ]
  },
  {
   "cell_type": "markdown",
   "metadata": {},
   "source": [
    "*Make dataframe with accuracy*"
   ]
  },
  {
   "cell_type": "code",
   "execution_count": 34,
   "metadata": {},
   "outputs": [
    {
     "data": {
      "text/html": [
       "<div>\n",
       "<style scoped>\n",
       "    .dataframe tbody tr th:only-of-type {\n",
       "        vertical-align: middle;\n",
       "    }\n",
       "\n",
       "    .dataframe tbody tr th {\n",
       "        vertical-align: top;\n",
       "    }\n",
       "\n",
       "    .dataframe thead th {\n",
       "        text-align: right;\n",
       "    }\n",
       "</style>\n",
       "<table border=\"1\" class=\"dataframe\">\n",
       "  <thead>\n",
       "    <tr style=\"text-align: right;\">\n",
       "      <th></th>\n",
       "      <th>max_depth</th>\n",
       "      <th>train_accuracy</th>\n",
       "      <th>valid_accuracy</th>\n",
       "      <th>train_accuracy_up</th>\n",
       "      <th>valid_accuracy_up</th>\n",
       "    </tr>\n",
       "  </thead>\n",
       "  <tbody>\n",
       "    <tr>\n",
       "      <th>0</th>\n",
       "      <td>2</td>\n",
       "      <td>0.840117</td>\n",
       "      <td>0.823982</td>\n",
       "      <td>0.721385</td>\n",
       "      <td>0.725523</td>\n",
       "    </tr>\n",
       "    <tr>\n",
       "      <th>1</th>\n",
       "      <td>3</td>\n",
       "      <td>0.845618</td>\n",
       "      <td>0.827283</td>\n",
       "      <td>0.721385</td>\n",
       "      <td>0.725523</td>\n",
       "    </tr>\n",
       "    <tr>\n",
       "      <th>2</th>\n",
       "      <td>4</td>\n",
       "      <td>0.857352</td>\n",
       "      <td>0.834983</td>\n",
       "      <td>0.754284</td>\n",
       "      <td>0.749175</td>\n",
       "    </tr>\n",
       "    <tr>\n",
       "      <th>3</th>\n",
       "      <td>5</td>\n",
       "      <td>0.866703</td>\n",
       "      <td>0.835534</td>\n",
       "      <td>0.775417</td>\n",
       "      <td>0.727723</td>\n",
       "    </tr>\n",
       "    <tr>\n",
       "      <th>4</th>\n",
       "      <td>6</td>\n",
       "      <td>0.872754</td>\n",
       "      <td>0.838284</td>\n",
       "      <td>0.801805</td>\n",
       "      <td>0.762376</td>\n",
       "    </tr>\n",
       "  </tbody>\n",
       "</table>\n",
       "</div>"
      ],
      "text/plain": [
       "   max_depth  train_accuracy  valid_accuracy  train_accuracy_up  \\\n",
       "0          2        0.840117        0.823982           0.721385   \n",
       "1          3        0.845618        0.827283           0.721385   \n",
       "2          4        0.857352        0.834983           0.754284   \n",
       "3          5        0.866703        0.835534           0.775417   \n",
       "4          6        0.872754        0.838284           0.801805   \n",
       "\n",
       "   valid_accuracy_up  \n",
       "0           0.725523  \n",
       "1           0.725523  \n",
       "2           0.749175  \n",
       "3           0.727723  \n",
       "4           0.762376  "
      ]
     },
     "execution_count": 34,
     "metadata": {},
     "output_type": "execute_result"
    }
   ],
   "source": [
    "des_tree_acc = des_tree[['max_depth', 'train_accuracy', 'valid_accuracy']]\n",
    "des_tree_up_acc = des_tree_up[['max_depth', 'train_accuracy_up', 'valid_accuracy_up']]\n",
    "des_tree_up_acc_sum = des_tree_acc.assign(**des_tree_up_acc)\n",
    "des_tree_up_acc_sum.head()"
   ]
  },
  {
   "cell_type": "code",
   "execution_count": 35,
   "metadata": {},
   "outputs": [
    {
     "data": {
      "image/png": "[encoded data removed]",
      "text/plain": [
       "<Figure size 432x288 with 1 Axes>"
      ]
     },
     "metadata": {
      "image/png": {
       "height": 277,
       "width": 385
      },
      "needs_background": "light"
     },
     "output_type": "display_data"
    }
   ],
   "source": [
    "des_tree_up_acc_sum.plot(x='max_depth', title='accuracy difference');"
   ]
  },
  {
   "cell_type": "markdown",
   "metadata": {},
   "source": [
    "### Conclusion"
   ]
  },
  {
   "cell_type": "markdown",
   "metadata": {},
   "source": [
    "As we see accuracy was higher before preprocessing. F1 has growth. And auc_roc don't show the high growth."
   ]
  },
  {
   "cell_type": "markdown",
   "metadata": {},
   "source": [
    "### Step 7. Check the quality of the model"
   ]
  },
  {
   "cell_type": "markdown",
   "metadata": {},
   "source": [
    "*Check the quality of the model using the test set.*"
   ]
  },
  {
   "cell_type": "code",
   "execution_count": 36,
   "metadata": {},
   "outputs": [
    {
     "name": "stdout",
     "output_type": "stream",
     "text": [
      "f1_score: 0.5937859608745686\n",
      "auc_roc: 0.8530708843223275\n"
     ]
    }
   ],
   "source": [
    "model = GradientBoostingClassifier(random_state=12345, max_depth=5, n_estimators=47)\n",
    "model.fit(features_train_upsampled, target_train_upsampled) # fit the model\n",
    "predicted_test = model.predict(features_test)\n",
    "\n",
    "# predict probabilities\n",
    "probabilities_test = model.predict_proba(features_test)\n",
    "probabilities_one_test = probabilities_test[:, 1]\n",
    "\n",
    "# calculate auc_roc\n",
    "auc_roc = roc_auc_score(target_test, probabilities_one_test) \n",
    "\n",
    "f1_test = f1_score(target_test, predicted_test) # count the test score\n",
    "print('f1_score:', f1_test)\n",
    "print('auc_roc:', auc_roc)"
   ]
  },
  {
   "cell_type": "markdown",
   "metadata": {},
   "source": [
    "### Conclusion"
   ]
  },
  {
   "cell_type": "markdown",
   "metadata": {},
   "source": [
    "This's good f1_score and auc_roc."
   ]
  },
  {
   "cell_type": "markdown",
   "metadata": {},
   "source": [
    "### Step 4. Overall conclusion"
   ]
  },
  {
   "cell_type": "markdown",
   "metadata": {},
   "source": [
    "*The main task:*\n",
    "\n",
    "For classification task, we need to predict whether a customer will leave the bank soon.\n",
    "\n",
    "*Conclusion:*"
   ]
  },
  {
   "cell_type": "markdown",
   "metadata": {},
   "source": [
    "We have identified that \"GradientBoostingClassifier\" with max_depth=5 and n_estimators=47 is the best model for our conditions."
   ]
  }
 ],
 "metadata": {
  "kernelspec": {
   "display_name": "Python 3",
   "language": "python",
   "name": "python3"
  },
  "language_info": {
   "codemirror_mode": {
    "name": "ipython",
    "version": 3
   },
   "file_extension": ".py",
   "mimetype": "text/x-python",
   "name": "python",
   "nbconvert_exporter": "python",
   "pygments_lexer": "ipython3",
   "version": "3.7.6"
  }
 },
 "nbformat": 4,
 "nbformat_minor": 2
}
