{
 "cells": [
  {
   "cell_type": "markdown",
   "metadata": {},
   "source": [
    "# Development a data transforming algorithm"
   ]
  },
  {
   "cell_type": "markdown",
   "metadata": {},
   "source": [
    "The Sure Tomorrow insurance company wants to protect its clients' data. Our task is to develop a data transforming algorithm that would make it hard to recover personal information from the transformed data. This is called data masking, or data obfuscation. We are also expected to prove that the algorithm works correctly. Additionally, the data should be protected in such a way that the quality of machine learning models doesn't suffer. We don't need to pick the best model. For development a new algorithm we need:\n",
    "- construct a theoretical proof using properties of models and the given task;\n",
    "- formulate an algorithm for this proof;\n",
    "- check that the algorithm is working correctly when applied to real data.\n",
    "We will use a simple method of data masking, based on an invertible matrix."
   ]
  },
  {
   "cell_type": "markdown",
   "metadata": {},
   "source": [
    "### Step 1.  Prepare the data"
   ]
  },
  {
   "cell_type": "markdown",
   "metadata": {},
   "source": [
    "#### 1.1. Open the data file and study the general information"
   ]
  },
  {
   "cell_type": "code",
   "execution_count": 1,
   "metadata": {},
   "outputs": [],
   "source": [
    "# import libs\n",
    "import numpy as np\n",
    "import pandas as pd\n",
    "import matplotlib.pyplot as plt\n",
    "import seaborn as sns\n",
    "%config InlineBackend.figure_format = 'retina'\n",
    "from sklearn.model_selection import train_test_split\n",
    "from sklearn.linear_model import LinearRegression\n",
    "from sklearn.metrics import r2_score\n",
    "from numpy.linalg import inv"
   ]
  },
  {
   "cell_type": "markdown",
   "metadata": {},
   "source": [
    "*Read the file and save it to the variable*"
   ]
  },
  {
   "cell_type": "code",
   "execution_count": 2,
   "metadata": {},
   "outputs": [],
   "source": [
    "df_insurance = pd.read_csv('insurance_us.csv')"
   ]
  },
  {
   "cell_type": "markdown",
   "metadata": {},
   "source": [
    "*Print 5 random rows*"
   ]
  },
  {
   "cell_type": "code",
   "execution_count": 3,
   "metadata": {},
   "outputs": [
    {
     "data": {
      "text/html": [
       "<div>\n",
       "<style scoped>\n",
       "    .dataframe tbody tr th:only-of-type {\n",
       "        vertical-align: middle;\n",
       "    }\n",
       "\n",
       "    .dataframe tbody tr th {\n",
       "        vertical-align: top;\n",
       "    }\n",
       "\n",
       "    .dataframe thead th {\n",
       "        text-align: right;\n",
       "    }\n",
       "</style>\n",
       "<table border=\"1\" class=\"dataframe\">\n",
       "  <thead>\n",
       "    <tr style=\"text-align: right;\">\n",
       "      <th></th>\n",
       "      <th>Gender</th>\n",
       "      <th>Age</th>\n",
       "      <th>Salary</th>\n",
       "      <th>Family members</th>\n",
       "      <th>Insurance benefits</th>\n",
       "    </tr>\n",
       "  </thead>\n",
       "  <tbody>\n",
       "    <tr>\n",
       "      <th>4506</th>\n",
       "      <td>0</td>\n",
       "      <td>30.0</td>\n",
       "      <td>34700.0</td>\n",
       "      <td>1</td>\n",
       "      <td>0</td>\n",
       "    </tr>\n",
       "    <tr>\n",
       "      <th>1273</th>\n",
       "      <td>1</td>\n",
       "      <td>28.0</td>\n",
       "      <td>57600.0</td>\n",
       "      <td>2</td>\n",
       "      <td>0</td>\n",
       "    </tr>\n",
       "    <tr>\n",
       "      <th>357</th>\n",
       "      <td>0</td>\n",
       "      <td>43.0</td>\n",
       "      <td>41200.0</td>\n",
       "      <td>2</td>\n",
       "      <td>1</td>\n",
       "    </tr>\n",
       "    <tr>\n",
       "      <th>478</th>\n",
       "      <td>1</td>\n",
       "      <td>53.0</td>\n",
       "      <td>32500.0</td>\n",
       "      <td>1</td>\n",
       "      <td>2</td>\n",
       "    </tr>\n",
       "    <tr>\n",
       "      <th>356</th>\n",
       "      <td>1</td>\n",
       "      <td>30.0</td>\n",
       "      <td>31600.0</td>\n",
       "      <td>3</td>\n",
       "      <td>0</td>\n",
       "    </tr>\n",
       "  </tbody>\n",
       "</table>\n",
       "</div>"
      ],
      "text/plain": [
       "      Gender   Age   Salary  Family members  Insurance benefits\n",
       "4506       0  30.0  34700.0               1                   0\n",
       "1273       1  28.0  57600.0               2                   0\n",
       "357        0  43.0  41200.0               2                   1\n",
       "478        1  53.0  32500.0               1                   2\n",
       "356        1  30.0  31600.0               3                   0"
      ]
     },
     "execution_count": 3,
     "metadata": {},
     "output_type": "execute_result"
    }
   ],
   "source": [
    "df_insurance.sample(n=5, random_state=12)"
   ]
  },
  {
   "cell_type": "markdown",
   "metadata": {},
   "source": [
    "Data description:\n",
    "- Features: insured person's gender, age, salary, and number of family members.\n",
    "- Target: number of insurance benefits received by the insured person over the last five years."
   ]
  },
  {
   "cell_type": "markdown",
   "metadata": {},
   "source": [
    "*Look at the general information of our dataset*"
   ]
  },
  {
   "cell_type": "code",
   "execution_count": 4,
   "metadata": {},
   "outputs": [
    {
     "name": "stdout",
     "output_type": "stream",
     "text": [
      "<class 'pandas.core.frame.DataFrame'>\n",
      "RangeIndex: 5000 entries, 0 to 4999\n",
      "Data columns (total 5 columns):\n",
      " #   Column              Non-Null Count  Dtype  \n",
      "---  ------              --------------  -----  \n",
      " 0   Gender              5000 non-null   int64  \n",
      " 1   Age                 5000 non-null   float64\n",
      " 2   Salary              5000 non-null   float64\n",
      " 3   Family members      5000 non-null   int64  \n",
      " 4   Insurance benefits  5000 non-null   int64  \n",
      "dtypes: float64(2), int64(3)\n",
      "memory usage: 195.4 KB\n"
     ]
    }
   ],
   "source": [
    "df_insurance.info()"
   ]
  },
  {
   "cell_type": "markdown",
   "metadata": {},
   "source": [
    "*Use describe() method for more information*"
   ]
  },
  {
   "cell_type": "code",
   "execution_count": 5,
   "metadata": {
    "scrolled": true
   },
   "outputs": [
    {
     "data": {
      "text/html": [
       "<div>\n",
       "<style scoped>\n",
       "    .dataframe tbody tr th:only-of-type {\n",
       "        vertical-align: middle;\n",
       "    }\n",
       "\n",
       "    .dataframe tbody tr th {\n",
       "        vertical-align: top;\n",
       "    }\n",
       "\n",
       "    .dataframe thead th {\n",
       "        text-align: right;\n",
       "    }\n",
       "</style>\n",
       "<table border=\"1\" class=\"dataframe\">\n",
       "  <thead>\n",
       "    <tr style=\"text-align: right;\">\n",
       "      <th></th>\n",
       "      <th>Gender</th>\n",
       "      <th>Age</th>\n",
       "      <th>Salary</th>\n",
       "      <th>Family members</th>\n",
       "      <th>Insurance benefits</th>\n",
       "    </tr>\n",
       "  </thead>\n",
       "  <tbody>\n",
       "    <tr>\n",
       "      <th>count</th>\n",
       "      <td>5000.000000</td>\n",
       "      <td>5000.000000</td>\n",
       "      <td>5000.000000</td>\n",
       "      <td>5000.000000</td>\n",
       "      <td>5000.000000</td>\n",
       "    </tr>\n",
       "    <tr>\n",
       "      <th>mean</th>\n",
       "      <td>0.499000</td>\n",
       "      <td>30.952800</td>\n",
       "      <td>39916.360000</td>\n",
       "      <td>1.194200</td>\n",
       "      <td>0.148000</td>\n",
       "    </tr>\n",
       "    <tr>\n",
       "      <th>std</th>\n",
       "      <td>0.500049</td>\n",
       "      <td>8.440807</td>\n",
       "      <td>9900.083569</td>\n",
       "      <td>1.091387</td>\n",
       "      <td>0.463183</td>\n",
       "    </tr>\n",
       "    <tr>\n",
       "      <th>min</th>\n",
       "      <td>0.000000</td>\n",
       "      <td>18.000000</td>\n",
       "      <td>5300.000000</td>\n",
       "      <td>0.000000</td>\n",
       "      <td>0.000000</td>\n",
       "    </tr>\n",
       "    <tr>\n",
       "      <th>25%</th>\n",
       "      <td>0.000000</td>\n",
       "      <td>24.000000</td>\n",
       "      <td>33300.000000</td>\n",
       "      <td>0.000000</td>\n",
       "      <td>0.000000</td>\n",
       "    </tr>\n",
       "    <tr>\n",
       "      <th>50%</th>\n",
       "      <td>0.000000</td>\n",
       "      <td>30.000000</td>\n",
       "      <td>40200.000000</td>\n",
       "      <td>1.000000</td>\n",
       "      <td>0.000000</td>\n",
       "    </tr>\n",
       "    <tr>\n",
       "      <th>75%</th>\n",
       "      <td>1.000000</td>\n",
       "      <td>37.000000</td>\n",
       "      <td>46600.000000</td>\n",
       "      <td>2.000000</td>\n",
       "      <td>0.000000</td>\n",
       "    </tr>\n",
       "    <tr>\n",
       "      <th>max</th>\n",
       "      <td>1.000000</td>\n",
       "      <td>65.000000</td>\n",
       "      <td>79000.000000</td>\n",
       "      <td>6.000000</td>\n",
       "      <td>5.000000</td>\n",
       "    </tr>\n",
       "  </tbody>\n",
       "</table>\n",
       "</div>"
      ],
      "text/plain": [
       "            Gender          Age        Salary  Family members  \\\n",
       "count  5000.000000  5000.000000   5000.000000     5000.000000   \n",
       "mean      0.499000    30.952800  39916.360000        1.194200   \n",
       "std       0.500049     8.440807   9900.083569        1.091387   \n",
       "min       0.000000    18.000000   5300.000000        0.000000   \n",
       "25%       0.000000    24.000000  33300.000000        0.000000   \n",
       "50%       0.000000    30.000000  40200.000000        1.000000   \n",
       "75%       1.000000    37.000000  46600.000000        2.000000   \n",
       "max       1.000000    65.000000  79000.000000        6.000000   \n",
       "\n",
       "       Insurance benefits  \n",
       "count         5000.000000  \n",
       "mean             0.148000  \n",
       "std              0.463183  \n",
       "min              0.000000  \n",
       "25%              0.000000  \n",
       "50%              0.000000  \n",
       "75%              0.000000  \n",
       "max              5.000000  "
      ]
     },
     "execution_count": 5,
     "metadata": {},
     "output_type": "execute_result"
    }
   ],
   "source": [
    "df_insurance.describe() # use describe() method"
   ]
  },
  {
   "cell_type": "markdown",
   "metadata": {},
   "source": [
    "*Check the duplicates*"
   ]
  },
  {
   "cell_type": "code",
   "execution_count": 6,
   "metadata": {
    "scrolled": true
   },
   "outputs": [
    {
     "data": {
      "text/plain": [
       "153"
      ]
     },
     "execution_count": 6,
     "metadata": {},
     "output_type": "execute_result"
    }
   ],
   "source": [
    "# check the duplicates\n",
    "df_insurance.duplicated().sum()"
   ]
  },
  {
   "cell_type": "markdown",
   "metadata": {},
   "source": [
    "*Plot the distributions*"
   ]
  },
  {
   "cell_type": "code",
   "execution_count": 7,
   "metadata": {},
   "outputs": [
    {
     "data": {
      "image/png": "[encoded data removed]",
      "text/plain": [
       "<Figure size 720x504 with 6 Axes>"
      ]
     },
     "metadata": {
      "image/png": {
       "height": 477,
       "width": 695
      },
      "needs_background": "light"
     },
     "output_type": "display_data"
    }
   ],
   "source": [
    "f, axes = plt.subplots(3, 2, figsize=(10, 7))\n",
    "sns.distplot(df_insurance['Gender'], kde=False, color=\"skyblue\", ax=axes[0, 0] )\n",
    "sns.distplot(df_insurance['Age'], color=\"olive\", ax=axes[0, 1])\n",
    "sns.distplot(df_insurance['Salary'], color=\"gold\", ax=axes[1, 0])\n",
    "sns.distplot(df_insurance['Family members'], kde=False, color=\"red\", ax=axes[1, 1])\n",
    "sns.distplot(df_insurance['Insurance benefits'], kde=False, color=\"green\", ax=axes[2, 0])\n",
    "f.tight_layout(pad=2.0)"
   ]
  },
  {
   "cell_type": "markdown",
   "metadata": {},
   "source": [
    "### Conclusion"
   ]
  },
  {
   "cell_type": "markdown",
   "metadata": {},
   "source": [
    "We have the dataframe with 5000 rows and 5 columns:\n",
    "- We haven't got missing values.\n",
    "- We have 153 duplicates. Just drop it."
   ]
  },
  {
   "cell_type": "markdown",
   "metadata": {},
   "source": [
    "#### 1.2. Data preprocessing"
   ]
  },
  {
   "cell_type": "markdown",
   "metadata": {},
   "source": [
    "*Drop duplicates*"
   ]
  },
  {
   "cell_type": "code",
   "execution_count": 8,
   "metadata": {},
   "outputs": [],
   "source": [
    "df_insurance.drop_duplicates(inplace = True)"
   ]
  },
  {
   "cell_type": "markdown",
   "metadata": {},
   "source": [
    "*Check the values*"
   ]
  },
  {
   "cell_type": "code",
   "execution_count": 9,
   "metadata": {},
   "outputs": [
    {
     "data": {
      "text/plain": [
       "4847"
      ]
     },
     "execution_count": 9,
     "metadata": {},
     "output_type": "execute_result"
    }
   ],
   "source": [
    "df_insurance.shape[0]"
   ]
  },
  {
   "cell_type": "markdown",
   "metadata": {},
   "source": [
    "### Step 2.  Provide a theoretical proof based on the property of linear regression."
   ]
  },
  {
   "cell_type": "markdown",
   "metadata": {},
   "source": [
    "We'll use a simple method of data masking, based on an invertible matrix.  \n",
    "Property of the linear regression is:\n",
    "$$\n",
    "w = (X^T * X)^{-1} * X^T * y\n",
    "$$  \n",
    "\n",
    "The inverse matrix for a square matrix A is a matrix A with a superscript -1 whose product with A is equal to the identity matrix (I). Multiplication can be performed in any order:\n",
    "$$\n",
    "A * A^{-1} = A^{-1} * A = I\n",
    "$$\n",
    "Where: \n",
    "$$\n",
    "A * I = I * A = A\n",
    "$$"
   ]
  },
  {
   "cell_type": "markdown",
   "metadata": {},
   "source": [
    "Look how to create invertible matrix with numpy library. If you generate a random matrix with the numpy.random.normal() function, the probability of getting a non-invertible matrix is close to zero."
   ]
  },
  {
   "cell_type": "markdown",
   "metadata": {},
   "source": [
    "*Create invertible matrix*"
   ]
  },
  {
   "cell_type": "code",
   "execution_count": 10,
   "metadata": {},
   "outputs": [
    {
     "data": {
      "text/plain": [
       "array([[-1.54387539, -1.19056086, -1.52339425, -0.08171513],\n",
       "       [-0.72463783, -0.73328874,  0.57343268, -1.52308109],\n",
       "       [-0.58231262, -0.57995264, -1.13565946, -0.50048473],\n",
       "       [-0.71539279,  1.09345541,  0.30954583, -0.35496352]])"
      ]
     },
     "execution_count": 10,
     "metadata": {},
     "output_type": "execute_result"
    }
   ],
   "source": [
    "# create random square matrix A with \"np.random.normal\" method\n",
    "A = np.random.normal(size=(4, 4))\n",
    "A"
   ]
  },
  {
   "cell_type": "code",
   "execution_count": 11,
   "metadata": {},
   "outputs": [
    {
     "data": {
      "text/plain": [
       "array([[-0.6817132 , -0.10981555,  0.74421273, -0.42117805],\n",
       "       [-0.33111638, -0.2802774 ,  0.47042657,  0.61555932],\n",
       "       [ 0.26198356,  0.34847388, -1.06913246, -0.04811064],\n",
       "       [ 0.5823912 , -0.33817827, -0.98308535, -0.1140907 ]])"
      ]
     },
     "execution_count": 11,
     "metadata": {},
     "output_type": "execute_result"
    }
   ],
   "source": [
    "# create inverse martix for A\n",
    "A_inv = inv(A)\n",
    "A_inv"
   ]
  },
  {
   "cell_type": "code",
   "execution_count": 12,
   "metadata": {},
   "outputs": [
    {
     "data": {
      "text/plain": [
       "array([[ 1.00000000e+00,  0.00000000e+00, -1.11022302e-16,\n",
       "         0.00000000e+00],\n",
       "       [ 1.11022302e-16,  1.00000000e+00,  0.00000000e+00,\n",
       "         0.00000000e+00],\n",
       "       [ 1.80411242e-16, -5.55111512e-17,  1.00000000e+00,\n",
       "         0.00000000e+00],\n",
       "       [ 0.00000000e+00, -2.77555756e-17,  0.00000000e+00,\n",
       "         1.00000000e+00]])"
      ]
     },
     "execution_count": 12,
     "metadata": {},
     "output_type": "execute_result"
    }
   ],
   "source": [
    "# check the reversibility A\n",
    "A @ A_inv"
   ]
  },
  {
   "cell_type": "markdown",
   "metadata": {},
   "source": [
    "We have a \"w\", which is a solution of an original equation:  \n",
    "$$\n",
    "w = argmin MSE(X * w, y)\n",
    "$$\n",
    "After the multiplication by invertible matrix it became:  \n",
    "$$\n",
    "w = argmin MSE(X * A * w, y)\n",
    "$$\n",
    "So the solution, i.e. argmin, will differ.  \n",
    "Let's denote it with the uppercase W. We want to prove that\n",
    "$$\n",
    "MSE(X * w, y) = MSE(X * A * W, y)\n",
    "$$"
   ]
  },
  {
   "cell_type": "markdown",
   "metadata": {},
   "source": [
    "Main task here is to prove that $W = A^{-1} * w$.\n",
    "    \n",
    "As we know:\n",
    "\n",
    "$$\n",
    "w = (X^T * X)^{-1} * X^T * y \n",
    "$$\n",
    "\n",
    "We can state that:\n",
    "\n",
    "$$\n",
    "W = ((X * A)^T * (X * A))^{-1} * (X * A)^T * y\n",
    "$$\n",
    "\n",
    "Now we can simplify second equation, with taking in consideration that $(X * A)^T = A^T * X^T$, and for square invertible matrices $(A * B)^{-1} = B^{-1} * A^{-1}$. If we do correctly everything at the end we'll receive that $W=A^{-1} * w$ and this will complete our proof."
   ]
  },
  {
   "cell_type": "markdown",
   "metadata": {},
   "source": [
    "Transform W:\n",
    "$$\n",
    "W = ((X * A)^T * (X * A))^{-1} * (X * A)^T * y\n",
    "$$\n",
    "$$\n",
    "W = ((A^T * X^T) * (X * A))^{-1} * A^T * X^T * y\n",
    "$$  \n",
    "\n",
    "delete the brackets  \n",
    "\n",
    "$$\n",
    "W = (A^T * X^T * X * A)^{-1} * A^T * X^T * y\n",
    "$$\n",
    "$$\n",
    "W = A^{-1} * X^{-1} * (X^T)^{-1} * (A^T)^{-1} * A^T * X^T * y\n",
    "$$  \n",
    "\n",
    "where $(A^T)^{-1} * A^T = I$ (identity matrix), therefore:  \n",
    "\n",
    "$$\n",
    "W = A^{-1} * X^{-1} * (X^T)^{-1} * X^T * y\n",
    "$$\n",
    "\n",
    "as we know \n",
    "$$\n",
    "w = (X^T * X)^{-1} * X^T * y \n",
    "$$\n",
    "$$\n",
    "w = X^{-1} * (X^T)^{-1} * X^T * y\n",
    "$$  \n",
    "\n",
    "therefore:  \n",
    "\n",
    "$$\n",
    "W = A^{-1} * w\n",
    "$$  \n",
    "\n",
    "\n",
    "\n",
    "Thereby we have:\n",
    "$$\n",
    "MSE(X * w, y) = MSE(X *A * W, y)\n",
    "$$\n",
    "$$\n",
    "MSE(X * w, y) = MSE(X *A * A^{-1} * w, y)\n",
    "$$\n",
    "$$\n",
    "MSE(X * w, y) = MSE(X * I * w, y)\n",
    "$$\n",
    "$$\n",
    "MSE(X * w, y) = MSE(X * w, y)\n",
    "$$"
   ]
  },
  {
   "cell_type": "markdown",
   "metadata": {},
   "source": [
    "### Step 3. State an algorithm for data transformation to solve the task"
   ]
  },
  {
   "cell_type": "markdown",
   "metadata": {},
   "source": [
    "Before codding we need to state our  algorithm:\n",
    "1.  Calculate MSE without multiplying features by an invertible matrix manually and with sklearn.\n",
    "  - create the model object\n",
    "  - fit our model on the initial features\n",
    "  - predict values\n",
    "  - look at \"w\" and \"r2_score\"\n",
    "  \n",
    "  \n",
    "2.  Calculate MSE with multiplying features by an invertible matrix manually and with sklearn.\n",
    "  - run the loop 10 times (the probability of getting a non-invertible matrix with the numpy.random.normal() function is close to zero, but it's not zero, so we make it just in case)\n",
    "  - create invertible matrix and multiply features by this\n",
    "  - create the model object\n",
    "  - fit our model on the masked features\n",
    "  - predict values\n",
    "  - look at \"w\" and \"r2_score\"\n",
    "  \n",
    "3. Compare results for \"w\" and \"r2_score\" with and without multiplying features by an invertible matrix, manually and with sklearn."
   ]
  },
  {
   "cell_type": "markdown",
   "metadata": {},
   "source": [
    "### Step 4. Program our algorithm using matrix operations."
   ]
  },
  {
   "cell_type": "markdown",
   "metadata": {},
   "source": [
    "*Prepare the features and target.*"
   ]
  },
  {
   "cell_type": "code",
   "execution_count": 13,
   "metadata": {},
   "outputs": [],
   "source": [
    "# create features and target datasets\n",
    "features = df_insurance.drop(['Insurance benefits'], axis=1)\n",
    "target = df_insurance['Insurance benefits']\n",
    "\n",
    "# # split the data into training and validation sets\n",
    "# train_features, test_features, train_target, test_target = train_test_split(\n",
    "#         features, target, test_size=0.25, random_state=12345)"
   ]
  },
  {
   "cell_type": "markdown",
   "metadata": {},
   "source": [
    "*Calculate MSE without multiplying features by an invertible matrix manually and with sklearn*"
   ]
  },
  {
   "cell_type": "markdown",
   "metadata": {},
   "source": [
    "*Manually*"
   ]
  },
  {
   "cell_type": "code",
   "execution_count": 14,
   "metadata": {},
   "outputs": [
    {
     "name": "stdout",
     "output_type": "stream",
     "text": [
      "w (vector) = [ 9.46018141e-03  3.61640081e-02 -1.38991363e-07 -1.42517371e-02]\n",
      "w0 (intercept) = -0.9517099946519595\n",
      "r2_score = 0.4302010044852067\n"
     ]
    }
   ],
   "source": [
    "# Calculate MSE without multiplying features by an invertible matrix\n",
    "class LinearRegression_manual:\n",
    "    def fit(self, train_features, train_target):\n",
    "        X = np.concatenate((np.ones((train_features.shape[0], 1)), train_features), axis=1)\n",
    "        y = train_target\n",
    "        w = inv(X.T.dot(X)).dot(X.T).dot(y)\n",
    "        self.w = w[1:]\n",
    "        self.w0 = w[0]\n",
    "        print('w (vector) =', self.w)\n",
    "        print('w0 (intercept) =', self.w0)\n",
    "\n",
    "    def predict(self, test_features):\n",
    "        return test_features.dot(self.w) + self.w0\n",
    "    \n",
    "model = LinearRegression_manual()\n",
    "model.fit(features, target)\n",
    "predictions = model.predict(features)\n",
    "print('r2_score =', r2_score(target, predictions))"
   ]
  },
  {
   "cell_type": "markdown",
   "metadata": {},
   "source": [
    "*With sklearn*"
   ]
  },
  {
   "cell_type": "code",
   "execution_count": 15,
   "metadata": {},
   "outputs": [
    {
     "name": "stdout",
     "output_type": "stream",
     "text": [
      "w (vector) = [ 9.46018141e-03  3.61640081e-02 -1.38991363e-07 -1.42517371e-02]\n",
      "w0 (intercept) = -0.9517099946520777\n",
      "r2_score = 0.4302010044852067\n"
     ]
    }
   ],
   "source": [
    "# Calculate MSE without multiplying features by an invertible matrix\n",
    "model = LinearRegression()\n",
    "model.fit(features, target)\n",
    "predictions = model.predict(features)\n",
    "\n",
    "print('w (vector) =', model.coef_)\n",
    "print('w0 (intercept) =', model.intercept_)\n",
    "print('r2_score =', r2_score(target, predictions))"
   ]
  },
  {
   "cell_type": "markdown",
   "metadata": {},
   "source": [
    "*Calculate MSE with multiplying features by the invertible matrix manually and with sklearn*"
   ]
  },
  {
   "cell_type": "markdown",
   "metadata": {},
   "source": [
    "*Manually*"
   ]
  },
  {
   "cell_type": "code",
   "execution_count": 16,
   "metadata": {},
   "outputs": [
    {
     "name": "stdout",
     "output_type": "stream",
     "text": [
      "w (vector) = [-0.07213461 -0.05794868  0.11052937  0.01098667]\n",
      "w0 (intercept) = -0.9517099814211265\n",
      "r2_score = 0.43020100448521537\n",
      "\n",
      "w (vector) = [-0.24654445  0.12026551  0.00519018 -0.03125824]\n",
      "w0 (intercept) = -0.951710293758487\n",
      "r2_score = 0.43020100448501675\n",
      "\n",
      "w (vector) = [ 0.00344064 -0.0007698  -0.01758396 -0.01656539]\n",
      "w0 (intercept) = -0.9517100000961233\n",
      "r2_score = 0.4302010044852058\n",
      "\n",
      "w (vector) = [ 0.00961994 -0.00950665  0.01940472 -0.04902053]\n",
      "w0 (intercept) = -0.9517099090662622\n",
      "r2_score = 0.43020100448520626\n",
      "\n",
      "w (vector) = [-0.00564056 -0.00995836  0.06680036 -0.09883677]\n",
      "w0 (intercept) = -0.9517100962904244\n",
      "r2_score = 0.4302010044851614\n",
      "\n",
      "w (vector) = [-0.00777388  0.01503812 -0.00825725  0.01634786]\n",
      "w0 (intercept) = -0.9517099749120339\n",
      "r2_score = 0.43020100448518994\n",
      "\n",
      "w (vector) = [-0.0029261   0.02812531  0.00101895 -0.04242223]\n",
      "w0 (intercept) = -0.9517099962679509\n",
      "r2_score = 0.4302010044851974\n",
      "\n",
      "w (vector) = [-0.08076789 -0.04994454  0.01329929  0.12399754]\n",
      "w0 (intercept) = -0.9517123394952016\n",
      "r2_score = 0.43020100448167986\n",
      "\n",
      "w (vector) = [-0.0064923   0.01751723 -0.00019583 -0.01789988]\n",
      "w0 (intercept) = -0.9517099284901505\n",
      "r2_score = 0.4302010044852036\n",
      "\n",
      "w (vector) = [-0.00146373  0.10596317 -0.16294132 -0.09700523]\n",
      "w0 (intercept) = -0.9517103462713045\n",
      "r2_score = 0.43020100448452914\n",
      "\n"
     ]
    }
   ],
   "source": [
    "# Calculate MSE with multiplying features by the invertible matrix\n",
    "for i in range(10):\n",
    "    # create masked features\n",
    "    features_masked = features.dot(np.random.normal(size=(features.shape[1], features.shape[1])))\n",
    "    \n",
    "    class LinearRegression_manual_inv:\n",
    "        def fit(self, train_features, train_target):\n",
    "            X = np.concatenate((np.ones((train_features.shape[0], 1)), train_features), axis=1)\n",
    "            y = train_target\n",
    "            w = inv(X.T.dot(X)).dot(X.T).dot(y)\n",
    "            self.w = w[1:]\n",
    "            self.w0 = w[0]\n",
    "            print('w (vector) =', self.w)\n",
    "            print('w0 (intercept) =', self.w0)\n",
    "\n",
    "        def predict(self, test_features):\n",
    "            return test_features.dot(self.w) + self.w0\n",
    "\n",
    "\n",
    "    model = LinearRegression_manual_inv()\n",
    "    model.fit(features_masked, target)\n",
    "    predictions = model.predict(features_masked)\n",
    "    print('r2_score =', r2_score(target, predictions))\n",
    "    print()"
   ]
  },
  {
   "cell_type": "markdown",
   "metadata": {},
   "source": [
    "*With sklearn*"
   ]
  },
  {
   "cell_type": "code",
   "execution_count": 17,
   "metadata": {},
   "outputs": [
    {
     "name": "stdout",
     "output_type": "stream",
     "text": [
      "w (vector) = [ 0.04221302 -0.01688502 -0.07965072  0.00992649]\n",
      "w0 (intercept) = -0.9517099946592011\n",
      "r2_score = 0.4302010044852077\n",
      "\n",
      "w (vector) = [-0.02587859 -0.00558751 -0.00175705 -0.01162303]\n",
      "w0 (intercept) = -0.9517099946523799\n",
      "r2_score = 0.4302010044852026\n",
      "\n",
      "w (vector) = [-0.04011361  0.04352781 -0.17087375 -0.11323258]\n",
      "w0 (intercept) = -0.9517099946389649\n",
      "r2_score = 0.430201004485364\n",
      "\n",
      "w (vector) = [-0.00405707  0.02881762  0.00163287  0.03930699]\n",
      "w0 (intercept) = -0.9517099946273688\n",
      "r2_score = 0.4302010044852017\n",
      "\n",
      "w (vector) = [0.23081585 0.16952287 0.26220381 0.11591911]\n",
      "w0 (intercept) = -0.9517099946582916\n",
      "r2_score = 0.4302010044851582\n",
      "\n",
      "w (vector) = [ 1.22590403  0.02083888  0.44824553 -0.05502825]\n",
      "w0 (intercept) = -0.9517099946109979\n",
      "r2_score = 0.43020100448506116\n",
      "\n",
      "w (vector) = [-0.03838392  0.05636368  0.07775791  0.01441605]\n",
      "w0 (intercept) = -0.9517099946532894\n",
      "r2_score = 0.43020100448521814\n",
      "\n",
      "w (vector) = [ 0.01270397  0.01399678  0.00256418 -0.00282896]\n",
      "w0 (intercept) = -0.951709994652252\n",
      "r2_score = 0.4302010044851988\n",
      "\n",
      "w (vector) = [-0.02539193 -0.00153003  0.00606227  0.01280883]\n",
      "w0 (intercept) = -0.9517099946536305\n",
      "r2_score = 0.43020100448519993\n",
      "\n",
      "w (vector) = [ 0.00020778  0.01480837 -0.00236389 -0.01192271]\n",
      "w0 (intercept) = -0.951709994652451\n",
      "r2_score = 0.4302010044852064\n",
      "\n"
     ]
    }
   ],
   "source": [
    "# Calculate MSE with multiplying features by the invertible matrix\n",
    "for i in range(10):\n",
    "    # create masked features\n",
    "    features_masked = features.dot(np.random.normal(size=(features.shape[1], features.shape[1])))\n",
    "    \n",
    "    model = LinearRegression()\n",
    "    model.fit(features_masked, target)\n",
    "    predictions = model.predict(features_masked)\n",
    "\n",
    "    print('w (vector) =', model.coef_)\n",
    "    print('w0 (intercept) =', model.intercept_)\n",
    "    print('r2_score =', r2_score(target, predictions))\n",
    "    print()"
   ]
  },
  {
   "cell_type": "markdown",
   "metadata": {},
   "source": [
    "### Conclusion"
   ]
  },
  {
   "cell_type": "markdown",
   "metadata": {},
   "source": [
    "When we multiplying our features by invertible matrix, we still have the same R2 score, w0 (intercept), but w (vector) is different, because we used masked features for calculation w (vector). Algorithm works good manually and with sklearn."
   ]
  }
 ],
 "metadata": {
  "kernelspec": {
   "display_name": "Python 3",
   "language": "python",
   "name": "python3"
  },
  "language_info": {
   "codemirror_mode": {
    "name": "ipython",
    "version": 3
   },
   "file_extension": ".py",
   "mimetype": "text/x-python",
   "name": "python",
   "nbconvert_exporter": "python",
   "pygments_lexer": "ipython3",
   "version": "3.7.6"
  }
 },
 "nbformat": 4,
 "nbformat_minor": 2
}
