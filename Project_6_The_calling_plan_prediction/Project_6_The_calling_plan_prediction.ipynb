{
 "cells": [
  {
   "cell_type": "markdown",
   "metadata": {},
   "source": [
    "# The calling plan prediction"
   ]
  },
  {
   "cell_type": "markdown",
   "metadata": {},
   "source": [
    "Mobile carrier Megaline has found out that many of their subscribers use legacy plans. We need to develop a model that would analyze subscribers' behavior and recommend one of Megaline's newer plans: Smart or Ultra.  \n",
    "\n",
    "We have access to behavior data about subscribers who have already switched to the new plans. For this classification task, we need to develop a model that will pick the right plan.  \n",
    "\n",
    "The threshold for accuracy is 0.75. Check the accuracy using the test dataset."
   ]
  },
  {
   "cell_type": "markdown",
   "metadata": {},
   "source": [
    "### Step 1. Open the data file and study the general information"
   ]
  },
  {
   "cell_type": "code",
   "execution_count": 1,
   "metadata": {},
   "outputs": [],
   "source": [
    "# import libs\n",
    "import pandas as pd\n",
    "import numpy as np\n",
    "from sklearn.tree import DecisionTreeClassifier\n",
    "from sklearn.ensemble import RandomForestClassifier\n",
    "from sklearn.linear_model import LogisticRegression\n",
    "from sklearn.model_selection import train_test_split\n",
    "from sklearn.metrics import accuracy_score"
   ]
  },
  {
   "cell_type": "markdown",
   "metadata": {},
   "source": [
    "*Read the file with data from \"users_behavior.csv\" and save it to the variable*"
   ]
  },
  {
   "cell_type": "code",
   "execution_count": 2,
   "metadata": {},
   "outputs": [],
   "source": [
    "# read the data\n",
    "df_users_behavior = pd.read_csv('users_behavior.csv')"
   ]
  },
  {
   "cell_type": "markdown",
   "metadata": {},
   "source": [
    "*Print 5 random rows*"
   ]
  },
  {
   "cell_type": "code",
   "execution_count": 3,
   "metadata": {},
   "outputs": [
    {
     "data": {
      "text/html": [
       "<div>\n",
       "<style scoped>\n",
       "    .dataframe tbody tr th:only-of-type {\n",
       "        vertical-align: middle;\n",
       "    }\n",
       "\n",
       "    .dataframe tbody tr th {\n",
       "        vertical-align: top;\n",
       "    }\n",
       "\n",
       "    .dataframe thead th {\n",
       "        text-align: right;\n",
       "    }\n",
       "</style>\n",
       "<table border=\"1\" class=\"dataframe\">\n",
       "  <thead>\n",
       "    <tr style=\"text-align: right;\">\n",
       "      <th></th>\n",
       "      <th>calls</th>\n",
       "      <th>minutes</th>\n",
       "      <th>messages</th>\n",
       "      <th>mb_used</th>\n",
       "      <th>is_ultra</th>\n",
       "    </tr>\n",
       "  </thead>\n",
       "  <tbody>\n",
       "    <tr>\n",
       "      <th>1793</th>\n",
       "      <td>49.0</td>\n",
       "      <td>379.73</td>\n",
       "      <td>24.0</td>\n",
       "      <td>17168.50</td>\n",
       "      <td>0</td>\n",
       "    </tr>\n",
       "    <tr>\n",
       "      <th>512</th>\n",
       "      <td>118.0</td>\n",
       "      <td>796.32</td>\n",
       "      <td>3.0</td>\n",
       "      <td>17905.67</td>\n",
       "      <td>1</td>\n",
       "    </tr>\n",
       "    <tr>\n",
       "      <th>1564</th>\n",
       "      <td>42.0</td>\n",
       "      <td>280.21</td>\n",
       "      <td>0.0</td>\n",
       "      <td>19316.23</td>\n",
       "      <td>0</td>\n",
       "    </tr>\n",
       "    <tr>\n",
       "      <th>3143</th>\n",
       "      <td>69.0</td>\n",
       "      <td>439.39</td>\n",
       "      <td>82.0</td>\n",
       "      <td>19315.86</td>\n",
       "      <td>1</td>\n",
       "    </tr>\n",
       "    <tr>\n",
       "      <th>779</th>\n",
       "      <td>59.0</td>\n",
       "      <td>392.04</td>\n",
       "      <td>0.0</td>\n",
       "      <td>43824.93</td>\n",
       "      <td>1</td>\n",
       "    </tr>\n",
       "  </tbody>\n",
       "</table>\n",
       "</div>"
      ],
      "text/plain": [
       "      calls  minutes  messages   mb_used  is_ultra\n",
       "1793   49.0   379.73      24.0  17168.50         0\n",
       "512   118.0   796.32       3.0  17905.67         1\n",
       "1564   42.0   280.21       0.0  19316.23         0\n",
       "3143   69.0   439.39      82.0  19315.86         1\n",
       "779    59.0   392.04       0.0  43824.93         1"
      ]
     },
     "execution_count": 3,
     "metadata": {},
     "output_type": "execute_result"
    }
   ],
   "source": [
    "df_users_behavior.sample(n=5, random_state=12) # use sample() method"
   ]
  },
  {
   "cell_type": "markdown",
   "metadata": {},
   "source": [
    "*Data description*\n",
    "\n",
    "Every observation in the dataset contains monthly behavior information about one user. The information given is as follows:\n",
    "- сalls — number of calls,\n",
    "- minutes — total call duration in minutes,\n",
    "- messages — number of text messages,\n",
    "- mb_used — internet traffic used in MB,\n",
    "- is_ultra — plan for the current month (Ultra - 1, Smart - 0)."
   ]
  },
  {
   "cell_type": "markdown",
   "metadata": {},
   "source": [
    "*Look at the general information of our dataset*"
   ]
  },
  {
   "cell_type": "code",
   "execution_count": 4,
   "metadata": {},
   "outputs": [
    {
     "name": "stdout",
     "output_type": "stream",
     "text": [
      "<class 'pandas.core.frame.DataFrame'>\n",
      "RangeIndex: 3214 entries, 0 to 3213\n",
      "Data columns (total 5 columns):\n",
      " #   Column    Non-Null Count  Dtype  \n",
      "---  ------    --------------  -----  \n",
      " 0   calls     3214 non-null   float64\n",
      " 1   minutes   3214 non-null   float64\n",
      " 2   messages  3214 non-null   float64\n",
      " 3   mb_used   3214 non-null   float64\n",
      " 4   is_ultra  3214 non-null   int64  \n",
      "dtypes: float64(4), int64(1)\n",
      "memory usage: 125.7 KB\n"
     ]
    }
   ],
   "source": [
    "df_users_behavior.info() # use info() method"
   ]
  },
  {
   "cell_type": "markdown",
   "metadata": {},
   "source": [
    "*Use describe() method for more information*"
   ]
  },
  {
   "cell_type": "code",
   "execution_count": 5,
   "metadata": {},
   "outputs": [
    {
     "data": {
      "text/html": [
       "<div>\n",
       "<style scoped>\n",
       "    .dataframe tbody tr th:only-of-type {\n",
       "        vertical-align: middle;\n",
       "    }\n",
       "\n",
       "    .dataframe tbody tr th {\n",
       "        vertical-align: top;\n",
       "    }\n",
       "\n",
       "    .dataframe thead th {\n",
       "        text-align: right;\n",
       "    }\n",
       "</style>\n",
       "<table border=\"1\" class=\"dataframe\">\n",
       "  <thead>\n",
       "    <tr style=\"text-align: right;\">\n",
       "      <th></th>\n",
       "      <th>calls</th>\n",
       "      <th>minutes</th>\n",
       "      <th>messages</th>\n",
       "      <th>mb_used</th>\n",
       "      <th>is_ultra</th>\n",
       "    </tr>\n",
       "  </thead>\n",
       "  <tbody>\n",
       "    <tr>\n",
       "      <th>count</th>\n",
       "      <td>3214.000000</td>\n",
       "      <td>3214.000000</td>\n",
       "      <td>3214.000000</td>\n",
       "      <td>3214.000000</td>\n",
       "      <td>3214.000000</td>\n",
       "    </tr>\n",
       "    <tr>\n",
       "      <th>mean</th>\n",
       "      <td>63.038892</td>\n",
       "      <td>438.208787</td>\n",
       "      <td>38.281269</td>\n",
       "      <td>17207.673836</td>\n",
       "      <td>0.306472</td>\n",
       "    </tr>\n",
       "    <tr>\n",
       "      <th>std</th>\n",
       "      <td>33.236368</td>\n",
       "      <td>234.569872</td>\n",
       "      <td>36.148326</td>\n",
       "      <td>7570.968246</td>\n",
       "      <td>0.461100</td>\n",
       "    </tr>\n",
       "    <tr>\n",
       "      <th>min</th>\n",
       "      <td>0.000000</td>\n",
       "      <td>0.000000</td>\n",
       "      <td>0.000000</td>\n",
       "      <td>0.000000</td>\n",
       "      <td>0.000000</td>\n",
       "    </tr>\n",
       "    <tr>\n",
       "      <th>25%</th>\n",
       "      <td>40.000000</td>\n",
       "      <td>274.575000</td>\n",
       "      <td>9.000000</td>\n",
       "      <td>12491.902500</td>\n",
       "      <td>0.000000</td>\n",
       "    </tr>\n",
       "    <tr>\n",
       "      <th>50%</th>\n",
       "      <td>62.000000</td>\n",
       "      <td>430.600000</td>\n",
       "      <td>30.000000</td>\n",
       "      <td>16943.235000</td>\n",
       "      <td>0.000000</td>\n",
       "    </tr>\n",
       "    <tr>\n",
       "      <th>75%</th>\n",
       "      <td>82.000000</td>\n",
       "      <td>571.927500</td>\n",
       "      <td>57.000000</td>\n",
       "      <td>21424.700000</td>\n",
       "      <td>1.000000</td>\n",
       "    </tr>\n",
       "    <tr>\n",
       "      <th>max</th>\n",
       "      <td>244.000000</td>\n",
       "      <td>1632.060000</td>\n",
       "      <td>224.000000</td>\n",
       "      <td>49745.730000</td>\n",
       "      <td>1.000000</td>\n",
       "    </tr>\n",
       "  </tbody>\n",
       "</table>\n",
       "</div>"
      ],
      "text/plain": [
       "             calls      minutes     messages       mb_used     is_ultra\n",
       "count  3214.000000  3214.000000  3214.000000   3214.000000  3214.000000\n",
       "mean     63.038892   438.208787    38.281269  17207.673836     0.306472\n",
       "std      33.236368   234.569872    36.148326   7570.968246     0.461100\n",
       "min       0.000000     0.000000     0.000000      0.000000     0.000000\n",
       "25%      40.000000   274.575000     9.000000  12491.902500     0.000000\n",
       "50%      62.000000   430.600000    30.000000  16943.235000     0.000000\n",
       "75%      82.000000   571.927500    57.000000  21424.700000     1.000000\n",
       "max     244.000000  1632.060000   224.000000  49745.730000     1.000000"
      ]
     },
     "execution_count": 5,
     "metadata": {},
     "output_type": "execute_result"
    }
   ],
   "source": [
    "df_users_behavior.describe()"
   ]
  },
  {
   "cell_type": "markdown",
   "metadata": {},
   "source": [
    "*We need to change float64 type for \"calls\" and \"messages\" to int*"
   ]
  },
  {
   "cell_type": "code",
   "execution_count": 6,
   "metadata": {},
   "outputs": [],
   "source": [
    "df_users_behavior['calls'] = df_users_behavior['calls'].astype(int) # use astype() method\n",
    "df_users_behavior['messages'] = df_users_behavior['messages'].astype(int) # use astype() method"
   ]
  },
  {
   "cell_type": "markdown",
   "metadata": {},
   "source": [
    "### Conclusion"
   ]
  },
  {
   "cell_type": "markdown",
   "metadata": {},
   "source": [
    "We have the next data with 3214 rows. The data contains monthly behavior information about one users. Let's start to develop our model."
   ]
  },
  {
   "cell_type": "markdown",
   "metadata": {},
   "source": [
    "### Step 2. Сhoosing the best model"
   ]
  },
  {
   "cell_type": "markdown",
   "metadata": {},
   "source": [
    "*Split \"df_users_behavior_train\" into a training set, a validation set, and a test set.*"
   ]
  },
  {
   "cell_type": "code",
   "execution_count": 7,
   "metadata": {},
   "outputs": [],
   "source": [
    "# use train_test_split() method\n",
    "# df_users_behavior_train, df_users_behavior_valid, = train_test_split(df_users_behavior, test_size=0.2, train_size=0.8, random_state=12345)\n",
    "# df_users_behavior_train, df_users_behavior_test = train_test_split(df_users_behavior_train, test_size = 0.25, train_size =0.75, random_state=12345)\n",
    "\n",
    "# use numpy split() method\n",
    "df_users_behavior_train, df_users_behavior_valid, df_users_behavior_test = (\n",
    "    np.split(df_users_behavior.sample(frac=1, random_state=12345),\n",
    "             [int(.6*len(df_users_behavior)),\n",
    "              int(.8*len(df_users_behavior))])\n",
    ")"
   ]
  },
  {
   "cell_type": "markdown",
   "metadata": {},
   "source": [
    "*Check the dataframes*"
   ]
  },
  {
   "cell_type": "code",
   "execution_count": 8,
   "metadata": {
    "scrolled": true
   },
   "outputs": [
    {
     "name": "stdout",
     "output_type": "stream",
     "text": [
      "59.98755444928439\n",
      "20.00622277535781\n",
      "20.00622277535781\n"
     ]
    }
   ],
   "source": [
    "for i in (df_users_behavior_train.shape[0],\n",
    "          df_users_behavior_valid.shape[0],\n",
    "          df_users_behavior_test.shape[0]):\n",
    "    print(i / df_users_behavior.shape[0] * 100)"
   ]
  },
  {
   "cell_type": "markdown",
   "metadata": {},
   "source": [
    "*Create features and target for the training set, the validation set, and the test set.*"
   ]
  },
  {
   "cell_type": "code",
   "execution_count": 9,
   "metadata": {},
   "outputs": [],
   "source": [
    "features_train = df_users_behavior_train.drop(['is_ultra'], axis=1)\n",
    "target_train = df_users_behavior_train['is_ultra']\n",
    "\n",
    "features_valid = df_users_behavior_valid.drop(['is_ultra'], axis=1)\n",
    "target_valid = df_users_behavior_valid['is_ultra']\n",
    "\n",
    "features_test = df_users_behavior_test.drop(['is_ultra'], axis=1)\n",
    "target_test = df_users_behavior_test['is_ultra']"
   ]
  },
  {
   "cell_type": "markdown",
   "metadata": {},
   "source": [
    "*Train model with \"DecisionTreeClassifier\"*"
   ]
  },
  {
   "cell_type": "code",
   "execution_count": 10,
   "metadata": {},
   "outputs": [
    {
     "data": {
      "text/html": [
       "<div>\n",
       "<style scoped>\n",
       "    .dataframe tbody tr th:only-of-type {\n",
       "        vertical-align: middle;\n",
       "    }\n",
       "\n",
       "    .dataframe tbody tr th {\n",
       "        vertical-align: top;\n",
       "    }\n",
       "\n",
       "    .dataframe thead th {\n",
       "        text-align: right;\n",
       "    }\n",
       "</style>\n",
       "<table border=\"1\" class=\"dataframe\">\n",
       "  <thead>\n",
       "    <tr style=\"text-align: right;\">\n",
       "      <th></th>\n",
       "      <th>max_depth</th>\n",
       "      <th>train_accuracy</th>\n",
       "      <th>valid_accuracy</th>\n",
       "      <th>difference_accurancy</th>\n",
       "    </tr>\n",
       "  </thead>\n",
       "  <tbody>\n",
       "    <tr>\n",
       "      <th>0</th>\n",
       "      <td>1</td>\n",
       "      <td>0.761929</td>\n",
       "      <td>0.721617</td>\n",
       "      <td>0.040312</td>\n",
       "    </tr>\n",
       "    <tr>\n",
       "      <th>0</th>\n",
       "      <td>2</td>\n",
       "      <td>0.794606</td>\n",
       "      <td>0.751166</td>\n",
       "      <td>0.043439</td>\n",
       "    </tr>\n",
       "    <tr>\n",
       "      <th>0</th>\n",
       "      <td>3</td>\n",
       "      <td>0.804461</td>\n",
       "      <td>0.766719</td>\n",
       "      <td>0.037742</td>\n",
       "    </tr>\n",
       "    <tr>\n",
       "      <th>0</th>\n",
       "      <td>4</td>\n",
       "      <td>0.812241</td>\n",
       "      <td>0.774495</td>\n",
       "      <td>0.037746</td>\n",
       "    </tr>\n",
       "    <tr>\n",
       "      <th>0</th>\n",
       "      <td>5</td>\n",
       "      <td>0.825207</td>\n",
       "      <td>0.772939</td>\n",
       "      <td>0.052268</td>\n",
       "    </tr>\n",
       "    <tr>\n",
       "      <th>0</th>\n",
       "      <td>6</td>\n",
       "      <td>0.831950</td>\n",
       "      <td>0.769829</td>\n",
       "      <td>0.062121</td>\n",
       "    </tr>\n",
       "    <tr>\n",
       "      <th>0</th>\n",
       "      <td>7</td>\n",
       "      <td>0.840768</td>\n",
       "      <td>0.760498</td>\n",
       "      <td>0.080270</td>\n",
       "    </tr>\n",
       "    <tr>\n",
       "      <th>0</th>\n",
       "      <td>8</td>\n",
       "      <td>0.849585</td>\n",
       "      <td>0.765163</td>\n",
       "      <td>0.084422</td>\n",
       "    </tr>\n",
       "    <tr>\n",
       "      <th>0</th>\n",
       "      <td>9</td>\n",
       "      <td>0.862552</td>\n",
       "      <td>0.776050</td>\n",
       "      <td>0.086502</td>\n",
       "    </tr>\n",
       "  </tbody>\n",
       "</table>\n",
       "</div>"
      ],
      "text/plain": [
       "   max_depth  train_accuracy  valid_accuracy  difference_accurancy\n",
       "0          1        0.761929        0.721617              0.040312\n",
       "0          2        0.794606        0.751166              0.043439\n",
       "0          3        0.804461        0.766719              0.037742\n",
       "0          4        0.812241        0.774495              0.037746\n",
       "0          5        0.825207        0.772939              0.052268\n",
       "0          6        0.831950        0.769829              0.062121\n",
       "0          7        0.840768        0.760498              0.080270\n",
       "0          8        0.849585        0.765163              0.084422\n",
       "0          9        0.862552        0.776050              0.086502"
      ]
     },
     "execution_count": 10,
     "metadata": {},
     "output_type": "execute_result"
    }
   ],
   "source": [
    "# print('Decision Tree model:')\n",
    "# print()\n",
    "# for depth in range(1, 5):\n",
    "#     model = DecisionTreeClassifier(max_depth=depth, random_state=12345)\n",
    "#     model.fit(features_train, target_train)\n",
    "#     predicted_train = model.predict(features_train)\n",
    "#     predicted_valid = model.predict(features_valid)\n",
    "#     accuracy_train = accuracy_score(target_train, predicted_train)\n",
    "#     accuracy_valid = accuracy_score(target_valid, predicted_valid)\n",
    "#     print('max_depth =', depth)\n",
    "#     print('Training set accuracy =', accuracy_train)\n",
    "#     print('Validation set accuracy =', accuracy_valid)\n",
    "#     print()\n",
    "\n",
    "df_decissiontree = pd.DataFrame() # create dataframe\n",
    "for depth in range(1, 10):\n",
    "    model = DecisionTreeClassifier(max_depth=depth, random_state=12345) # create the model\n",
    "    model.fit(features_train, target_train) # fit the model\n",
    "    score_train = model.score(features_train, target_train) # count the train score\n",
    "    score_valid = model.score(features_valid, target_valid) # count the valid score\n",
    "    dif_accurancy = score_train - score_valid # count the difference\n",
    "    df_decissiontree_temp = pd.DataFrame({'max_depth': [depth], # create temp dataframe with info\n",
    "                                         'train_accuracy': [score_train], # about depth,\n",
    "                                         'valid_accuracy': [score_valid], # accuracy and difference\n",
    "                                         'difference_accurancy': [dif_accurancy]}) \n",
    "    df_decissiontree = df_decissiontree.append(df_decissiontree_temp) # append info to \"df_decissiontree\"\n",
    "\n",
    "df_decissiontree"
   ]
  },
  {
   "cell_type": "markdown",
   "metadata": {},
   "source": [
    "The best result with \"max_depth=4\". We have 0.77 \"valid_accuracy\". And \"difference_accurancy\" is low (0.038) as well."
   ]
  },
  {
   "cell_type": "markdown",
   "metadata": {},
   "source": [
    "*Train model with \"RandomForestClassifier\"*"
   ]
  },
  {
   "cell_type": "code",
   "execution_count": 11,
   "metadata": {},
   "outputs": [
    {
     "data": {
      "text/html": [
       "<div>\n",
       "<style scoped>\n",
       "    .dataframe tbody tr th:only-of-type {\n",
       "        vertical-align: middle;\n",
       "    }\n",
       "\n",
       "    .dataframe tbody tr th {\n",
       "        vertical-align: top;\n",
       "    }\n",
       "\n",
       "    .dataframe thead th {\n",
       "        text-align: right;\n",
       "    }\n",
       "</style>\n",
       "<table border=\"1\" class=\"dataframe\">\n",
       "  <thead>\n",
       "    <tr style=\"text-align: right;\">\n",
       "      <th></th>\n",
       "      <th>n_estimators</th>\n",
       "      <th>train_accuracy</th>\n",
       "      <th>valid_accuracy</th>\n",
       "      <th>difference_accurancy</th>\n",
       "    </tr>\n",
       "  </thead>\n",
       "  <tbody>\n",
       "    <tr>\n",
       "      <th>0</th>\n",
       "      <td>1</td>\n",
       "      <td>0.899378</td>\n",
       "      <td>0.729393</td>\n",
       "      <td>0.169984</td>\n",
       "    </tr>\n",
       "    <tr>\n",
       "      <th>0</th>\n",
       "      <td>2</td>\n",
       "      <td>0.902490</td>\n",
       "      <td>0.735614</td>\n",
       "      <td>0.166875</td>\n",
       "    </tr>\n",
       "    <tr>\n",
       "      <th>0</th>\n",
       "      <td>3</td>\n",
       "      <td>0.949170</td>\n",
       "      <td>0.738725</td>\n",
       "      <td>0.210445</td>\n",
       "    </tr>\n",
       "    <tr>\n",
       "      <th>0</th>\n",
       "      <td>4</td>\n",
       "      <td>0.942946</td>\n",
       "      <td>0.755832</td>\n",
       "      <td>0.187114</td>\n",
       "    </tr>\n",
       "    <tr>\n",
       "      <th>0</th>\n",
       "      <td>5</td>\n",
       "      <td>0.971473</td>\n",
       "      <td>0.766719</td>\n",
       "      <td>0.204755</td>\n",
       "    </tr>\n",
       "    <tr>\n",
       "      <th>0</th>\n",
       "      <td>6</td>\n",
       "      <td>0.961100</td>\n",
       "      <td>0.780715</td>\n",
       "      <td>0.180384</td>\n",
       "    </tr>\n",
       "    <tr>\n",
       "      <th>0</th>\n",
       "      <td>7</td>\n",
       "      <td>0.976141</td>\n",
       "      <td>0.772939</td>\n",
       "      <td>0.203202</td>\n",
       "    </tr>\n",
       "    <tr>\n",
       "      <th>0</th>\n",
       "      <td>8</td>\n",
       "      <td>0.971992</td>\n",
       "      <td>0.780715</td>\n",
       "      <td>0.191276</td>\n",
       "    </tr>\n",
       "    <tr>\n",
       "      <th>0</th>\n",
       "      <td>9</td>\n",
       "      <td>0.987552</td>\n",
       "      <td>0.777605</td>\n",
       "      <td>0.209947</td>\n",
       "    </tr>\n",
       "  </tbody>\n",
       "</table>\n",
       "</div>"
      ],
      "text/plain": [
       "   n_estimators  train_accuracy  valid_accuracy  difference_accurancy\n",
       "0             1        0.899378        0.729393              0.169984\n",
       "0             2        0.902490        0.735614              0.166875\n",
       "0             3        0.949170        0.738725              0.210445\n",
       "0             4        0.942946        0.755832              0.187114\n",
       "0             5        0.971473        0.766719              0.204755\n",
       "0             6        0.961100        0.780715              0.180384\n",
       "0             7        0.976141        0.772939              0.203202\n",
       "0             8        0.971992        0.780715              0.191276\n",
       "0             9        0.987552        0.777605              0.209947"
      ]
     },
     "execution_count": 11,
     "metadata": {},
     "output_type": "execute_result"
    }
   ],
   "source": [
    "df_randomforest = pd.DataFrame() # create dataframe\n",
    "for est in range(1, 10):\n",
    "    model = RandomForestClassifier(n_estimators=est, random_state=12345) # create the model\n",
    "    model.fit(features_train, target_train) # fit the model\n",
    "    score_train = model.score(features_train, target_train) # count the train score\n",
    "    score_valid = model.score(features_valid, target_valid) # count the valid score\n",
    "    dif_accurancy = score_train - score_valid # count the difference\n",
    "    df_randomforest_temp = pd.DataFrame({'n_estimators': [est], # create temp dataframe with info\n",
    "                                         'train_accuracy': [score_train], # about n_estimators,\n",
    "                                         'valid_accuracy': [score_valid], # accuracy and difference\n",
    "                                         'difference_accurancy': [dif_accurancy]}) \n",
    "    df_randomforest = df_randomforest.append(df_randomforest_temp) # append info to \"df_randomforest\"\n",
    "\n",
    "df_randomforest"
   ]
  },
  {
   "cell_type": "markdown",
   "metadata": {},
   "source": [
    "We are dealing with overfitting here. \"difference_accurancy\" is from 0.16 to 0.20."
   ]
  },
  {
   "cell_type": "markdown",
   "metadata": {},
   "source": [
    "*Train model with \"LogisticRegression\"*"
   ]
  },
  {
   "cell_type": "code",
   "execution_count": 12,
   "metadata": {},
   "outputs": [
    {
     "name": "stdout",
     "output_type": "stream",
     "text": [
      "Logistic Regression model:\n",
      "\n",
      "train_accuracy = 0.7510373443983402\n",
      "valid_accuracy = 0.713841368584759\n",
      "dif_accurancy = 0.03719597581358125\n"
     ]
    }
   ],
   "source": [
    "print('Logistic Regression model:')\n",
    "print()\n",
    "model = LogisticRegression(random_state=12345, solver='lbfgs') # create the model\n",
    "model.fit(features_train, target_train) # fit the model\n",
    "score_train = model.score(features_train, target_train) # count the train score\n",
    "score_valid = model.score(features_valid, target_valid) # count the valid score\n",
    "dif_accurancy = score_train - score_valid # count the difference\n",
    "print('train_accuracy =', score_train)\n",
    "print('valid_accuracy =', score_valid)\n",
    "print('dif_accurancy =', dif_accurancy)\n"
   ]
  },
  {
   "cell_type": "markdown",
   "metadata": {},
   "source": [
    "We have good \"dif_accurancy\". But \"valid_accuracy\" isn't enough."
   ]
  },
  {
   "cell_type": "markdown",
   "metadata": {},
   "source": [
    "### Conclusion"
   ]
  },
  {
   "cell_type": "markdown",
   "metadata": {},
   "source": [
    "Thus \"DecisionTreeClassifier\" with \"max_depth=4\" has the best result for us. "
   ]
  },
  {
   "cell_type": "markdown",
   "metadata": {},
   "source": [
    "### Step 3. Check the quality of the model"
   ]
  },
  {
   "cell_type": "markdown",
   "metadata": {},
   "source": [
    "*Check the quality of the model using the test set.*"
   ]
  },
  {
   "cell_type": "code",
   "execution_count": 13,
   "metadata": {},
   "outputs": [
    {
     "data": {
      "text/plain": [
       "0.7900466562986003"
      ]
     },
     "execution_count": 13,
     "metadata": {},
     "output_type": "execute_result"
    }
   ],
   "source": [
    "model = DecisionTreeClassifier(max_depth=4, random_state=12345) # create model\n",
    "model.fit(features_train, target_train) # fit the model\n",
    "score_test = model.score(features_test, target_test) # count the test score\n",
    "score_test"
   ]
  },
  {
   "cell_type": "markdown",
   "metadata": {},
   "source": [
    "### Conclusion"
   ]
  },
  {
   "cell_type": "markdown",
   "metadata": {},
   "source": [
    "This's good accuracy."
   ]
  },
  {
   "cell_type": "markdown",
   "metadata": {},
   "source": [
    "### Step 4. Overall conclusion"
   ]
  },
  {
   "cell_type": "markdown",
   "metadata": {},
   "source": [
    "*The main task:*\n",
    "\n",
    "For classification task, we need to develop a model that will pick the right plan.\n",
    "\n",
    "*Conclusion:*"
   ]
  },
  {
   "cell_type": "markdown",
   "metadata": {},
   "source": [
    "We have identified that \"DecisionTreeClassifier\" with \"max_depth=4\" is the best model for our conditions."
   ]
  }
 ],
 "metadata": {
  "kernelspec": {
   "display_name": "Python 3",
   "language": "python",
   "name": "python3"
  },
  "language_info": {
   "codemirror_mode": {
    "name": "ipython",
    "version": 3
   },
   "file_extension": ".py",
   "mimetype": "text/x-python",
   "name": "python",
   "nbconvert_exporter": "python",
   "pygments_lexer": "ipython3",
   "version": "3.7.6"
  }
 },
 "nbformat": 4,
 "nbformat_minor": 2
}
